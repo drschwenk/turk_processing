{
 "cells": [
  {
   "cell_type": "markdown",
   "metadata": {
    "heading_collapsed": true
   },
   "source": [
    "# Table of Contents\n",
    "* [Submitting HITs](#Submitting-HITs)\n",
    "\t* [Building URLs for images on s3](#Building-URLs-for-images-on-s3)\n",
    "\t* [submitting HITs in groups](#submitting-HITs-in-groups)\n",
    "\t\t* [creates HITs, careful with this one](#creates-HITs,-careful-with-this-one)\n",
    "* [Reviewing latest HITs](#Reviewing-latest-HITs)\n",
    "\t* [download](#download)\n",
    "\t* [process](#process)\n",
    "\t* [clustering](#clustering)\n",
    "\t\t* [The two commands above interact with mechanical turk and can take a while](#The-two-commands-above-interact-with-mechanical-turk-and-can-take-a-while)\n",
    "* [Merging latest round of HITs into combined dataset](#Merging-latest-round-of-HITs-into-combined-dataset)\n",
    "\t* [Load previously pickled results](#Load-previously-pickled-results)\n",
    "\t* [Load prior complete dataset if not in memory](#Load-prior-complete-dataset-if-not-in-memory)\n",
    "\t* [Updating full dataset](#Updating-full-dataset)\n",
    "\t* [Working with full dataset](#Working-with-full-dataset)\n",
    "\t\t* [worker specific](#worker-specific)\n",
    "\t\t* [Reviewing full dataset](#Reviewing-full-dataset)\n",
    "\t\t* [Sanitizing results- questions marked as answers](#Sanitizing-results--questions-marked-as-answers)\n",
    "* [Worker analysis](#Worker-analysis)\n",
    "\t* [Basic worker stats](#Basic-worker-stats)\n",
    "\t\t* [HIT duration for pricing](#HIT-duration-for-pricing)\n",
    "\t* [Identifying high and low consensus workers](#Identifying-high-and-low-consensus-workers)\n",
    "\t* [Messaging workers](#Messaging-workers)\n",
    "* [HIT end-of-life](#HIT-end-of-life)\n",
    "\t* [Pickle latest results](#Pickle-latest-results)\n",
    "\t* [Pickle combined dataset](#Pickle-combined-dataset)\n",
    "\t* [Accepting and deleting HITs... careful with these](#Accepting-and-deleting-HITs...-careful-with-these)\n",
    "* [End](#End)\n"
   ]
  },
  {
   "cell_type": "code",
   "execution_count": 419,
   "metadata": {
    "collapsed": false,
    "hidden": true,
    "run_control": {
     "frozen": false,
     "read_only": false
    }
   },
   "outputs": [],
   "source": [
    "%%capture\n",
    "from __future__ import division\n",
    "import numpy as np\n",
    "import pandas as pd\n",
    "import scipy.stats as st\n",
    "import itertools\n",
    "import math\n",
    "from collections import Counter, defaultdict\n",
    "%load_ext autoreload\n",
    "%autoreload 2\n",
    "\n",
    "import matplotlib as mpl\n",
    "mpl.use(\"Agg\")\n",
    "import matplotlib.pylab as plt\n",
    "#%matplotlib notebook\n",
    "%matplotlib inline\n",
    "%load_ext base16_mplrc\n",
    "%base16_mplrc light default\n",
    "plt.rcParams['figure.figsize'] = (16.0, 10.0)\n",
    "\n",
    "import re\n",
    "from datetime import datetime\n",
    "import dateutil.parser as dt_parse\n",
    "import pickle\n",
    "import boto\n",
    "import json\n",
    "import os\n",
    "\n",
    "from copy import deepcopy\n",
    "import boto.mturk.connection as tc\n",
    "import boto.mturk.question as tq\n",
    "from boto.mturk.qualification import PercentAssignmentsApprovedRequirement, Qualifications, Requirement\n",
    "\n",
    "from keysTkingdom import mturk_ai2\n",
    "from keysTkingdom import aws_tokes\n",
    "\n",
    "import pdfextraction.amt_boto_modules as amt_util"
   ]
  },
  {
   "cell_type": "markdown",
   "metadata": {
    "heading_collapsed": true
   },
   "source": [
    "# Submitting HITs"
   ]
  },
  {
   "cell_type": "markdown",
   "metadata": {
    "hidden": true
   },
   "source": [
    "## Building URLs for images on s3"
   ]
  },
  {
   "cell_type": "code",
   "execution_count": 206,
   "metadata": {
    "collapsed": true,
    "hidden": true,
    "run_control": {
     "frozen": false,
     "read_only": false
    }
   },
   "outputs": [],
   "source": [
    "turk_data_flat_dir = '/Users/schwenk/wrk/stb/ai2-vision-textbook-dataset/diagrams/turk_data'"
   ]
  },
  {
   "cell_type": "code",
   "execution_count": 208,
   "metadata": {
    "collapsed": false,
    "hidden": true,
    "run_control": {
     "frozen": false,
     "read_only": false
    }
   },
   "outputs": [],
   "source": [
    "diagram_image_names = os.listdir(turk_data_flat_dir)"
   ]
  },
  {
   "cell_type": "code",
   "execution_count": 216,
   "metadata": {
    "collapsed": false,
    "hidden": true,
    "run_control": {
     "frozen": false,
     "read_only": false
    }
   },
   "outputs": [],
   "source": [
    "def make_hit_url(image_cat, image_name, task):\n",
    "    task_urls = {\n",
    "        'loc': \"https://s3.amazonaws.com/ai2-vision-textbook-dataset/diagrams/annotation/loc/image_text_box_region_labeling.html?\",\n",
    "        'recog': \"https://s3.amazonaws.com/ai2-vision-textbook-dataset/diagrams/annotation/recog/image_text_recognition.html?\"\n",
    "        }\n",
    "    hit_url = task_urls[task] + 'category-image={},{}'.format(image_cat, image_name)\n",
    "    return hit_url"
   ]
  },
  {
   "cell_type": "code",
   "execution_count": 217,
   "metadata": {
    "collapsed": false,
    "hidden": true,
    "run_control": {
     "frozen": false,
     "read_only": false
    }
   },
   "outputs": [],
   "source": [
    "task_type = 'loc'\n",
    "hit_urls = [make_hit_url(task_type, image_name, task_type) for image_name in diagram_image_names]"
   ]
  },
  {
   "cell_type": "code",
   "execution_count": 255,
   "metadata": {
    "collapsed": false,
    "hidden": true,
    "run_control": {
     "frozen": false,
     "read_only": false
    }
   },
   "outputs": [
    {
     "data": {
      "text/plain": [
       "2334"
      ]
     },
     "execution_count": 255,
     "metadata": {},
     "output_type": "execute_result"
    }
   ],
   "source": [
    "len(hit_urls)"
   ]
  },
  {
   "cell_type": "markdown",
   "metadata": {
    "heading_collapsed": true,
    "hidden": true
   },
   "source": [
    "## submitting HITs in groups"
   ]
  },
  {
   "cell_type": "code",
   "execution_count": 1753,
   "metadata": {
    "collapsed": false,
    "hidden": true,
    "run_control": {
     "frozen": false,
     "read_only": false
    }
   },
   "outputs": [
    {
     "name": "stdout",
     "output_type": "stream",
     "text": [
      "$75.13\n"
     ]
    }
   ],
   "source": [
    "## Switch between sandbox and the real world here ##\n",
    "## DON'T FORGET to change submission POST request in the client ##\n",
    "\n",
    "sandbox_host = 'mechanicalturk.sandbox.amazonaws.com' \n",
    "real_world_host = 'mechanicalturk.amazonaws.com'\n",
    "mturk = tc.MTurkConnection(\n",
    "    aws_access_key_id = aws_tokes.access_key,\n",
    "    aws_secret_access_key = aws_tokes.access_secret_key,\n",
    "    host = real_world_host,\n",
    "    debug = 1 # debug = 2 prints out all requests.\n",
    ")\n",
    "current_account_balance = mturk.get_account_balance()[0]\n",
    "print current_account_balance # a reminder of sandbox"
   ]
  },
  {
   "cell_type": "code",
   "execution_count": 231,
   "metadata": {
    "collapsed": false,
    "hidden": true,
    "run_control": {
     "frozen": false,
     "read_only": false
    }
   },
   "outputs": [],
   "source": [
    "static_params = {\n",
    "    'title': \"Locate Text in Science Diagrams\",\n",
    "    'description': \"Draw boxes around text in an image\",\n",
    "    'keywords': ['image', 'science', 'text', 'bounding boxes' ],\n",
    "    'frame_height': 800,\n",
    "    'amount': 0.03,\n",
    "    'duration': 3600 * 12,\n",
    "    'lifetime': 3600 * 24 * 3,\n",
    "    'max_assignments': 3\n",
    "}"
   ]
  },
  {
   "cell_type": "code",
   "execution_count": 1131,
   "metadata": {
    "collapsed": false,
    "hidden": true,
    "run_control": {
     "frozen": false,
     "read_only": false
    }
   },
   "outputs": [
    {
     "data": {
      "text/plain": [
       "2332"
      ]
     },
     "execution_count": 1131,
     "metadata": {},
     "output_type": "execute_result"
    }
   ],
   "source": [
    "len(images_to_submit)"
   ]
  },
  {
   "cell_type": "code",
   "execution_count": 1135,
   "metadata": {
    "collapsed": false,
    "hidden": true,
    "run_control": {
     "frozen": false,
     "read_only": false
    }
   },
   "outputs": [
    {
     "data": {
      "text/plain": [
       "3535.4500000000003"
      ]
     },
     "execution_count": 1135,
     "metadata": {},
     "output_type": "execute_result"
    }
   ],
   "source": [
    "results_df.shape[0] /5 * 5 *.05\n"
   ]
  },
  {
   "cell_type": "code",
   "execution_count": 1130,
   "metadata": {
    "collapsed": false,
    "hidden": true,
    "run_control": {
     "frozen": false,
     "read_only": false
    }
   },
   "outputs": [
    {
     "name": "stdout",
     "output_type": "stream",
     "text": [
      "209.88\n"
     ]
    }
   ],
   "source": [
    "expected_cost = len(images_to_submit) *  static_params['amount'] * static_params['max_assignments']\n",
    "print expected_cost"
   ]
  },
  {
   "cell_type": "markdown",
   "metadata": {
    "hidden": true
   },
   "source": [
    "### creates HITs, careful with this one"
   ]
  },
  {
   "cell_type": "code",
   "execution_count": 236,
   "metadata": {
    "collapsed": false,
    "hidden": true,
    "run_control": {
     "frozen": false,
     "read_only": false
    }
   },
   "outputs": [
    {
     "name": "stdout",
     "output_type": "stream",
     "text": [
      "expect this batch of HITs to cost: $209.88\n"
     ]
    }
   ],
   "source": [
    "images_to_submit = hit_urls[2:]\n",
    "expected_cost = len(images_to_submit) *  static_params['amount'] * static_params['max_assignments']\n",
    "if float(current_account_balance.amount) < expected_cost:\n",
    "    print('WARNING -- account balance is too low -- WARNING')\n",
    "print('expect this batch of HITs to cost: $' + str(expected_cost))"
   ]
  },
  {
   "cell_type": "markdown",
   "metadata": {
    "hidden": true
   },
   "source": [
    "uncomment cell below only when ready to submit"
   ]
  },
  {
   "cell_type": "code",
   "execution_count": 237,
   "metadata": {
    "code_folding": [],
    "collapsed": false,
    "hidden": true,
    "run_control": {
     "frozen": false,
     "read_only": false
    }
   },
   "outputs": [],
   "source": [
    "# amt_util.create_hits_from_pages(mturk, images_to_submit, static_params)"
   ]
  },
  {
   "cell_type": "markdown",
   "metadata": {},
   "source": [
    "# Reviewing latest HITs"
   ]
  },
  {
   "cell_type": "markdown",
   "metadata": {},
   "source": [
    "## download"
   ]
  },
  {
   "cell_type": "code",
   "execution_count": 1783,
   "metadata": {
    "collapsed": false,
    "run_control": {
     "frozen": false,
     "read_only": false
    }
   },
   "outputs": [],
   "source": [
    "r_hits_current_batch = amt_util.get_completed_hits(mturk)\n",
    "assignment_results_current_batch = amt_util.get_assignments(mturk, r_hits_current_batch)"
   ]
  },
  {
   "cell_type": "code",
   "execution_count": 1784,
   "metadata": {
    "collapsed": false,
    "run_control": {
     "frozen": false,
     "read_only": false
    }
   },
   "outputs": [
    {
     "data": {
      "text/plain": [
       "3671"
      ]
     },
     "execution_count": 1784,
     "metadata": {},
     "output_type": "execute_result"
    }
   ],
   "source": [
    "len(assignment_results_current_batch)"
   ]
  },
  {
   "cell_type": "code",
   "execution_count": 1757,
   "metadata": {
    "collapsed": false
   },
   "outputs": [
    {
     "data": {
      "text/plain": [
       "11013"
      ]
     },
     "execution_count": 1757,
     "metadata": {},
     "output_type": "execute_result"
    }
   ],
   "source": [
    "len(assignment_results_current_batch) * 3"
   ]
  },
  {
   "cell_type": "markdown",
   "metadata": {},
   "source": [
    "## process"
   ]
  },
  {
   "cell_type": "code",
   "execution_count": 1786,
   "metadata": {
    "collapsed": false,
    "run_control": {
     "frozen": false,
     "read_only": false
    }
   },
   "outputs": [
    {
     "name": "stdout",
     "output_type": "stream",
     "text": [
      "current assignment statuses\n",
      "Approved    10776\n",
      "Rejected      237\n",
      "dtype: int64\n"
     ]
    }
   ],
   "source": [
    "print 'current assignment statuses'\n",
    "print amt_util.get_assignment_statuses(assignment_results_current_batch)"
   ]
  },
  {
   "cell_type": "code",
   "execution_count": 1675,
   "metadata": {
    "collapsed": true,
    "run_control": {
     "frozen": false,
     "read_only": false
    }
   },
   "outputs": [],
   "source": [
    "submitted_assignments = defaultdict(list)\n",
    "for hitid, assignments in assignment_results_current_batch.items():\n",
    "    for assignment in assignments:\n",
    "        if assignment.AssignmentStatus == 'Submitted':\n",
    "            submitted_assignments[hitid].append(assignment)"
   ]
  },
  {
   "cell_type": "code",
   "execution_count": 1676,
   "metadata": {
    "collapsed": false,
    "run_control": {
     "frozen": false,
     "read_only": false
    }
   },
   "outputs": [
    {
     "data": {
      "text/plain": [
       "2330"
      ]
     },
     "execution_count": 1676,
     "metadata": {},
     "output_type": "execute_result"
    }
   ],
   "source": [
    "len(submitted_assignments)"
   ]
  },
  {
   "cell_type": "code",
   "execution_count": 258,
   "metadata": {
    "collapsed": false,
    "run_control": {
     "frozen": false,
     "read_only": false
    }
   },
   "outputs": [
    {
     "data": {
      "text/plain": [
       "3    2330\n",
       "dtype: int64"
      ]
     },
     "execution_count": 258,
     "metadata": {},
     "output_type": "execute_result"
    }
   ],
   "source": [
    "als = pd.Series([len(sas) for sas in submitted_assignments.values()])\n",
    "als.value_counts()"
   ]
  },
  {
   "cell_type": "code",
   "execution_count": null,
   "metadata": {
    "collapsed": true,
    "run_control": {
     "frozen": false,
     "read_only": false
    }
   },
   "outputs": [],
   "source": [
    "submitted_assignments"
   ]
  },
  {
   "cell_type": "code",
   "execution_count": 251,
   "metadata": {
    "collapsed": false,
    "run_control": {
     "frozen": false,
     "read_only": false
    }
   },
   "outputs": [
    {
     "data": {
      "text/plain": [
       "<boto.mturk.connection.Assignment at 0x10fbc4710>"
      ]
     },
     "execution_count": 251,
     "metadata": {},
     "output_type": "execute_result"
    }
   ],
   "source": [
    "assignment_results_current_batch.values()[0][0]"
   ]
  },
  {
   "cell_type": "code",
   "execution_count": 1691,
   "metadata": {
    "collapsed": false
   },
   "outputs": [],
   "source": [
    "assigment_worker_lookup = {}\n",
    "for hit_id, hit_assignments in assignment_results_current_batch.items():\n",
    "        for assignment in hit_assignments:\n",
    "            assigment_worker_lookup[assignment.AssignmentId]  = assignment.WorkerId"
   ]
  },
  {
   "cell_type": "code",
   "execution_count": 1692,
   "metadata": {
    "collapsed": true
   },
   "outputs": [
    {
     "data": {
      "text/plain": [
       "{u'3OWEPKL089DQWB8HGYB75UPR57RN7D': u'A3B0AB2C9SIHN',\n",
       " u'3JC6VJ2SABK4PO09J1R5L4RVFU25A1': u'A310C0NYCR23L',\n",
       " u'3QAVNHZ3EM5IRD3UBO7C2TNSP05ALH': u'A3OKWRLKLYVH4F',\n",
       " u'3DY4FPOOA1PDMZ15R3V4KSA4SLHRVP': u'APLQSM4J9E6LR',\n",
       " u'3N1FSUEFL51KRCZLP6ZX6DTN01HD4J': u'A3UNUH7D8FKJ3L',\n",
       " u'3VA45EW49NOU3ATRSXUBJ9YJSVYO1Y': u'A13LXDXAWD5DSY',\n",
       " u'3AQF3RZ558JV4JHVZ0N2RBGM8516F6': u'ANBTNIM08969Z',\n",
       " u'3X3OR7WPZZ148PAFEQNY62HXZC78LD': u'A3GNQDFPZALU92',\n",
       " u'31HQ4X3T3SBMR9POSOT3NTHYNQHLS9': u'A3UNUH7D8FKJ3L',\n",
       " u'36W0OB37HWFH6PSCWV8DRULUTOWZH9': u'AM1HY736BY3Z8',\n",
       " u'3W92K5RLWUIOHC37UWI1HR5804GV55': u'A3BPUFEFCW0M09',\n",
       " u'3DPNQGW4LLGL63K6FJRJ07JVJFH465': u'A3VHE7IS4AV96D',\n",
       " u'3TVRFO09GKGUNQBNMYZQM1YQ25DLXB': u'A13LXDXAWD5DSY',\n",
       " u'3FFJ6VRIL1PK0ZX6YJD6L7JNBUWI0X': u'A2LMQ4497NMK3S',\n",
       " u'37QW5D2ZRGNRC255YZKZIOVS3QGS8S': u'A3GCAKQMGAU3ML',\n",
       " u'3R2UR8A0IAH2TBEKZQFIEI2KXAROX4': u'AM1HY736BY3Z8',\n",
       " u'3VNXK88KKCJ7IZ5JXMVIT7AAM029VD': u'A1RC17FXGMK03J',\n",
       " u'3X65QVEQI0O6KS0SV2338ODGRC9CLO': u'A3LD1G3R5NOVYH',\n",
       " u'3NGI5ARFTT6COA5S7X7Q8939QGU1PC': u'A2MIOF3QNY3Y70',\n",
       " u'3AWETUDC92TH2K3W2DQYR6M9T1DZI4': u'A13LXDXAWD5DSY',\n",
       " u'379J5II41OHLHQK6RT9YYCDJMZ8EL1': u'A2HP328OQSJ253',\n",
       " u'3S3AMIZX3U6NMGC0IL5FPB5BSDADC6': u'A3TXJLD6JNR280',\n",
       " u'3IKZ72A5B4H3B4NNYH9JTM283VPNFW': u'A3O5R61IF9YJNF',\n",
       " u'37QW5D2ZRGNRC255YZKZIOVSR6AS86': u'AL8NYDL4JOYL3',\n",
       " u'392CY0QWG1S1ZNF7HK08XA90S6SI4T': u'A2LMQ4497NMK3S',\n",
       " u'3F0BG9B9MPOK8ACVN0KIMANYX707YC': u'A1E56264OK9UN5',\n",
       " u'3C6FJU71TQUM6LOR08DTW21I7RLYUD': u'A1EQ2HDHF2WWSY',\n",
       " u'39LNWE0K4UX0GL9MWQRQAE7URJ3IU3': u'A1T1FK3P2N408U',\n",
       " u'3TE22NPXPBD7RGGSWVY439ZHNON44W': u'A13PFEJFK3DI9B',\n",
       " u'3WYP994K17S14AYQ4QFQGWN2EGQY6U': u'A1IM9SPV7X9P6W',\n",
       " u'3UWN2HHPUY6CF9S9419I0LLNG12NSI': u'ASB8T0H7L99RF',\n",
       " u'3JWH6J9I9SEDYNB7TFNNAWBNOXZBN4': u'A198X28FHY2OY0',\n",
       " u'32SVAV9L3FA1B9D55I3C67TB1Y93A7': u'A1RC17FXGMK03J',\n",
       " u'39GXDJN2OTF74UM9SUP4TBFZ2UE8VH': u'A2LMQ4497NMK3S',\n",
       " u'3WJ1OXY92AHNC6JBHZY8XO1M502A8R': u'A2MIOF3QNY3Y70',\n",
       " u'31QTRG6Q2TE9EGGVJMEZMWEJ9LNPYY': u'AM1HY736BY3Z8',\n",
       " u'3MRNMEIQW57GPK66VYYESUVYMNZLD7': u'A1017VP86SLXRB',\n",
       " u'3EO896NRAWWHBJE3E3MGHJ0SLKUTJ8': u'A5U57T08BOCSK',\n",
       " u'34X6J5FLPTZ4J3MBXZSLCEP5PTMQJ2': u'A2MIOF3QNY3Y70',\n",
       " u'3P1L2B7AD1Q7THXVL7CU3O7XQ15LO3': u'A13LXDXAWD5DSY',\n",
       " u'3VNL7UK1XFK16HS7VDVV2L80GT2TFE': u'ARQYCKZLIPXFH',\n",
       " u'3LPW2N6LKT3O4XE7P68WL53PCMHU5T': u'ABC9U6U3JAG4U',\n",
       " u'3C8HJ7UOP7V3Y3TNNSOQJZTQAA4ZMR': u'A3VHE7IS4AV96D',\n",
       " u'3HMIGG0U4L7O8OHEX5CO0AJTKB7Y87': u'A23ON1ND7B1NE8',\n",
       " u'3TXWC2NHNZRRQ7OF3RQDIKQ3NWWS9F': u'A3TUV36R7RR04T',\n",
       " u'3KXIR214I4HXO215SHFGAU2JRQH42A': u'A2MIOF3QNY3Y70',\n",
       " u'3VZLGYJEYLBESFSR1ZQZUG9OHEOXZ9': u'A154D85W3BLY4U',\n",
       " u'30IQTZXKAK7HQUM1X5D7OH62Z7X0XC': u'A25YG9M911WA3T',\n",
       " u'3YZ8UPK3VTN93INM4GV4ZB9ZEEBCUN': u'A33OHVP7CMJ4KU',\n",
       " u'34X6J5FLPTZ4J3MBXZSLCEP51DRQJN': u'AM1HY736BY3Z8',\n",
       " u'3II4UPYCOJ8RGHMJN36A9GUSWTFQDU': u'A33OHVP7CMJ4KU',\n",
       " u'3VE8AYVF8MYI8X0JSFK0BPCDE0DF8N': u'AM1HY736BY3Z8',\n",
       " u'3FTYUGLFSUM2NV3L3BI7B5Z1QMK5DS': u'A2R819T7EYBI95',\n",
       " u'3COPXFW7XBDEUBREF7D8DOZ8ZM1KP5': u'ARQYCKZLIPXFH',\n",
       " u'3QIYRE09Y3ICLPTFRIUY4KYEQ1W1NJ': u'A32AUS7ZYWFXYC',\n",
       " u'3AAPLD8UCCILKDJDQ3JV56KD8SQHTR': u'A3TUV36R7RR04T',\n",
       " u'3D3VGR7TA0GTAQZM7TPY1XILPIS3RU': u'A38DC3BG1ZCVZ2',\n",
       " u'3K4J6M3CXEU25LPT0XAWP1IK53TGA7': u'A3TUV36R7RR04T',\n",
       " u'3PPTZCWALQLUJIRFFLV708DVKBNQZR': u'A16PK8DLMV0XLW',\n",
       " u'3FUI0JHJPXZ1ROEKW3O2JZF5J4F33T': u'A32AUS7ZYWFXYC',\n",
       " u'3L0KT67Y8EH6R8WNB3ITH1JUW56SYT': u'A3PYZV7CGJRYFO',\n",
       " u'3F1567XTNW6FDR92BN18NKB2TO49QK': u'AWJQCGGSPX073',\n",
       " u'3DQQ64TANGM5PBLV4LWB1ZT3YCVWPC': u'A3IVLB1YN1X9H9',\n",
       " u'3MD9PLUKKIF9GLENZT3QWEIQF0FZNS': u'A154D85W3BLY4U',\n",
       " u'33L7PJKHCGZSR2IKNZPPSTRE59R8TU': u'A2NJK5F728GAQX',\n",
       " u'3ZPBJO59KP2E3ONG4DJG022R56JDHL': u'A1U1FA19SO7SM',\n",
       " u'3FTF2T8WLRJKXO5ONW0EF9TOHOEW92': u'A2MIOF3QNY3Y70',\n",
       " u'3VD82FOHKQPEQD3P8UJV05HAMHGCO7': u'A2J44NKNUFCS68',\n",
       " u'35DR22AR5DLD7MLYGSVQQF492IA3X1': u'A13LXDXAWD5DSY',\n",
       " u'33L7PJKHCGZSR2IKNZPPSTRE59J8TM': u'A28HWKGCKI1NU8',\n",
       " u'3B1NLC6UGZX9SPVVPGSTFW7F4PPGPJ': u'AZCMR6NXIX16N',\n",
       " u'3LS2AMNW5FRIKED8DCKQKA6R07OQOT': u'A3MVLTRGO37TJD',\n",
       " u'3EFVCAY5L3AYDZMFB5BLQN45775J85': u'AINSUJ6S80L8K',\n",
       " u'34Q075JO1XE90T18QCS0T821URB10C': u'A3TUV36R7RR04T',\n",
       " u'3XM0HYN6NK0B8BZ4JL25FTM3HYNEPH': u'A1EQ2HDHF2WWSY',\n",
       " u'3CTOC39K37RUDLHW10JFCN8AWNY7J5': u'A1P7U2ULSAE7YL',\n",
       " u'3UWN2HHPUY6CF9S9419I0LLNSLANS6': u'A1SQ7NDKJ5LDXX',\n",
       " u'3UXUOQ9OKEYJCSES7U62JO5R60W7AH': u'AKF2TMBSIYPVU',\n",
       " u'3WOKGM4L71HUWL89WEQB54F9N3N0O2': u'AM1HY736BY3Z8',\n",
       " u'3VHHR074H3I08B5W4LVSS2L20CRL79': u'A16PK8DLMV0XLW',\n",
       " u'33M4IA01QG25QO60RIWM8D7PWD3RXS': u'A976M3RO7YJ1',\n",
       " u'3Y5140Z9DXHNOG1QF4SW08KV9RRPIY': u'ABC9U6U3JAG4U',\n",
       " u'3FTF2T8WLRJKXO5ONW0EF9TOT92W98': u'A3SYY81SZERUDA',\n",
       " u'37FMASSAYCSLKM0GWZAV5OF62YQIBG': u'A3F1QTXSPQ6PE2',\n",
       " u'32RIADZISS5QT1I3MWUM1CFN14T4S6': u'A1N274L13ZKKI5',\n",
       " u'3ZOTGHDK5ICUXUSL5G9VFALSIV9SOK': u'A16PK8DLMV0XLW',\n",
       " u'3UWN2HHPUY6CF9S9419I0LLNSLDSNE': u'A3TUV36R7RR04T',\n",
       " u'3MH9DQ757WDMKU3R62RNP2UE2VQGUS': u'A3I9FTHSULHPYS',\n",
       " u'3Z7ISHFUH0WODERJTRE7EHSVQ5L8ZI': u'A2LMQ4497NMK3S',\n",
       " u'3EJPLAJKEMH1908V0CH9U3W4KAVZ6N': u'AM1HY736BY3Z8',\n",
       " u'3QL2OFSM96JW8S3D7FJILGH5UYONCW': u'APLQSM4J9E6LR',\n",
       " u'35L9RVQFCOJ0KQY2Q895A26FHV4HUT': u'A3HHD59X5X8DE6',\n",
       " u'3LBXNTKX0RWZMOAEX1W0HS7VQRYX9C': u'AYSAS2T3FXW40',\n",
       " u'3OXV7EAXLER0O712F5M0Q2RPV4963E': u'A3LD1G3R5NOVYH',\n",
       " u'3G5W44VEU7J8HYYFCONLJFLGYVBKGY': u'A3OKWRLKLYVH4F',\n",
       " u'31LM9EDVOLTJG69JH7048KU0W21NJU': u'A23ON1ND7B1NE8',\n",
       " u'3QAPZX2QN4EGPEJ49GSEYRC6MYS02X': u'A3VHE7IS4AV96D',\n",
       " u'3ZOTGHDK5ICUXUSL5G9VFALS8KWSOB': u'A2HTN7HCNBQ8V4',\n",
       " u'3OSWBBLG1EYBPENV9H123OQLHCAXDQ': u'A1XRIEYLA7ZJ3B',\n",
       " u'38F5OAUN5NDYMFM6D0GU0ASVJVF7HL': u'A3AYR3H2AYYT5G',\n",
       " u'34V1S5K3GS2M39QIWENAHFUB57M96X': u'A18ZUFGMNOVI2Y',\n",
       " u'354P56DE9K4NCO0MOUST4OZXIVMS7L': u'AY5O199V9M9O7',\n",
       " u'3H7Z272LX78PEH9W07P9SOCNOMZPL6': u'A3OKWRLKLYVH4F',\n",
       " u'3OXV7EAXLER0O712F5M0Q2RPV4563A': u'A20991UK77OELL',\n",
       " u'36PW28KO4ZX4L7T2U2K8PYX8ICJEAX': u'AAC5XT7UY7B2K',\n",
       " u'3X3OR7WPZZ148PAFEQNY62HX1LNL8Q': u'A2DVFA1B7NMN0F',\n",
       " u'35L9RVQFCOJ0KQY2Q895A26FFMOHUT': u'A2MIOF3QNY3Y70',\n",
       " u'339ANSOTR53MDP4A2CNO4RYWD81KIO': u'A333VJ2K6O6R79',\n",
       " u'3KIBXJ1WD5VW9BFD070TOOUIPH3OKQ': u'A333VJ2K6O6R79',\n",
       " u'3A0EX8ZRN8P7AMFL0HWYRC9USHSBYJ': u'A21HRAFQT4OILB',\n",
       " u'3TU5ZICBRD2FZMQS6VVUNOGRL208QO': u'A198X28FHY2OY0',\n",
       " u'32UTUBMZ7GXQ6SKGV69EKD50A0TVBX': u'A1EGJBJBFBZJBA',\n",
       " u'3X0H8UUIT1P2231NW205W4YELXBSWZ': u'A1T1FK3P2N408U',\n",
       " u'3K2755HG5S4UPSWA9NVGXHQEPQ3DFI': u'A3TUV36R7RR04T',\n",
       " u'34V1S5K3GS2M39QIWENAHFUB57W967': u'A2HP328OQSJ253',\n",
       " u'3IRIK4HM3ALO17XL8YX1J5VJ1HM6CC': u'A3UUH3632AI3ZX',\n",
       " u'3W8CV64QJ2020YAZSXEEE6J1ELD9H9': u'A3G8Z4D1PWXV8J',\n",
       " u'3WT783CTPBIU7JEG4PE9ULHBPT5BC6': u'A329OWN349P7BS',\n",
       " u'30MVJZJNHMEYR45PGXHZQJZGRDL9JI': u'A3AYR3H2AYYT5G',\n",
       " u'3B1NLC6UGZX9SPVVPGSTFW7FS58GPM': u'A2MIOF3QNY3Y70',\n",
       " u'3Z7EFSHGN9F1KMHH9L6RJI838WYXC6': u'A3B0AB2C9SIHN',\n",
       " u'3D8YOU6S9ELKN1ELUPI1DBHP8HNU64': u'A2R819T7EYBI95',\n",
       " u'3RYC5T2D73U0HF495RM5E0LMWNAPR2': u'AW3OCYBHAR58B',\n",
       " u'3TGOYF991XN5PC4MQ7G4THV59URUU8': u'A3GNQDFPZALU92',\n",
       " u'3YWRV122CS07RFX9N4FZXPDGONSU81': u'A3LUETNYKSGBFY',\n",
       " u'3MH9DQ757WDMKU3R62RNP2UE2VSGUU': u'A2R819T7EYBI95',\n",
       " u'31LVTDXBL7BAQUPBDZTYXJC2RDDLR4': u'A6U5ZHN5Y953Q',\n",
       " u'3HWRJOOET538L3FWB26ZAYREET0SED': u'A54WTV5P8AWCR',\n",
       " u'3BF51CHDTVBK44MMS1VLLVI8ZXC0H1': u'A2MIOF3QNY3Y70',\n",
       " u'3U088ZLJVKU21UHBN0HLMYSVQ54W0S': u'A3TUV36R7RR04T',\n",
       " u'3CPLWGV3MO0UAUWAVV9RJQGX0XNN9X': u'A2HP328OQSJ253',\n",
       " u'3YMU66OBIN9HF8X763KO6N5O6E7GHQ': u'AL8NYDL4JOYL3',\n",
       " u'32UTUBMZ7GXQ6SKGV69EKD50YGMBVQ': u'AWJQCGGSPX073',\n",
       " u'3DY4FPOOA1PDMZ15R3V4KSA4SM0RVA': u'A2LMQ4497NMK3S',\n",
       " u'36V4Q8R5ZK1UKBSW0W5DS6HM57TMQU': u'A1IM9SPV7X9P6W',\n",
       " u'3Z4AIRP3C6EHXJ7JTOH72MPC4Z7X1G': u'A2HP328OQSJ253',\n",
       " u'39JEC7537U29GXCM9659VXBIIAACV6': u'A3UUH3632AI3ZX',\n",
       " u'3V26SBZTBDF3XAS62HEKR1PZDUCZZI': u'A32AUS7ZYWFXYC',\n",
       " u'3ZAK8W07I4FP9QS6S02K4A7Y5PA0UE': u'AWKUPO1N2QEAD',\n",
       " u'3Z4GS9HPNVB1TQGU0RUI9X31T8O778': u'A38DC3BG1ZCVZ2',\n",
       " u'3FQ5JJ512LPERQF1ZS0G9ZUDBR8KNX': u'A1N274L13ZKKI5',\n",
       " u'3J4Q2Z4UTY4QPNMA4YB014JD395QWN': u'A3MVLTRGO37TJD',\n",
       " u'3X1FV8S5JXSMX9SRBS1SLOWXQDCVG5': u'A329OWN349P7BS',\n",
       " u'3DY4FPOOA1PDMZ15R3V4KSA4SMPRVZ': u'A54WTV5P8AWCR',\n",
       " u'3GD6L00D3SY6378FFHFYR59ELBQM18': u'A3GNQDFPZALU92',\n",
       " u'3DHE4R9OCWCD0IUPNIHHJJZMHVPG28': u'A32AUS7ZYWFXYC',\n",
       " u'35LDD5557A5898U1NRLGWK5D61KKMJ': u'A3SYY81SZERUDA',\n",
       " u'3OLQQLKKNSQFM0W6O8XLIX0RIAUEJQ': u'A3GCAKQMGAU3ML',\n",
       " u'3WETL7AQWT94531OAMCVYWDPZ9W53V': u'A6U5ZHN5Y953Q',\n",
       " u'37Z929RLG99AAMXT1XVU9KRFH3TST9': u'A2JPOXYZM5AJZZ',\n",
       " u'3QECW5O0KH294KZIP1IMG9HNRZG5TZ': u'A2MIOF3QNY3Y70',\n",
       " u'3483FV8BEEKB3P5JB58V7SMXPQ462Y': u'A3UUH3632AI3ZX',\n",
       " u'32RIADZISS5QT1I3MWUM1CFNRT14SI': u'A1EQ2HDHF2WWSY',\n",
       " u'3SB4CE2TJVWDR7KJP7A0DNIF8TLAXP': u'AVXWE0AHJKQ0P',\n",
       " u'34X6J5FLPTZ4J3MBXZSLCEP51DBJQ0': u'A1SAMLI9AUPHEJ',\n",
       " u'3TAYZSBPLL9GQN3GIIBY8XIPHQR2S2': u'A1IM9SPV7X9P6W',\n",
       " u'3TY7ZAOG5FLB6UNUYMYIYNY03XAK0X': u'APLQSM4J9E6LR',\n",
       " u'3QFUFYSY9YGHPWDHGCUNUDW80UDF4W': u'A2MIOF3QNY3Y70',\n",
       " u'3IFS6Q0HJIKK18HI7LWQVDP66MSISX': u'A154D85W3BLY4U',\n",
       " u'3QEMNNSB2X0HAZH4R4X49PDXHSD7D7': u'AY5O199V9M9O7',\n",
       " u'3GA6AFUKOOPGLWLJBOD4NTGFETYH3V': u'A3LUETNYKSGBFY',\n",
       " u'369J354OFDB1IJDQAKTK9WGY9JFG6R': u'A24F42H3K58D8A',\n",
       " u'3UN61F00HWQWO5MQLCDRGUG5FYMR5R': u'ATEW2XICE84QY',\n",
       " u'3ZGVPD4G6TI7BYJ7WPP25DOIU7ITZ8': u'AW0E5C6MWDVSU',\n",
       " u'3A1COHJ8NJW2MTRPN580EAOQUFWH8T': u'A3PWONT50E3RZ6',\n",
       " u'3EFVCAY5L3AYDZMFB5BLQN45771J81': u'A2HP328OQSJ253',\n",
       " u'3TK8OJTYM1MSAMLQEBRFFXAPR3TPVV': u'A3IVLB1YN1X9H9',\n",
       " u'3C6FJU71TQUM6LOR08DTW21IH2DYU1': u'A2NJK5F728GAQX',\n",
       " u'34QN5IT0TZSRBTLTPX1F8IP9WEU802': u'A15RJPRX0KVUFS',\n",
       " u'358010RM5EUXJVNH021W9AWSHJGXVR': u'A3OKWRLKLYVH4F',\n",
       " u'34FNN24DCMA5L6YCZ75LOQ92ILJ5YP': u'A5U57T08BOCSK',\n",
       " u'3FTYUGLFSUM2NV3L3BI7B5Z10X25D6': u'A3AYR3H2AYYT5G',\n",
       " u'3WI0P0II61TRSI1J0IVAE64XGVTDRE': u'A3OKWRLKLYVH4F',\n",
       " u'3M0NZ3JDP1Z5QW8HVT742XI4OF05ZT': u'A2CJFO19NY4T5R',\n",
       " u'3UOUJI6MTDFX6GYHVCRRDOU93CYUXQ': u'A2MIOF3QNY3Y70',\n",
       " u'3S4AW7T80BJ3POND2NXLPQ1S9AB4LI': u'A1017VP86SLXRB',\n",
       " u'3MH9DQ757WDMKU3R62RNP2UE2VTUG9': u'A2DVFA1B7NMN0F',\n",
       " u'3R2PKQ87NW9H3D4DNO04J4Q0EXYIM9': u'A13LXDXAWD5DSY',\n",
       " u'31T4R4OBOSH757BQR82TPJVF64PC7Y': u'A1UND5OHCLZ5UZ',\n",
       " u'3WZ36BJEV3HBT0GRQB9ZJVHF1VBTBX': u'A2MIOF3QNY3Y70',\n",
       " u'36NEMU28XFEZ48OIC54JKVZ8T8YWMW': u'A3VHE7IS4AV96D',\n",
       " u'3X4MXAO0BGPQ1O1AHD006UTIZV7WRU': u'A2LMQ4497NMK3S',\n",
       " u'3NPI0JQDAO6DXUH19GR0EFM4IZSPTG': u'A1E56264OK9UN5',\n",
       " u'33LK57MYLT66WY6S7PKCV8SWSO2SZG': u'A1IWW7TKKQYOL3',\n",
       " u'3EA3QWIZ4IWLG8UXWL1G5ILSYUGTIB': u'A3LD1G3R5NOVYH',\n",
       " u'3LEP4MGT3G14CBKU4L9KERZTATCBD1': u'A2F92ADB1B69V2',\n",
       " u'3DY46V3X3PJ7JIOSO50ODTB9NGX55R': u'A3MVLTRGO37TJD',\n",
       " u'3XXU1SWE8MW5UHE8MVLT49V4OBAA08': u'AY5O199V9M9O7',\n",
       " u'37Z929RLG99AAMXT1XVU9KRFH3VTSC': u'A1SQ7NDKJ5LDXX',\n",
       " u'3L6L49WXW0YPNZKSA0HE815VD9P45C': u'A2HTN7HCNBQ8V4',\n",
       " u'3A4TN5196KJ4YWH24HO5GWK98MJCHG': u'A35IEM9AICHLN0',\n",
       " u'3MAOD8E57QBKBQE8YBF5ZT2F706NX8': u'AM1HY736BY3Z8',\n",
       " u'345LHZDEDXTLQIR3BNK36855YQR3UD': u'A1S8DYWNS59XWB',\n",
       " u'3OS46CRSLF0K0G3LZFS69XJ8WZT6VY': u'A3MVLTRGO37TJD',\n",
       " u'3FTF2T8WLRJKXO5ONW0EF9TOT9ZW95': u'A2CQNGJAAPKQPI',\n",
       " u'3E13VNJ1NNWK7OIOU2H6ZC2X42U1IV': u'A2PEIHMPPOB1YJ',\n",
       " u'31EUONYN2V4APM9PZBE0QX5ZHZBOVT': u'A3B0AB2C9SIHN',\n",
       " u'3M23Y66PO2848OMH5KN1YAZ1XVZS6F': u'A198X28FHY2OY0',\n",
       " u'37Z929RLG99AAMXT1XVU9KRFH3USTA': u'AB6F473EMJD8Y',\n",
       " u'31HQ4X3T3SBMR9POSOT3NTHYNQ2SL1': u'ATEW2XICE84QY',\n",
       " u'36U2A8VAG1083PJF6U9RQFSK50NYKG': u'A3UUH3632AI3ZX',\n",
       " u'3VHP9MDGRNLKK0QW9R05DB8W4QQCFG': u'A24F42H3K58D8A',\n",
       " u'3ZGVPD4G6TI7BYJ7WPP25DOI4I1ZTT': u'A1EGJBJBFBZJBA',\n",
       " u'3U84XHCDICENUD4HHOOUX5CQE8Y4ZK': u'ABC9U6U3JAG4U',\n",
       " u'3D8YOU6S9ELKN1ELUPI1DBHPIS7U6K': u'AINSUJ6S80L8K',\n",
       " u'369J354OFDB1IJDQAKTK9WGYX0T6GH': u'A333VJ2K6O6R79',\n",
       " u'37UEWGM5HT9X0NL7KPBFD43OT751RB': u'A20991UK77OELL',\n",
       " u'3KWTYT08704LL7RDGSGVUI76ZVK5L6': u'A3193MI1J3OGLA',\n",
       " u'3N2BF7Y2VQVH7ITTH6IJJSPLEKRHMN': u'A2HP328OQSJ253',\n",
       " u'37TD41K0AHATO5VIFB04KARBJ6ECSZ': u'AY5O199V9M9O7',\n",
       " u'3Y5140Z9DXHNOG1QF4SW08KVJ2NPIQ': u'A1EGJBJBFBZJBA',\n",
       " u'3TAYZSBPLL9GQN3GIIBY8XIP7F62SL': u'A2J44NKNUFCS68',\n",
       " u'3U84XHCDICENUD4HHOOUX5CQCZIZ4F': u'A35IEM9AICHLN0',\n",
       " u'36W0OB37HWFH6PSCWV8DRULUTNPZH0': u'A2LMQ4497NMK3S',\n",
       " u'3R6BYFZZP7D8NY1R0NWSROT659VFX4': u'A3UNUH7D8FKJ3L',\n",
       " u'30OG32W0SUCB5QNR36PDB4H8RUWENR': u'A329OWN349P7BS',\n",
       " u'34S9DKFK73Q9BV4I3717I79OXM8YNH': u'A32AUS7ZYWFXYC',\n",
       " u'384PI804XS29UD023V7KP9PAAHMS0R': u'A2J44NKNUFCS68',\n",
       " u'33PPO7FECVGEZJY0AV110E36V8SIDH': u'A2L7S6RZOZ6NM9',\n",
       " u'3QAPZX2QN4EGPEJ49GSEYRC6AE102Q': u'A2F0NZQ8F9ON8C',\n",
       " u'37U1UTWH9VNFBN5SJAKUSEQW54V8R2': u'A105Q9KX0PVR4N',\n",
       " u'3OF2M9AATGP88FTK2GBA4M1ML54ZKH': u'A2LMQ4497NMK3S',\n",
       " u'3DUZQ9U6SMPPNE1I6SV9A2F0EOCVSV': u'A1SQ7NDKJ5LDXX',\n",
       " u'3570Y55XZPK313NWG3OCSN0RWAFYG2': u'AWJQCGGSPX073',\n",
       " u'3P59JYT76LLH5NGV7IGOI2EB9YH2T7': u'A2VN5QUXOTVV81',\n",
       " u'3W2LOLRXLBGZ6O7TSZHXIJZNCO1KRP': u'A198X28FHY2OY0',\n",
       " u'3VELCLL3GKK0XXGYTUBLWFP50UO1F6': u'A154D85W3BLY4U',\n",
       " u'3MMN5BL1WZ52DAMU2LTHFYOBVF03MT': u'AINSUJ6S80L8K',\n",
       " u'3UXUOQ9OKEYJCSES7U62JO5R6007AL': u'A3TUV36R7RR04T',\n",
       " u'32ZKVD547FO6UJIXBW381IDHJG1B3H': u'A3UNUH7D8FKJ3L',\n",
       " u'3YMU66OBIN9HF8X763KO6N5O8NRHGV': u'A1EQ2HDHF2WWSY',\n",
       " u'3IQ1VMJRYTLNQB2LMR4MXKWX1PBA9L': u'A2F92ADB1B69V2',\n",
       " u'3LWJHTCVCCNOE10FE910XGXDYVPQF3': u'A3UUH3632AI3ZX',\n",
       " u'3TOK3KHVJTJ8EW8THDBKKJPWVGQ7O4': u'A2AGCESL0CS10P',\n",
       " u'3TUI152ZZBOXOM677AMF8ETJ7WH1QK': u'A3SYY81SZERUDA',\n",
       " u'3A4NIXBJ760JTECJ8RXHBKISLQ9MLC': u'A3I9FTHSULHPYS',\n",
       " u'32Q90QCQ1SMAXK2O6TXXJC04NOFEKE': u'A3UUH3632AI3ZX',\n",
       " u'38JBBYETQOBPJIDLL1AHCVB8Q2S4EH': u'A3LD1G3R5NOVYH',\n",
       " u'3XM0HYN6NK0B8BZ4JL25FTM3R91EPR': u'A1R3SE6W55DJ5I',\n",
       " u'3U4J9857OECOV2JKD86YEZPXOIUB7T': u'A1RC17FXGMK03J',\n",
       " u'30X31N5D63R5VQYKVX4DEF1NTEGASE': u'A3R418WIQXD10L',\n",
       " u'3Z2R0DQ0JHFFG4YYHNRTJGEAGZ0E2V': u'A2CJFO19NY4T5R',\n",
       " u'37UEWGM5HT9X0NL7KPBFD43O3IQ1RS': u'AM1HY736BY3Z8',\n",
       " u'3Z7VU45IPYI62E7YU65SZ75NCZWZ16': u'A3AYR3H2AYYT5G',\n",
       " u'37ZHEEHM6WNJS7F7YFRSWGRL0QL732': u'A2LMQ4497NMK3S',\n",
       " u'386CSBG1OZNSV874DGYW3AK0F716QR': u'A1RC17FXGMK03J',\n",
       " u'32Q90QCQ1SMAXK2O6TXXJC04XZAEK5': u'A3PWONT50E3RZ6',\n",
       " u'3BWI6RSP7GAM25V4NZ8OF7VIFVUE73': u'ARQYCKZLIPXFH',\n",
       " u'3QY5DC2MXRLG6U7WVIL57HU2BR1UFE': u'A28HWKGCKI1NU8',\n",
       " u'339ANSOTR53MDP4A2CNO4RYWD87IKS': u'A3OKWRLKLYVH4F',\n",
       " u'3P59JYT76LLH5NGV7IGOI2EBJ962TS': u'A2LMQ4497NMK3S',\n",
       " u'3NAPMVF0ZWGU7PJOUFDND6MTUBU72Y': u'A1V3EH7I10SYNS',\n",
       " u'3LUY3GC63Z1QZWKUWDOZ9JUM5M67P7': u'AIIA3CD2HDDPO',\n",
       " u'3IXEICO792K5NOZWUKSR8FVNNUX6TM': u'A3GNQDFPZALU92',\n",
       " u'388U7OUMF72XTY0PO67FZZKEYP5R0Y': u'A3LUETNYKSGBFY',\n",
       " u'382M9COHEHGO0G70071ZPZ92N6SEU6': u'A32AUS7ZYWFXYC',\n",
       " u'3DIP6YHAPCTQ2J0NX40UT7RD2Z5E8B': u'AKC0QDVN3GOFE',\n",
       " u'36PW28KO4ZX4L7T2U2K8PYX8ICMAEW': u'A1U0GNE5ELW5V7',\n",
       " u'3E47SOBEYQX4URSMAZ6QG8LOKJTCIK': u'A1R3SE6W55DJ5I',\n",
       " u'39GAF6DQWR1PTU2OT9GPE1SROOP1V7': u'A2AGCESL0CS10P',\n",
       " u'3O7L7BFSHEQJRPC06QCL6WLRVKRIE8': u'AAC5XT7UY7B2K',\n",
       " u'39GAF6DQWR1PTU2OT9GPE1SROOZV1B': u'A3R418WIQXD10L',\n",
       " u'3FE7TXL1LIO4D7O3QEMTDX3OZ2VQ2Q': u'A4AY5EKJZMTES',\n",
       " u'3MAOD8E57QBKBQE8YBF5ZT2F708NXA': u'A3MVLTRGO37TJD',\n",
       " u'3JC6VJ2SABK4PO09J1R5L4RVFU2A56': u'A13LXDXAWD5DSY',\n",
       " u'3ZPPDN2SLVXQGOJX2W68T3MOM49E9K': u'A2AGCESL0CS10P',\n",
       " u'326O153BMIZ2JEWEECBAFZ5EDQ1EDG': u'A25YG9M911WA3T',\n",
       " u'3FIJLY1B6U53EPZ0EWMBXB73TZYFPW': u'A2R819T7EYBI95',\n",
       " u'3Q5ZZ9ZEVOGQ607UM37RPDL0P6258X': u'A18ZUFGMNOVI2Y',\n",
       " u'3WQQ9FUS6AVSVGO3NDY4SZLSPR7B8R': u'A3LD1G3R5NOVYH',\n",
       " u'3PS7W85Z8Z3S571USRV3SPMPPEV9T4': u'APLQSM4J9E6LR',\n",
       " u'3TXMY6UCAEPHBPG5N7BZPACA1IXQCS': u'A3UUH3632AI3ZX',\n",
       " u'3H7Z272LX78PEH9W07P9SOCNOMZLP2': u'A3KIE6ZNXVEIAY',\n",
       " u'3K9FOBBF2HKPBWXJKSCHOZ7S0RZNLP': u'A3SYY81SZERUDA',\n",
       " u'3483FV8BEEKB3P5JB58V7SMXZ1226O': u'A1SAMLI9AUPHEJ',\n",
       " u'3IGI0VL647LXHH0GXKS9GGBMVWANOC': u'A2NJK5F728GAQX',\n",
       " u'3YW4XOSQKQMPGFDOOJ6KIFQ8AHWU1R': u'A3VHE7IS4AV96D',\n",
       " u'3QBD8R3Z21KBV9QAFFDDH75M4F6O49': u'A16PK8DLMV0XLW',\n",
       " u'3L2IS5HSFAJSUMKDT64IFM3BDI9NU0': u'AVXWE0AHJKQ0P',\n",
       " u'351SEKWQS0I0V2ORVAZTS7ANA8KMDP': u'A1LGE53SWZSD8L',\n",
       " u'3R0T90IZ1SDQY0MRKB6NVW88TM6GCL': u'A15RJPRX0KVUFS',\n",
       " u'3JV9LGBJWTFR7PJUAGFEQW2PUKPGOY': u'A3UNUH7D8FKJ3L',\n",
       " u'32M8BPYGATNHB38RCL296Z63IBIGIV': u'ATEW2XICE84QY',\n",
       " u'3U84XHCDICENUD4HHOOUX5CQOJBZ4O': u'A2LMQ4497NMK3S',\n",
       " u'3E337GFOL999P4JI91F1B72KSQJNG9': u'A3KKRE2IS3AF3I',\n",
       " u'3LO69W1SU3EJ14GXXOZMYFYVNVDGLU': u'A1E56264OK9UN5',\n",
       " u'3YT88D1N08Z7NMMRH9G10LW76AZ3KI': u'A1D4Z17JF8TE4Y',\n",
       " u'326O153BMIZ2JEWEECBAFZ5EDQ0DEE': u'A329OWN349P7BS',\n",
       " u'3DPNQGW4LLGL63K6FJRJ07JVJF964Z': u'A2G06VFMAUG53',\n",
       " u'3OB0CAO74HQH1ZI7096UDNCSBAYHYQ': u'A2MIOF3QNY3Y70',\n",
       " u'3WOKGM4L71HUWL89WEQB54F9N3SO0V': u'A3PWONT50E3RZ6',\n",
       " u'3P4MQ7TPPXDBXEMAQPIEJ1BTVODBBR': u'A15RJPRX0KVUFS',\n",
       " u'35GCEFQ6I5P2CHLDHAJBN0KKAJWZ3K': u'A1D4I1QYL9713I',\n",
       " u'3WI0P0II61TRSI1J0IVAE64XSF2RDH': u'A2LMQ4497NMK3S',\n",
       " u'3DYGAII7PL905EP9SCX59ABHYSMQPW': u'AL8NYDL4JOYL3',\n",
       " u'3AUQQEL7U5UPM5H6XQCP0W9HJW5V0K': u'A3QEVFM3UD67BA',\n",
       " u'3MHW492WW0EMPJODMVZNYTGUMZZVMO': u'A1D4I1QYL9713I',\n",
       " u'33IZTU6J812HR36D67WRYNCLUZDSXO': u'A3LUETNYKSGBFY',\n",
       " u'3AMW0RGHOD3F2HCHCK5O5GGCTH5PNE': u'A976M3RO7YJ1',\n",
       " u'3SUWZRL0MYE3Y5HZ4P3W9TVMW47E6H': u'A2LMQ4497NMK3S',\n",
       " u'37ZHEEHM6WNJS7F7YFRSWGRL0Q073H': u'A1U1FA19SO7SM',\n",
       " u'30OG32W0SUCB5QNR36PDB4H8RUTNEX': u'A3AYR3H2AYYT5G',\n",
       " u'3JC6VJ2SABK4PO09J1R5L4RVFUCA5G': u'A2HP328OQSJ253',\n",
       " u'3C44YUNSI1Q6G5L4NQRL9B4IFD2PDV': u'A15RJPRX0KVUFS',\n",
       " u'3LOTDFNYA70TYYW1QI06P5FZW7WFWI': u'A3F1QTXSPQ6PE2',\n",
       " u'3E4GGUZ1T8SI24Q8D92WHBRFQLO2KZ': u'A3LD1G3R5NOVYH',\n",
       " u'30IQTZXKAK7HQUM1X5D7OH62Z78X0K': u'AM1HY736BY3Z8',\n",
       " u'373ERPL3YO9Y97XGM8VPJAMJV19RTJ': u'A1T1FK3P2N408U',\n",
       " u'3RANCT1ZVFIQTDVGQGZ9OR3HWT8BUC': u'A1D4Z17JF8TE4Y',\n",
       " u'3DUZQ9U6SMPPNE1I6SV9A2F0EOOVS7': u'A3MVLTRGO37TJD',\n",
       " u'3PMBY0YE274BJQZJ650D3FML1T49CW': u'A1U1FA19SO7SM',\n",
       " u'3GM6G9ZBKNY7CRKOH0Z8XBS9PEETM1': u'A25YG9M911WA3T',\n",
       " u'35K3O9HUABEZHYAA5I603Z8ZP3SEF2': u'A3GCAKQMGAU3ML',\n",
       " u'3LRLIPTPEQA777LCQOVBNTAD29HKAP': u'ABC9U6U3JAG4U',\n",
       " u'36AHBNMV1RD0PJD5EDN4M2XUV26DYU': u'A3PWONT50E3RZ6',\n",
       " u'3C8HJ7UOP7V3Y3TNNSOQJZTQAAUZMH': u'A3TUV36R7RR04T',\n",
       " u'3LJ7UR74RHETDOQYE0D02I5HE4W4N3': u'A2LMQ4497NMK3S',\n",
       " u'3AAJC4I4FGTDXVN2KVBY3719UW6ZJ4': u'A3OKWRLKLYVH4F',\n",
       " u'34FNN24DCMA5L6YCZ75LOQ928AQY5T': u'AY5O199V9M9O7',\n",
       " u'3X08E93BHVJZLQOKY7KYX5395V766G': u'A6U5ZHN5Y953Q',\n",
       " u'3N8OEVH1FRRFZ20SYZSMV5BRL6KOOX': u'A18ZUFGMNOVI2Y',\n",
       " u'3KWTYT08704LL7RDGSGVUI769645LM': u'A23ON1ND7B1NE8',\n",
       " u'3UJ1CZ6IZHQ8PKM301DW64L110P5SD': u'A3O5R61IF9YJNF',\n",
       " u'3Z4AIRP3C6EHXJ7JTOH72MPCSF6X1Z': u'A3GNQDFPZALU92',\n",
       " u'3TUI152ZZBOXOM677AMF8ETJ7WRQ1J': u'A3SYY81SZERUDA',\n",
       " u'3IX2EGZR7BK4V41BAEHLH4ZAXYBJRX': u'A2EMTE8JKJHZGG',\n",
       " u'35DR22AR5DLD7MLYGSVQQF492JC3X5': u'A1SAMLI9AUPHEJ',\n",
       " u'3HYA4D452RK7MIYUCYBZ1YZAS0R2FD': u'A2JW2UOTSQNUDD',\n",
       " u'3FFJ6VRIL1PK0ZX6YJD6L7JNZA10I4': u'A1E56264OK9UN5',\n",
       " u'3IGI0VL647LXHH0GXKS9GGBMVWKONN': u'A2CQNGJAAPKQPI',\n",
       " u'3R6P78PK7KC7KHO26X1DK68CTSEGTS': u'A3VHE7IS4AV96D',\n",
       " u'35L9RVQFCOJ0KQY2Q895A26FR5BHUU': u'A2F92ADB1B69V2',\n",
       " u'3YHH42UU5BGMQ05CJMAJDNBFGEOL0W': u'A32AUS7ZYWFXYC',\n",
       " u'3EWIJTFFVO88KUVK20NF0SLVJ1J0E0': u'A2CJFO19NY4T5R',\n",
       " u'3RWE2M8QWHBCE08XVZQYQFF4XT00N5': u'A3TUV36R7RR04T',\n",
       " u'3Z3ZLGNNSIVTYPKMUE0YW78G5G0Q36': u'A2LMQ4497NMK3S',\n",
       " u'3UJ1CZ6IZHQ8PKM301DW64L1PGDS58': u'AYSAS2T3FXW40',\n",
       " u'3RJSC4XJ10V8OB2RRZUCWYFI68U50E': u'ANBTNIM08969Z',\n",
       " u'3FIJLY1B6U53EPZ0EWMBXB73RQIFPW': u'A2MIOF3QNY3Y70',\n",
       " u'3M81GAB8A0KY1KOZ97F4EQ6SJXSQBG': u'A2SVNXNMD7E7EH',\n",
       " u'378XPAWRUCEG1CVOQLAZADV0A5SIAC': u'AMA18W8F60Y2J',\n",
       " u'36AHBNMV1RD0PJD5EDN4M2XUJI6DYE': u'A333VJ2K6O6R79',\n",
       " u'3UOUJI6MTDFX6GYHVCRRDOU9FW6XUH': u'AKF2TMBSIYPVU',\n",
       " u'31LVTDXBL7BAQUPBDZTYXJC2P4JLRQ': u'ASB8T0H7L99RF',\n",
       " u'3ZR9AIQJUBAQSSYRDUB2R6946CA40J': u'AM1HY736BY3Z8',\n",
       " u'3ZV9H2YQQD8YIMG86NZ4OWQ2THJ3WP': u'A3QW1C79IH4GOG',\n",
       " u'3CTOC39K37RUDLHW10JFCN8AWNQJ79': u'A3LUETNYKSGBFY',\n",
       " u'36AHBNMV1RD0PJD5EDN4M2XUJI3YDW': u'A38DC3BG1ZCVZ2',\n",
       " u'3VFJCI1K4Z0U42BA28WIKR7UTN2GRK': u'A3GNQDFPZALU92',\n",
       " u'3PJ71Z61R43RWNPLQ8BTMJ3UXWE917': u'A2LMQ4497NMK3S',\n",
       " u'3OVR4I9USPKEGL3QUS5H6C0M95H4QU': u'AW0E5C6MWDVSU',\n",
       " u'30BUDKLTXDW7F1HLZ6TRHNHM09W5ES': u'A2LMQ4497NMK3S',\n",
       " u'32Q90QCQ1SMAXK2O6TXXJC04XZBEK6': u'A1RC17FXGMK03J',\n",
       " u'3GFK2QRXX9I1W13CK6NX3TOM7CUW5Q': u'A2AGCESL0CS10P',\n",
       " u'3GU1KF0O4I2D18NK9U0FELGIOCMBPM': u'ATEW2XICE84QY',\n",
       " u'3KWTYT08704LL7RDGSGVUI7696S5LA': u'A13LXDXAWD5DSY',\n",
       " u'3RXPCZQMQPC6BXCT4EH3E0PHRYWG1W': u'A6U5ZHN5Y953Q',\n",
       " u'3KIBXJ1WD5VW9BFD070TOOUIRQNKOQ': u'AW0E5C6MWDVSU',\n",
       " u'3A9AA95ATWNBCS6B8K92BZGQEGAP59': u'A1NKN75QAFQB75',\n",
       " u'3NVC2EB65Q027RB8LOHS9TBIS5AY3U': u'A38DC3BG1ZCVZ2',\n",
       " u'3XC1O3LBOSNN6923HOYTXYDKDPQLTD': u'A2MIOF3QNY3Y70',\n",
       " u'3M0NZ3JDP1Z5QW8HVT742XI4CV8Z5F': u'ARQYCKZLIPXFH',\n",
       " u'30IQTZXKAK7HQUM1X5D7OH62NNWX0S': u'A32AUS7ZYWFXYC',\n",
       " u'3M0NZ3JDP1Z5QW8HVT742XI4CVCZ5J': u'A333VJ2K6O6R79',\n",
       " u'3N2BF7Y2VQVH7ITTH6IJJSPL20CMHX': u'AWJQCGGSPX073',\n",
       " u'3PZDLQMM0TM0J6EKLWLYTSE7VNP2CS': u'A2LMQ4497NMK3S',\n",
       " u'3WZ36BJEV3HBT0GRQB9ZJVHF34TBTH': u'A3UUH3632AI3ZX',\n",
       " u'3AUQQEL7U5UPM5H6XQCP0W9H7CW0V0': u'A32AUS7ZYWFXYC',\n",
       " u'3TR2532VIPVB9L3RIQEN698E1CCJ6G': u'AM1HY736BY3Z8',\n",
       " u'3VE8AYVF8MYI8X0JSFK0BPCD2G9F83': u'A31KR6QG24K19O',\n",
       " u'3UN61F00HWQWO5MQLCDRGUG5FY1R56': u'A23ON1ND7B1NE8',\n",
       " u'3X73LLYYQ1FNP0ETT7XJW7EL9ZDHN3': u'ABC9U6U3JAG4U',\n",
       " u'3QY5DC2MXRLG6U7WVIL57HU2Z73FUL': u'A2MIOF3QNY3Y70',\n",
       " u'3MTMREQS4VJY27FTF2EEB448ZRLWAO': u'A3F1QTXSPQ6PE2',\n",
       " u'3NVC2EB65Q027RB8LOHS9TBIS5GY30': u'A333VJ2K6O6R79',\n",
       " u'3TXD01ZLD4I68EA7B1PMGDXBM0PU4L': u'A25YG9M911WA3T',\n",
       " u'3UJ1CZ6IZHQ8PKM301DW64L110KS5V': u'A154D85W3BLY4U',\n",
       " u'3M68NM076H8S79M4QVNW80U5Z9SR6M': u'A2PEIHMPPOB1YJ',\n",
       " u'3PWWM24LHSZY73O74K5TR6IO5WC820': u'A154D85W3BLY4U',\n",
       " u'3BEFOD78W6UNV65Y2ZY0P3GHZ4GM4L': u'A3HHD59X5X8DE6',\n",
       " u'36U2A8VAG1083PJF6U9RQFSK3R2YKB': u'A38DC3BG1ZCVZ2',\n",
       " u'3ZY8KE4ISJ4DAYM5EO64F20ZKGMVQL': u'A2MIOF3QNY3Y70',\n",
       " u'3LYA37P8IQOCQHQ4W2V7I4UJU2ZKBD': u'A3SYY81SZERUDA',\n",
       " u'3DBQWDE4Y6ZB97UYS5WA7ABVE1EN5G': u'A5U57T08BOCSK',\n",
       " u'308Q0PEVB8E2WTLJYFWZEIKGEYNI96': u'AM1HY736BY3Z8',\n",
       " u'3ZY8KE4ISJ4DAYM5EO64F20ZW0QVQ5': u'AM1HY736BY3Z8',\n",
       " u'3V0Z7YWSIY1WIFKKCDG3JK2W4A92VF': u'A333VJ2K6O6R79',\n",
       " u'3LO69W1SU3EJ14GXXOZMYFYVZFMLGO': u'A21HRAFQT4OILB',\n",
       " u'3Z2R0DQ0JHFFG4YYHNRTJGEAGZFE2A': u'A1PIWJSP8Q5UW7',\n",
       " u'3YMTUJH0DSHR81VIBWZCBHB93OO4TE': u'A19ZOKX8M6VWOO',\n",
       " u'3QUO65DNQUPAC7KPUL4VUB3GR8XOUJ': u'A38DC3BG1ZCVZ2',\n",
       " u'3QXNC7EIPIWRPY43UP7T8EKKS4O90K': u'A3OFS8ID5PGH1U',\n",
       " u'3U088ZLJVKU21UHBN0HLMYSVELVW03': u'A38DC3BG1ZCVZ2',\n",
       " u'3D8YOU6S9ELKN1ELUPI1DBHPIS2U6F': u'AKF2TMBSIYPVU',\n",
       " u'3KRVW3HTZNM6XR79S0UIN6WNNV2SMD': u'A3VHE7IS4AV96D',\n",
       " u'31Z0PCVWUKGOROD1DUXJETVJUPLT7S': u'A3SCB4AS7FXX9A',\n",
       " u'3KB8R4ZV1E87OVUL6BASKC2QNLVGBJ': u'A2VB6A5EH3UAS8',\n",
       " u'3Z4XG4ZF48SZ8JR4S9QMHWCKI5C8XA': u'A18ZUFGMNOVI2Y',\n",
       " u'3LO69W1SU3EJ14GXXOZMYFYVZFCGL9': u'A3AYR3H2AYYT5G',\n",
       " u'35H6S234SA132MO6TOAT5ZP9JB9568': u'A3MVLTRGO37TJD',\n",
       " u'3TMSXRD2X6128J2TJJLL03B5JD11WB': u'A333VJ2K6O6R79',\n",
       " u'3VW04L3ZLT7PNKSC0H2EXVTD9EFXX1': u'A3VHE7IS4AV96D',\n",
       " u'37XITHEISWAHNQV50M0ZU0MFX4ZRCU': u'A3LD1G3R5NOVYH',\n",
       " u'3TK8OJTYM1MSAMLQEBRFFXAPR4IPVM': u'A198X28FHY2OY0',\n",
       " u'3L0KT67Y8EH6R8WNB3ITH1JUW5DSY0': u'A3PWONT50E3RZ6',\n",
       " u'3P1L2B7AD1Q7THXVL7CU3O7XEH5OLQ': u'A2MIOF3QNY3Y70',\n",
       " u'3CTOC39K37RUDLHW10JFCN8AMCB7JM': u'A3LD1G3R5NOVYH',\n",
       " u'3X3OR7WPZZ148PAFEQNY62HXZC0L8J': u'A333VJ2K6O6R79',\n",
       " u'3FTOP5WARFPGVAHCG1Y6X8YNO9Y0J4': u'A1RC17FXGMK03J',\n",
       " u'3M81GAB8A0KY1KOZ97F4EQ6ST8PBQU': u'A3O5R61IF9YJNF',\n",
       " u'3F6HPJW4JD19X4KP2NLZ5MLABJHW2P': u'A2MIOF3QNY3Y70',\n",
       " u'3X65QVEQI0O6KS0SV2338ODGRC7CLM': u'A3UUH3632AI3ZX',\n",
       " u'3OCHAWUVGOLJ3KT51YNP71LBD5GXKS': u'A1PIWJSP8Q5UW7',\n",
       " u'3EG49X351UDC458GZUTOXIGTCA0X6R': u'A1017VP86SLXRB',\n",
       " u'3LPW2N6LKT3O4XE7P68WL53PMX65UP': u'A3O5R61IF9YJNF',\n",
       " u'3Z4GS9HPNVB1TQGU0RUI9X315SL77L': u'A2LMQ4497NMK3S',\n",
       " u'3ERET4BTVMAT2OB7YIHBRYZT627K9E': u'A2E5XFVXG86Y1J',\n",
       " u'3BV8HQ2ZZW208S0NOK1ADA5VZ5AA63': u'A38DC3BG1ZCVZ2',\n",
       " u'3IFS6Q0HJIKK18HI7LWQVDP6WB2SIL': u'A3UUH3632AI3ZX',\n",
       " u'3ZPPDN2SLVXQGOJX2W68T3MOM5XE9A': u'A3QEVFM3UD67BA',\n",
       " u'3II4UPYCOJ8RGHMJN36A9GUSWT2DQ4': u'A1N274L13ZKKI5',\n",
       " u'36PW28KO4ZX4L7T2U2K8PYX8SN4EAE': u'A329OWN349P7BS',\n",
       " u'3CCZ6YKWR7KQK5Q4RVD5P9GBXSN95D': u'A333VJ2K6O6R79',\n",
       " u'3BDCF01OGXVJNV1XRULS5F5Z4BBYLY': u'A3UNUH7D8FKJ3L',\n",
       " u'3HWRJOOET538L3FWB26ZAYREESYESV': u'A2G06VFMAUG53',\n",
       " u'3IAEQB9FMELW0EI5ZC5G15CE8A0WDS': u'AL8NYDL4JOYL3',\n",
       " u'3NPI0JQDAO6DXUH19GR0EFM4UJNTPV': u'A2LMQ4497NMK3S',\n",
       " u'3RWE2M8QWHBCE08XVZQYQFF4XSG0NJ': u'A3TXJLD6JNR280',\n",
       " u'3H8DHMCCW9C55EOOAYMDDUIJXNQKDZ': u'A1RYM8TFVX3247',\n",
       " u'3ZV9H2YQQD8YIMG86NZ4OWQ2J6Y3W8': u'A3LD1G3R5NOVYH',\n",
       " u'3RXPCZQMQPC6BXCT4EH3E0PHRYY1GJ': u'A2L7S6RZOZ6NM9',\n",
       " u'30ZX6P7VF8WNRKKQVO2KGWR29N7J2G': u'A32AUS7ZYWFXYC',\n",
       " u'3WR9XG3T63C4A3YBYTWB6LJREQY471': u'A28HWKGCKI1NU8',\n",
       " u'3PDJHANYK5HFIF81UQB2UWSZE9PH6U': u'AW0E5C6MWDVSU',\n",
       " u'3EG49X351UDC458GZUTOXIGTCAL6XL': u'A2LMQ4497NMK3S',\n",
       " u'3RANCT1ZVFIQTDVGQGZ9OR3HWTDBUH': u'A25YG9M911WA3T',\n",
       " u'37TRT2X24QSHFXKMEHVVHPU6FDWBJ2': u'AM1HY736BY3Z8',\n",
       " u'3TU5ZICBRD2FZMQS6VVUNOGRBR7Q8H': u'A1OIITZ4Z8WEW',\n",
       " u'3NG53N1RLVKUZAPD6IG5NJQHG6FP8F': u'A2NJK5F728GAQX',\n",
       " u'33OOO72IVHMU358X4B5UUFNXV00CTS': u'A2LMQ4497NMK3S',\n",
       " u'31EUONYN2V4APM9PZBE0QX5ZHZ4VOT': u'AMJ9X1MIE8CZ5',\n",
       " u'3KWTYT08704LL7RDGSGVUI76ZVN5L9': u'AAC5XT7UY7B2K',\n",
       " u'3JRJSWSMQHM41MUHLN5Y2QJ2C2TE33': u'A1U0GNE5ELW5V7',\n",
       " u'33JKGHPFYCV9HEF4K4DWOCMH0W3NM5': u'A2CQNGJAAPKQPI',\n",
       " u'3YMU66OBIN9HF8X763KO6N5OIY3GH2': u'A13LXDXAWD5DSY',\n",
       " u'35LDD5557A5898U1NRLGWK5D61FMKG': u'A26WMSCKGBBNXO',\n",
       " u'3ZV9H2YQQD8YIMG86NZ4OWQ2THQ3WW': u'A2NJK5F728GAQX',\n",
       " u'3DR23U6WE5F903SB02BPK3N04SMETG': u'A105Q9KX0PVR4N',\n",
       " u'3U088ZLJVKU21UHBN0HLMYSVELTW01': u'A2MIOF3QNY3Y70',\n",
       " u'3JV9LGBJWTFR7PJUAGFEQW2PI0COGD': u'A4T1X0PO5N1G9',\n",
       " u'3LOTDFNYA70TYYW1QI06P5FZW7DWFG': u'A1XL4IE2N9IHIS',\n",
       " u'3D3VGR7TA0GTAQZM7TPY1XILPIXR3N': u'ARQYCKZLIPXFH',\n",
       " u'3VNL7UK1XFK16HS7VDVV2L80SDYFTC': u'AKF2TMBSIYPVU',\n",
       " u'3TPWUS5F892MVMCRZGA5HZUWZUXWCH': u'A3LUETNYKSGBFY',\n",
       " u'3EICBYG644X0P2CSSHRQS90OXYTCJ7': u'A3O5R61IF9YJNF',\n",
       " u'3FE7TXL1LIO4D7O3QEMTDX3OZ21Q2W': u'A21HRAFQT4OILB',\n",
       " u'3137ONMDKG65VY65G2CILK8BQIUGE5': u'A25YG9M911WA3T',\n",
       " u'39DD6S19JPC5MF1A6U076ROH181ZEQ': u'A16PK8DLMV0XLW',\n",
       " u'3GA6AFUKOOPGLWLJBOD4NTGFETF3HY': u'A198X28FHY2OY0',\n",
       " u'3DUZQ9U6SMPPNE1I6SV9A2F0EOQVS9': u'A2Z9D2NLAGIA73',\n",
       " u'3IXEICO792K5NOZWUKSR8FVNZEQ6TV': u'A16PK8DLMV0XLW',\n",
       " u'3EJPLAJKEMH1908V0CH9U3W4KAT6ZS': u'A3MVLTRGO37TJD',\n",
       " u'3Y4W8Q93LZLJLPI0920KF3T0DLBVDA': u'A2LMQ4497NMK3S',\n",
       " u'3V5Q80FXIXSC66I1S3AX0PADPAA23S': u'A2CJFO19NY4T5R',\n",
       " u'3MB8LZR5BFUO3QCGNFK1W7QOWLHKL8': u'A3LD1G3R5NOVYH',\n",
       " u'3M68NM076H8S79M4QVNW80U5BTTR63': u'A2WQPXGX5H7C0R',\n",
       " u'3U4J9857OECOV2JKD86YEZPXE757B4': u'A1VCY19BMY5MJA',\n",
       " u'3J2UYBXQQLD47F25WI4HO4TIQJU604': u'AWJQCGGSPX073',\n",
       " u'3NS0A6KXC4936TX1CPQV6U9TEO0GZ8': u'A3UNUH7D8FKJ3L',\n",
       " u'39KFRKBFINWRTG4U4M1KXW9TZGJYOI': u'AM1HY736BY3Z8',\n",
       " u'3BWI6RSP7GAM25V4NZ8OF7VIRFUE7J': u'A16DZUAE29Z21H',\n",
       " u'39KFRKBFINWRTG4U4M1KXW9TZG9YO8': u'A2LMQ4497NMK3S',\n",
       " u'3OJSZ2ATDSXM6M2BCYFLBDP5EMS576': u'A329OWN349P7BS',\n",
       " u'3UJ1CZ6IZHQ8PKM301DW64L11ZZS58': u'A2LMQ4497NMK3S',\n",
       " u'3Q8GYXHFEP3SI3X73FNWRZHJ3DN5CN': u'AX06ZUCRNSGB3',\n",
       " u'3QAPZX2QN4EGPEJ49GSEYRC6CNH20S': u'A1MJECBV45AP5O',\n",
       " u'3TK8OJTYM1MSAMLQEBRFFXAPR47PVB': u'A3TUV36R7RR04T',\n",
       " u'3TR2532VIPVB9L3RIQEN698E1CC6J3': u'A3TUV36R7RR04T',\n",
       " u'384PI804XS29UD023V7KP9PA88QS0B': u'A3UUH3632AI3ZX',\n",
       " u'3MMN5BL1WZ52DAMU2LTHFYOBJVX3MA': u'A32AUS7ZYWFXYC',\n",
       " u'386CSBG1OZNSV874DGYW3AK0F74Q6E': u'A25YG9M911WA3T',\n",
       " u'3NGI5ARFTT6COA5S7X7Q89392021P0': u'A3LUETNYKSGBFY',\n",
       " u'3OWEPKL089DQWB8HGYB75UPR57TN7F': u'AM1HY736BY3Z8',\n",
       " u'3VHP9MDGRNLKK0QW9R05DB8W4RFCF7': u'A1017VP86SLXRB',\n",
       " u'3QHK8ZVMIMJNAN8MH278X47YJ2OLB1': u'A3GCAKQMGAU3ML',\n",
       " u'3PQMUDRV7R7V7UEM292CRBJJXORII6': u'A1EGJBJBFBZJBA',\n",
       " u'3KIBXJ1WD5VW9BFD070TOOUI11EKOD': u'ANBTNIM08969Z',\n",
       " u'3WQQ9FUS6AVSVGO3NDY4SZLSZ2R8B4': u'A3F1QTXSPQ6PE2',\n",
       " u'32UTUBMZ7GXQ6SKGV69EKD500P8VBG': u'A2R819T7EYBI95',\n",
       " u'3300DTYQT2IW8N0JJYHUFYCDW4CQEH': u'A3TXJLD6JNR280',\n",
       " u'3WT783CTPBIU7JEG4PE9ULHBPTLCBN': u'AINSUJ6S80L8K',\n",
       " u'345LHZDEDXTLQIR3BNK3685581YU37': u'A3F1QTXSPQ6PE2',\n",
       " u'38F5OAUN5NDYMFM6D0GU0ASV9K8H7S': u'A1U0GNE5ELW5V7',\n",
       " u'3907X2AHF06JDVNOQ174DSDEU50P2N': u'A3IVLB1YN1X9H9',\n",
       " u'3BDCF01OGXVJNV1XRULS5F5Z4B0LYA': u'A3QA0A6GZ004EK',\n",
       " u'3WYP994K17S14AYQ4QFQGWN2EGIY6M': u'A3MVLTRGO37TJD',\n",
       " u'3TVSS0C0E113H3E2L25V69U0NG6TW6': u'A3O5R61IF9YJNF',\n",
       " u'3OVHNO1VE620U9NAAZPN096W1WZDZA': u'A16PK8DLMV0XLW',\n",
       " u'3QUO65DNQUPAC7KPUL4VUB3G3SYOU0': u'A18ZUFGMNOVI2Y',\n",
       " u'33IZTU6J812HR36D67WRYNCLIFFXSF': u'A2MIOF3QNY3Y70',\n",
       " u'3GDTJDAPVUCOE7S0E2OD6FWMB1VM87': u'A3TUV36R7RR04T',\n",
       " u'3FE2ERCCZX9XK2CTDZ51K5GHVB0POZ': u'AM1HY736BY3Z8',\n",
       " u'3VFJCI1K4Z0U42BA28WIKR7U56TRG0': u'A3IVLB1YN1X9H9',\n",
       " u'3S96KQ6I9M548XEB4705EL5FG0LDT2': u'A13LXDXAWD5DSY',\n",
       " u'3RRCEFRB7MDRCF11BA8RBN5NXGLB4Q': u'A1U1FA19SO7SM',\n",
       " u'36PW28KO4ZX4L7T2U2K8PYX8SNFAEL': u'A1017VP86SLXRB',\n",
       " u'3DH6GAKTYYQ3SKI16VC1DUGXJJ2ZYZ': u'A3TXJLD6JNR280',\n",
       " u'3E47SOBEYQX4URSMAZ6QG8LO8ZUICB': u'A32AUS7ZYWFXYC',\n",
       " u'3WMOAN2SRBYS719DYWENB85UHEQVN9': u'A3UUH3632AI3ZX',\n",
       " u'36DSNE9QZ5Z1YR9VIM0HN9U5AS3OJR': u'A2MIOF3QNY3Y70',\n",
       " u'3I33IC7ZWF3CQRHM1IP7NXOJJ0EA2S': u'A2MIOF3QNY3Y70',\n",
       " u'3XIQGXAUMC9V85MLI4YG3WGP7LE7XU': u'A2HP328OQSJ253',\n",
       " u'3S96KQ6I9M548XEB4705EL5FG0HDTY': u'AC8IEBY696VJO',\n",
       " u'37C0GNLMHF4Y6Z3Z8USC3BD1K8D6D7': u'A1BBC4UHXDI434',\n",
       " u'3TPWUS5F892MVMCRZGA5HZUWZUTWCD': u'A2JW2UOTSQNUDD',\n",
       " u'3IXQG4FA2TZS9L7DS54ISVG37O8B9F': u'A161I6SGXNY96M',\n",
       " u'3FTYUGLFSUM2NV3L3BI7B5Z10XDD5P': u'A3F1QTXSPQ6PE2',\n",
       " u'3IUZPWIU1O84EKOFRTR35I7443RKW3': u'A2G06VFMAUG53',\n",
       " u'32SVAV9L3FA1B9D55I3C67TB1YP3AN': u'A3MVLTRGO37TJD',\n",
       " u'37UQDCYH6XW34GHQIPXYFBJ4HZLV7Y': u'A1VCY19BMY5MJA',\n",
       " u'3NC5L260MONLTPNZZW9W8B2DT5QOF8': u'A2F92ADB1B69V2',\n",
       " u'3J88R45B2GZKEBQLEQSX3I7A7FAPX9': u'A3LUETNYKSGBFY',\n",
       " u'3AAJC4I4FGTDXVN2KVBY3719W5OJZQ': u'A2R819T7EYBI95',\n",
       " u'3G5F9DBFOPY0X5N2VYJA6O8Y5D4VHJ': u'A2NJK5F728GAQX',\n",
       " u'3PXX5PX6LXZ6E4HIKBIIOQRNPQWABF': u'AKWH1P9W1KL35',\n",
       " u'31LVTDXBL7BAQUPBDZTYXJC21O4RLX': u'AKWH1P9W1KL35',\n",
       " u'3LJ7UR74RHETDOQYE0D02I5HE554NE': u'A3F1QTXSPQ6PE2',\n",
       " u'3YT88D1N08Z7NMMRH9G10LW7UQ1K3L': u'A32AUS7ZYWFXYC',\n",
       " u'3TAYZSBPLL9GQN3GIIBY8XIPHQCS2D': u'A10PVSMU1UBP8N',\n",
       " u'304SM51WA35AE03C1B499QLTBWRBS0': u'AKWH1P9W1KL35',\n",
       " u'3907X2AHF06JDVNOQ174DSDEKVZ2P5': u'A2J44NKNUFCS68',\n",
       " u'34S9DKFK73Q9BV4I3717I79OZVOYNH': u'A3UUH3632AI3ZX',\n",
       " u'3IKZ72A5B4H3B4NNYH9JTM283VEFND': u'A3SYY81SZERUDA',\n",
       " u'39GXDJN2OTF74UM9SUP4TBFZ2U48V7': u'A1T1FK3P2N408U',\n",
       " u'3S3AMIZX3U6NMGC0IL5FPB5BSEYDCW': u'A198X28FHY2OY0',\n",
       " u'3COPXFW7XBDEUBREF7D8DOZ8B6XKPH': u'A3VHE7IS4AV96D',\n",
       " u'3X87C8JFV6CXI651KT1Z4FGSXWNSQO': u'A7HDYVFP9N2Z1',\n",
       " u'3R0T90IZ1SDQY0MRKB6NVW88565GC0': u'A3VHE7IS4AV96D',\n",
       " u'3LWJHTCVCCNOE10FE910XGXD86IQFS': u'A3SYY81SZERUDA',\n",
       " u'37ZHEEHM6WNJS7F7YFRSWGRLO61732': u'A32AUS7ZYWFXYC',\n",
       " u'31N2WW6R9RRW70UDGYP4K842YEQF30': u'AZTHEMBEZ0RSS',\n",
       " u'33JKGHPFYCV9HEF4K4DWOCMH0W2MN3': u'A198X28FHY2OY0',\n",
       " u'3WJ1OXY92AHNC6JBHZY8XO1M50ZA8O': u'A3RS7UCO7CQ74R',\n",
       " u'3PJUZCGDJ6H97N96PTK81TQ2B2T89Z': u'A3O5R61IF9YJNF',\n",
       " u'32UTUBMZ7GXQ6SKGV69EKD50A05VB9': u'AKWH1P9W1KL35',\n",
       " u'3VP0C6EFSGX1AT9CLNRFM10V55R6MP': u'A2LMQ4497NMK3S',\n",
       " u'3IXQG4FA2TZS9L7DS54ISVG3J7W9BF': u'A211TF6QA1I0J4',\n",
       " u'30H4UDGLT2J9KZRH0JQOS1RC0BWPMV': u'A3LUETNYKSGBFY',\n",
       " u'3T3IWE1XG6OYX6IG9T6PEKCENVAQT4': u'A32AUS7ZYWFXYC',\n",
       " u'33F859I566ELORPWQHSA5CER2LWBH1': u'A3SYY81SZERUDA',\n",
       " u'38F71OA9GTXXTM2NMGUJG7D8Y57MFN': u'A329OWN349P7BS',\n",
       " u'374TNBHA8BWUESHAJZTOM14TEHRYQG': u'A1RC17FXGMK03J',\n",
       " u'3X31TUMD7XNMXPQUF5EJRSUPL6Y1LJ': u'A15RJPRX0KVUFS',\n",
       " u'3JW0YLFXRTHV9KIWG7A6TT1ZRAFWWQ': u'A1EGJBJBFBZJBA',\n",
       " u'3W2LOLRXLBGZ6O7TSZHXIJZNCOZKRN': u'AINSUJ6S80L8K',\n",
       " u'369J354OFDB1IJDQAKTK9WGYZ99G6R': u'A6U5ZHN5Y953Q',\n",
       " u'39U1BHVTDLS6Q5CEBIUT1CJ3PN0T3O': u'A3O5R61IF9YJNF',\n",
       " u'3SLE99ER0NE7FCPQW3YH5JIWMRUZBG': u'A333VJ2K6O6R79',\n",
       " u'3M0NZ3JDP1Z5QW8HVT742XI4OFOZ5B': u'A1SAMLI9AUPHEJ',\n",
       " u'3PB5A5BD0V7KMJRVTUYCFAGU4V47GO': u'A16PK8DLMV0XLW',\n",
       " u'33PPO7FECVGEZJY0AV110E365J9IDU': u'ANBTNIM08969Z',\n",
       " u'3VBEN272MK065HBNHXWNA1CQR9WGSZ': u'AKWH1P9W1KL35',\n",
       " u'324G5B4FB39NBFGAFS99UITEXEO70U': u'A1T1FK3P2N408U',\n",
       " u'3907X2AHF06JDVNOQ174DSDEU6JP28': u'A2F92ADB1B69V2',\n",
       " u'3CP1TO84PT2FKL556MYQFM8XRMF52J': u'A3857424R8YR3Y',\n",
       " u'388U7OUMF72XTY0PO67FZZKEM6DR0S': u'A32AUS7ZYWFXYC',\n",
       " u'3YDTZAI2WXHQZHJ99DF25BSE1TO14V': u'A3PKASGUIIYNXU',\n",
       " u'36NEMU28XFEZ48OIC54JKVZ8T82WM0': u'A154D85W3BLY4U',\n",
       " u'35L9RVQFCOJ0KQY2Q895A26FR6XUHV': u'A3MVLTRGO37TJD',\n",
       " u'3COPXFW7XBDEUBREF7D8DOZ8B5NPKA': u'A26WMSCKGBBNXO',\n",
       " u'3DY4FPOOA1PDMZ15R3V4KSA4SMQRV0': u'ATEW2XICE84QY',\n",
       " u'39PAAFCODM1Q2EEXVS0ZK7BMG7UVTO': u'A3UNUH7D8FKJ3L',\n",
       " u'3TU5ZICBRD2FZMQS6VVUNOGRL2M8QA': u'A16PK8DLMV0XLW',\n",
       " u'3Z4GS9HPNVB1TQGU0RUI9X315SS77S': u'A2NJK5F728GAQX',\n",
       " u'3ZSY5X72NXCIWFS8QR9QP0GWWT9ROE': u'AKWH1P9W1KL35',\n",
       " u'3FTF2T8WLRJKXO5ONW0EF9TOT94W9A': u'A10PVSMU1UBP8N',\n",
       " u'3O7L7BFSHEQJRPC06QCL6WLR5V1IEE': u'A3F1QTXSPQ6PE2',\n",
       " u'33LK57MYLT66WY6S7PKCV8SWSOZZSK': u'A2R819T7EYBI95',\n",
       " u'37FMASSAYCSLKM0GWZAV5OF6QEWIB6': u'A2MIOF3QNY3Y70',\n",
       " u'333U7HK6I9GAUUI6SDM1CFI6IY6JDF': u'A2NJK5F728GAQX',\n",
       " u'3EG49X351UDC458GZUTOXIGT0QP6X9': u'A26A4SN8CN0TTW',\n",
       " u'3K2755HG5S4UPSWA9NVGXHQEPRNDF4': u'ANBTNIM08969Z',\n",
       " u'3X87C8JFV6CXI651KT1Z4FGSLCYQSH': u'A15RJPRX0KVUFS',\n",
       " u'3DUZQ9U6SMPPNE1I6SV9A2F04DVVSI': u'ABC9U6U3JAG4U',\n",
       " u'3OVHNO1VE620U9NAAZPN096W1W3DZE': u'A54WTV5P8AWCR',\n",
       " u'3YHH42UU5BGMQ05CJMAJDNBFGELL0T': u'A38DC3BG1ZCVZ2',\n",
       " u'3IXQG4FA2TZS9L7DS54ISVG39XQB9H': u'A6U5ZHN5Y953Q',\n",
       " u'3Z7EFSHGN9F1KMHH9L6RJI838WPXCX': u'A18ZUFGMNOVI2Y',\n",
       " u'3Z9WI9EOZZPMHUTQWU534FXHDVLKHU': u'A3OKWRLKLYVH4F',\n",
       " u'3180JW2OT4DFQH3DD74IE3UEV6H5J6': u'A3LD1G3R5NOVYH',\n",
       " u'3P4RDNWND57R25YSKRNC3CYJA3GJIJ': u'A154D85W3BLY4U',\n",
       " u'3SBEHTYCWN4HXUTR6ROFDZD7N7EYIH': u'A2LMQ4497NMK3S',\n",
       " u'37Z929RLG99AAMXT1XVU9KRFH3YSTE': u'AKWH1P9W1KL35',\n",
       " u'3WZ36BJEV3HBT0GRQB9ZJVHF1V6TBS': u'A333VJ2K6O6R79',\n",
       " u'3C6FJU71TQUM6LOR08DTW21I5IWUY0': u'A38DC3BG1ZCVZ2',\n",
       " u'3C2NJ6JBKAIJAABBAMUC938JI772NY': u'A3KIE6ZNXVEIAY',\n",
       " u'3A1PQ49WVHIKBT74OKZLZ01IG9T1HW': u'A1PIWJSP8Q5UW7',\n",
       " u'34FNN24DCMA5L6YCZ75LOQ928AO5YY': u'A20991UK77OELL',\n",
       " u'37U1UTWH9VNFBN5SJAKUSEQWHOMR8S': u'A16PK8DLMV0XLW',\n",
       " u'3XLBSAQ9Z4DKD0M0JMM10HW0FLM7Z1': u'A3F1QTXSPQ6PE2',\n",
       " u'3TOK3KHVJTJ8EW8THDBKKJPWVH17OH': u'A2LMQ4497NMK3S',\n",
       " u'3E4GGUZ1T8SI24Q8D92WHBRF0W92KG': u'A154D85W3BLY4U',\n",
       " u'37XITHEISWAHNQV50M0ZU0MF7F4CRG': u'A3IVLB1YN1X9H9',\n",
       " u'30LB5CDZNCB6VPMGYN1SL2MD77AZ0N': u'A2LMQ4497NMK3S',\n",
       " u'3MMN5BL1WZ52DAMU2LTHFYOBVFG3M9': u'A1EGJBJBFBZJBA',\n",
       " u'3VA45EW49NOU3ATRSXUBJ9YJGB1O1L': u'A1XRIEYLA7ZJ3B',\n",
       " u'3OCHAWUVGOLJ3KT51YNP71LB3UQXK6': u'ABC9U6U3JAG4U',\n",
       " u'3UJ1CZ6IZHQ8PKM301DW64L1RPU5SM': u'A3UUH3632AI3ZX',\n",
       " u'3PPTZCWALQLUJIRFFLV708DVKBUZQ7': u'A3AYR3H2AYYT5G',\n",
       " u'3H0W84IWBK3WKOFJWD6UKOMIG7OREF': u'ARQYCKZLIPXFH',\n",
       " u'39ASUFLU6X8GHK1V5CCM9686HO7XEF': u'A38DC3BG1ZCVZ2',\n",
       " u'3WMOAN2SRBYS719DYWENB85URPXVNC': u'A3TUV36R7RR04T',\n",
       " u'3OONKJ5DKCKVG8BJUUN0PLBS2NVOB7': u'A26A4SN8CN0TTW',\n",
       " u'33LKR6A5KELAG2YZOEGADJ46R3IT1S': u'AM1HY736BY3Z8',\n",
       " u'3P4RDNWND57R25YSKRNC3CYJA3TJIW': u'A26WMSCKGBBNXO',\n",
       " u'3PM8NZGV8YH5ENR0E37M3NXKCBXQX2': u'A54WTV5P8AWCR',\n",
       " u'3RU7GD8VPOUCIU4MKGMA4AQIGG4SPK': u'AWJQCGGSPX073',\n",
       " u'32UTUBMZ7GXQ6SKGV69EKD50A0OBV8': u'A23ON1ND7B1NE8',\n",
       " u'3SBEHTYCWN4HXUTR6ROFDZD7BN7IYE': u'A105Q9KX0PVR4N',\n",
       " u'3M0BCWMB8VX3LHKLLGEA6FOE7Y9WBQ': u'A1OIITZ4Z8WEW',\n",
       " u'3FIUS151DV33FC2WMX26LNTN3Y1GGE': u'A2NJK5F728GAQX',\n",
       " u'3URFVVM165JMBBYWWUFCA9AKNWDZUP': u'ANBTNIM08969Z',\n",
       " u'3VA45EW49NOU3ATRSXUBJ9YJIKO1O5': u'AW0E5C6MWDVSU',\n",
       " u'3WQ3B2KGE8HAKG4IOSPPDPYKLWDB1F': u'A329OWN349P7BS',\n",
       " u'3GNA64GUZE5WC47Q8XORB460JCX5QH': u'A3MVLTRGO37TJD',\n",
       " u'3VSOLARPKBAN6Q30DCPCACIRJWV93M': u'A2MIOF3QNY3Y70',\n",
       " u'3PH3VY7DJLYZ3FN1RUUDSXVH8CEZWE': u'A2NJK5F728GAQX',\n",
       " u'3NLZY2D53PQAETAB0K4YST2X52QQLJ': u'A3LUETNYKSGBFY',\n",
       " u'3GD6L00D3SY6378FFHFYR59ENK9M1B': u'A3UUH3632AI3ZX',\n",
       " u'3EJPLAJKEMH1908V0CH9U3W4KACZ64': u'A25YG9M911WA3T',\n",
       " u'3B2X28YI3WG5R25FUY168LP1T7XB6H': u'A54WTV5P8AWCR',\n",
       " u'3YGXWBAF70IAMKT7PA4MM7B53HS4CH': u'ARQYCKZLIPXFH',\n",
       " u'3QAPZX2QN4EGPEJ49GSEYRC6MYV202': u'AMJ9X1MIE8CZ5',\n",
       " u'3XUHV3NRVKZJZB8NP71X2QEZSPT5HD': u'A2LMQ4497NMK3S',\n",
       " u'3NQL1CS15R9MJ0DR5YNYSO31V96VY7': u'A3LUETNYKSGBFY',\n",
       " u'3KAKFY4PGU3GHRW3H6VPN5HU4V0I3G': u'A20991UK77OELL',\n",
       " u'39KFRKBFINWRTG4U4M1KXW9TP5TOYM': u'A3UUH3632AI3ZX',\n",
       " u'3EFE17QCRC6K5D6Y13E5V1OR691SH2': u'A3QW1C79IH4GOG',\n",
       " u'3U088ZLJVKU21UHBN0HLMYSVQ5YW0M': u'A2G06VFMAUG53',\n",
       " u'3ZGVPD4G6TI7BYJ7WPP25DOI4IRZTJ': u'AKF2TMBSIYPVU',\n",
       " u'3TE3O8573094P8333TBTINDTJ432RT': u'A976M3RO7YJ1',\n",
       " u'38BQUHLA9W1RZZFGLJD931MMEM0OMX': u'A3OKWRLKLYVH4F',\n",
       " u'3PZDLQMM0TM0J6EKLWLYTSE7J3XC2U': u'A32AUS7ZYWFXYC',\n",
       " u'3JRJSWSMQHM41MUHLN5Y2QJ2AT73EM': u'AL8NYDL4JOYL3',\n",
       " u'38JBBYETQOBPJIDLL1AHCVB8Q2T4EI': u'A1YNSX11UM84SZ',\n",
       " u'3ZDAD0O1T1EI63JSV71H8S87WI8TXV': u'AKWH1P9W1KL35',\n",
       " u'3LRLIPTPEQA777LCQOVBNTAD00XKAL': u'ARQYCKZLIPXFH',\n",
       " u'37ZHEEHM6WNJS7F7YFRSWGRL0QD73U': u'A3O5R61IF9YJNF',\n",
       " u'3A4NIXBJ760JTECJ8RXHBKISV16LM4': u'A1PIWJSP8Q5UW7',\n",
       " u'34BBWHLWHACD8PYRRQ6RS2SRCY1IWN': u'A13LXDXAWD5DSY',\n",
       " u'3SEPORI8WN02W2KYQPYLA8YQ6IXAZ4': u'A1YNSX11UM84SZ',\n",
       " u'3NG53N1RLVKUZAPD6IG5NJQHG64P84': u'A3B0AB2C9SIHN',\n",
       " u'3EFE17QCRC6K5D6Y13E5V1OR69GHS6': u'A3UNUH7D8FKJ3L',\n",
       " u'3OSWBBLG1EYBPENV9H123OQLTW8XD4': u'AKWH1P9W1KL35',\n",
       " u'3QRYMNZ7FYIDU95OT1E8AQH9U4ZTNC': u'A3OFS8ID5PGH1U',\n",
       " u'34J10VATJFZ8OS25FH7L0DA5ENCIQH': u'ANXJRYZDKHNDV',\n",
       " u'3FE7TXL1LIO4D7O3QEMTDX3OZ2SQ2N': u'AEK2SAEL9GG39',\n",
       " u'3EO896NRAWWHBJE3E3MGHJ0SB90TJI': u'A2R819T7EYBI95',\n",
       " u'3GFK2QRXX9I1W13CK6NX3TOMX2R5W2': u'A1U0GNE5ELW5V7',\n",
       " u'3TYCR1GOTCKJSLB2NGNBJME1YLAZL5': u'A1XRIEYLA7ZJ3B',\n",
       " u'3TXWC2NHNZRRQ7OF3RQDIKQ3NW79S7': u'A3F1QTXSPQ6PE2',\n",
       " u'3RYC5T2D73U0HF495RM5E0LM6Y2RPS': u'A154D85W3BLY4U',\n",
       " u'3R6BYFZZP7D8NY1R0NWSROT6VY9XF4': u'ABC9U6U3JAG4U',\n",
       " u'3UXUOQ9OKEYJCSES7U62JO5R60TA7H': u'A1U1FA19SO7SM',\n",
       " u'3TXD01ZLD4I68EA7B1PMGDXBM1SU4Q': u'A2LMQ4497NMK3S',\n",
       " u'3R08VXYT7CWGJ5HV8Z2U1D2IYJ07WT': u'A2NJK5F728GAQX',\n",
       " u'35GMH2SV3EITNBN34LPQQTHDH4DOES': u'A1EGJBJBFBZJBA',\n",
       " u'3DYGAII7PL905EP9SCX59ABH01CQP6': u'ANTH5IGN5CHN6',\n",
       " u'39GHHAVOMFSXUYZDZ2L89BO05LXJ4M': u'A16PK8DLMV0XLW',\n",
       " u'39N5ACM9HEOUDF8NBAMJNFLSQ16P9H': u'ABC9U6U3JAG4U',\n",
       " u'32N49TQG3GJLNIFOPS9IP2LUSIGVAA': u'A18ZUFGMNOVI2Y',\n",
       " u'37WLF8U1WPR6K5990BEZ7O8R4H4K6S': u'A333VJ2K6O6R79',\n",
       " u'3VZLGYJEYLBESFSR1ZQZUG9O5UNXZS': u'A3KKRE2IS3AF3I',\n",
       " u'3YOH7BII098RZVOA1JM7JGOQXUYVKD': u'A2NJK5F728GAQX',\n",
       " u'3Q8GYXHFEP3SI3X73FNWRZHJFX3C5Q': u'A3O5R61IF9YJNF',\n",
       " u'3BDCF01OGXVJNV1XRULS5F5Z4B5YLS': u'A3B0AB2C9SIHN',\n",
       " u'3HMVI3QICJT6XOXTYK39L0WL65RY1D': u'A25YG9M911WA3T',\n",
       " u'3137ONMDKG65VY65G2CILK8BEYDGE8': u'A38DC3BG1ZCVZ2',\n",
       " u'32M8BPYGATNHB38RCL296Z63IBKIGZ': u'A33OHVP7CMJ4KU',\n",
       " u'3SNVL38CI4TV0MIAA2R2TO01CNPCK2': u'A3SYY81SZERUDA',\n",
       " u'3EF8EXOTT1WG2Z2UCK26BDHXHHW1JK': u'A35IEM9AICHLN0',\n",
       " u'3I33IC7ZWF3CQRHM1IP7NXOJVKKA2E': u'A3MVLTRGO37TJD',\n",
       " u'354P56DE9K4NCO0MOUST4OZXS6ES79': u'A1EGJBJBFBZJBA',\n",
       " u'37UQDCYH6XW34GHQIPXYFBJ4FQVV7O': u'A333VJ2K6O6R79',\n",
       " u'3BEFOD78W6UNV65Y2ZY0P3GHXVT4MW': u'A105Q9KX0PVR4N',\n",
       " u'3DY46V3X3PJ7JIOSO50ODTB9BW355H': u'A32AUS7ZYWFXYC',\n",
       " u'326O153BMIZ2JEWEECBAFZ5E16WEDV': u'A1KCK9I7GD6KAU',\n",
       " u'32ZKVD547FO6UJIXBW381IDHJG0B3G': u'A3O5R61IF9YJNF',\n",
       " u'3X65QVEQI0O6KS0SV2338ODG1NNLC7': u'AM1HY736BY3Z8',\n",
       " u'3QAPZX2QN4EGPEJ49GSEYRC6MY920G': u'AKWH1P9W1KL35',\n",
       " u'3R9WASFE2ZHXST1615KDO99HD92FZA': u'A1P7U2ULSAE7YL',\n",
       " u'358UUM7WRZ4BB90995SOEEU1UKKR7T': u'A32AUS7ZYWFXYC',\n",
       " u'3IJXV6UZ1XK80TH5SWWL53KA80YIRI': u'A1E56264OK9UN5',\n",
       " u'3C44YUNSI1Q6G5L4NQRL9B4IRXZPD8': u'A3SYY81SZERUDA',\n",
       " u'3BDCF01OGXVJNV1XRULS5F5Z4B4LYE': u'A23ON1ND7B1NE8',\n",
       " u'3MX2NQ3YC9VGL182UBJJ5C2TGFB5X5': u'A1SQ7NDKJ5LDXX',\n",
       " u'3GA6AFUKOOPGLWLJBOD4NTGFETU3HD': u'A16PK8DLMV0XLW',\n",
       " u'3RRCEFRB7MDRCF11BA8RBN5NXGO4BM': u'ATEW2XICE84QY',\n",
       " u'36TFCYNS44BS1USXVDKSU95JBDNHXN': u'A3UUH3632AI3ZX',\n",
       " u'3NS0A6KXC4936TX1CPQV6U9T24LGZD': u'A1S8DYWNS59XWB',\n",
       " u'30BXRYBRP4YDCUN7L8O6SQRCCMWHW5': u'AKWH1P9W1KL35',\n",
       " u'3OF2M9AATGP88FTK2GBA4M1MBUPKZR': u'A2QYTNTTER3YDI',\n",
       " u'3X31TUMD7XNMXPQUF5EJRSUPXQT1LU': u'A3AYR3H2AYYT5G',\n",
       " u'3FTOP5WARFPGVAHCG1Y6X8YNO9OJ0D': u'A25YG9M911WA3T',\n",
       " u'3DL65MZB8DGSEMQ0EGGZVTNWG6LCEU': u'A3GNQDFPZALU92',\n",
       " u'308Q0PEVB8E2WTLJYFWZEIKGEYVI9E': u'A3PWONT50E3RZ6',\n",
       " u'352YTHGROVE13S4NB2INXY8LST84HH': u'A1D4I1QYL9713I',\n",
       " u'3PM8NZGV8YH5ENR0E37M3NXKCAOXQY': u'AE861G0AY5RGT',\n",
       " u'3QY5DC2MXRLG6U7WVIL57HU2Z7CUF9': u'AYSAS2T3FXW40',\n",
       " u'3AWETUDC92TH2K3W2DQYR6M9T1TIZ3': u'A3O5R61IF9YJNF',\n",
       " u'39ASUFLU6X8GHK1V5CCM9686T8DEXI': u'A23ON1ND7B1NE8',\n",
       " u'3FPRZHYEPY8L3XG3GDU82U7OM833V1': u'A2AGCESL0CS10P',\n",
       " u'3K9FOBBF2HKPBWXJKSCHOZ7S0RVNLL': u'AM1HY736BY3Z8',\n",
       " u'386CSBG1OZNSV874DGYW3AK03NY6Q8': u'A333VJ2K6O6R79',\n",
       " u'3907X2AHF06JDVNOQ174DSDEU512P1': u'A2F92ADB1B69V2',\n",
       " u'3ITXP059PWKGWJ1OP3HQ7E46J14SJ6': u'A18ZUFGMNOVI2Y',\n",
       " u'3I33IC7ZWF3CQRHM1IP7NXOJJ042AA': u'A31KR6QG24K19O',\n",
       " u'3X08E93BHVJZLQOKY7KYX5395V666F': u'AW3OCYBHAR58B',\n",
       " u'3WETL7AQWT94531OAMCVYWDP9KD356': u'AM1HY736BY3Z8',\n",
       " u'3T3IWE1XG6OYX6IG9T6PEKCENV8QT2': u'AOXYPOBZSU1C2',\n",
       " u'3P59JYT76LLH5NGV7IGOI2EBJ8LT2W': u'A150BOXII7BKNP',\n",
       " u'3DQQ64TANGM5PBLV4LWB1ZT3YD7PWJ': u'A329OWN349P7BS',\n",
       " u'31Q0U3WYDPGNI41SBBD98NCO26W71Z': u'A3B0AB2C9SIHN',\n",
       " u'3QRYMNZ7FYIDU95OT1E8AQH9U4PTN2': u'A2G06VFMAUG53',\n",
       " u'3K772S5NP8CJVU1G08U06KKC5IJEHE': u'AVXWE0AHJKQ0P',\n",
       " u'3CPLWGV3MO0UAUWAVV9RJQGXODF9NV': u'AWJQCGGSPX073',\n",
       " u'32N49TQG3GJLNIFOPS9IP2LUGYVAVO': u'AWJQCGGSPX073',\n",
       " u'3TOK3KHVJTJ8EW8THDBKKJPWVHVO7S': u'ATEW2XICE84QY',\n",
       " u'3B1NLC6UGZX9SPVVPGSTFW7FUEYPG5': u'A1IWW7TKKQYOL3',\n",
       " u'3GNCZX450IO8IYIS3G0JJAWC6UYPA2': u'AKF2TMBSIYPVU',\n",
       " u'3NPI0JQDAO6DXUH19GR0EFM4I08TP2': u'A2MIOF3QNY3Y70',\n",
       " u'34MAJL3QP4OM9KXOWHTLT47BZD334Q': u'A1VCY19BMY5MJA',\n",
       " u'3L2IS5HSFAJSUMKDT64IFM3BDHJUNF': u'A3TUV36R7RR04T',\n",
       " u'3OE22WJIGIPDXJX59YWZJGYGITNQUH': u'A3UNUH7D8FKJ3L',\n",
       " u'3W92K5RLWUIOHC37UWI1HR58OK3V5C': u'APLQSM4J9E6LR',\n",
       " u'3HVVDCPGTET7689203NJR6FGM3HYT3': u'A2MIOF3QNY3Y70',\n",
       " u'3WEV0KO0OMT3TX1WF7VF4G9TEHMDSS': u'AVXWE0AHJKQ0P',\n",
       " u'3E47SOBEYQX4URSMAZ6QG8LOKJQICN': u'A1SQ7NDKJ5LDXX',\n",
       " u'3WSELTNVR336AQBZKX93OKX9VXLTAD': u'AM1HY736BY3Z8',\n",
       " u'35GMH2SV3EITNBN34LPQQTHDH42EO7': u'A16PK8DLMV0XLW',\n",
       " u'3DUZQ9U6SMPPNE1I6SV9A2F0248SV8': u'AL8NYDL4JOYL3',\n",
       " u'3E4GGUZ1T8SI24Q8D92WHBRF0W5K2U': u'A2LMQ4497NMK3S',\n",
       " u'39N5ACM9HEOUDF8NBAMJNFLSQ13P9E': u'A3I9FTHSULHPYS',\n",
       " u'3U84XHCDICENUD4HHOOUX5CQE8XZ4E': u'ABC9U6U3JAG4U',\n",
       " u'3TXD01ZLD4I68EA7B1PMGDXBCQL4UX': u'A2DVFA1B7NMN0F',\n",
       " u'3C6FJU71TQUM6LOR08DTW21I5IYYU6': u'ARQYCKZLIPXFH',\n",
       " u'3SITXWYCNVAIAHPBVLAW8Y2LQBTXBU': u'A2G06VFMAUG53',\n",
       " u'3VBEN272MK065HBNHXWNA1CQR8DSGQ': u'A34M93NJC830DP',\n",
       " u'3A4TN5196KJ4YWH24HO5GWK9K6NHC5': u'A3PZV9M96H4O46',\n",
       " u'3DY4FPOOA1PDMZ15R3V4KSA4SM6RVG': u'AM1HY736BY3Z8',\n",
       " u'3X3OR7WPZZ148PAFEQNY62HXBWVL8U': u'A2CJFO19NY4T5R',\n",
       " u'3VZLGYJEYLBESFSR1ZQZUG9O5UKXZP': u'A2MIOF3QNY3Y70',\n",
       " u'3NL0RFNU0FOS5I5VHNLKAQOD8QV4KO': u'AWJQCGGSPX073',\n",
       " u'3WLEIWSYHOIR0EP07OZZ4JBN8FVH2H': u'AM1HY736BY3Z8',\n",
       " u'3QY7M81QH7NPO5NEJLJRD28NBBGK7X': u'A1OHAM3YKHJRDU',\n",
       " u'3MD9PLUKKIF9GLENZT3QWEIQ3G6NZR': u'A333VJ2K6O6R79',\n",
       " u'3KOPY89HM83CC2G9ZOGPZ6WUF193JD': u'A2MIOF3QNY3Y70',\n",
       " u'3YOH7BII098RZVOA1JM7JGOQLARVKQ': u'A38DC3BG1ZCVZ2',\n",
       " u'3137ONMDKG65VY65G2CILK8BQILEGU': u'A2F92ADB1B69V2',\n",
       " u'30LB5CDZNCB6VPMGYN1SL2MDVN2Z0Z': u'A2MIOF3QNY3Y70',\n",
       " u'3YHH42UU5BGMQ05CJMAJDNBFSYO0LR': u'A1SQ7NDKJ5LDXX',\n",
       " u'33PPUNGG386UVJ6FS0K75YN0GXURZY': u'ATEW2XICE84QY',\n",
       " u'3WR9XG3T63C4A3YBYTWB6LJREQ674C': u'A2HP328OQSJ253',\n",
       " u'3AQF3RZ558JV4JHVZ0N2RBGM856F6K': u'A3O5R61IF9YJNF',\n",
       " u'3QEMNNSB2X0HAZH4R4X49PDXFJXD7D': u'ARQYCKZLIPXFH',\n",
       " u'388U7OUMF72XTY0PO67FZZKEYQSR0N': u'A3BPUFEFCW0M09',\n",
       " u'3RGU30DZTA9DYOOJ56L4V550RCNJMM': u'A25YG9M911WA3T',\n",
       " u'36PW28KO4ZX4L7T2U2K8PYX8SNTAEZ': u'AM1HY736BY3Z8',\n",
       " u'3A4NIXBJ760JTECJ8RXHBKISV1RLMP': u'A2LMQ4497NMK3S',\n",
       " u'3R9WASFE2ZHXST1615KDO99HD9UFZ2': u'A1D4I1QYL9713I',\n",
       " u'3QFUFYSY9YGHPWDHGCUNUDW8CEQ4FE': u'A3S5DWMCT53P8',\n",
       " u'3Y5140Z9DXHNOG1QF4SW08KV7I6IPM': u'AL8NYDL4JOYL3',\n",
       " u'3OVR4I9USPKEGL3QUS5H6C0M7WOQ43': u'A2MIOF3QNY3Y70',\n",
       " u'3OWEPKL089DQWB8HGYB75UPRVWE7NO': u'A20991UK77OELL',\n",
       " u'3PM8NZGV8YH5ENR0E37M3NXK0RSQXH': u'A32AUS7ZYWFXYC',\n",
       " u'3BEFOD78W6UNV65Y2ZY0P3GHXVWM4H': u'A333VJ2K6O6R79',\n",
       " u'3SUWZRL0MYE3Y5HZ4P3W9TVMKKCE66': u'A18ZUFGMNOVI2Y',\n",
       " u'3I02618YA07SX7WQ9LHAJB861DXPU5': u'A15RJPRX0KVUFS',\n",
       " u'3TDXMTX3CBVFEAJL08TNU8TEOXFI6V': u'A3MVLTRGO37TJD',\n",
       " u'36V4Q8R5ZK1UKBSW0W5DS6HMTNIMQ3': u'A32AUS7ZYWFXYC',\n",
       " u'3ZDAD0O1T1EI63JSV71H8S87WIWTXJ': u'A3SYY81SZERUDA',\n",
       " u'3YWRV122CS07RFX9N4FZXPDGC3WU8P': u'AL8NYDL4JOYL3',\n",
       " u'3C8HJ7UOP7V3Y3TNNSOQJZTQAAXMZ7': u'AMJ9X1MIE8CZ5',\n",
       " u'3STRJBFXOWSCM3KLWOMSIY05OPLTKI': u'ARQYCKZLIPXFH',\n",
       " u'3WETL7AQWT94531OAMCVYWDP9KB536': u'A1017VP86SLXRB',\n",
       " u'3FDJT1UU749A119VVS4UFIURK6Z5KJ': u'A3G8Z4D1PWXV8J',\n",
       " u'3KB8R4ZV1E87OVUL6BASKC2QDAKBG7': u'AAC5XT7UY7B2K',\n",
       " u'3P529IW9KYMDN4K2M4T4GUYJOPXLF4': u'AAC5XT7UY7B2K',\n",
       " u'3EKVH9QMEY5AOYKYLSG9DYWPGNZD21': u'A3TUV36R7RR04T',\n",
       " u'3KJYX6QCM9CWOBISJYMVI1ODI5UVJA': u'A16PK8DLMV0XLW',\n",
       " u'337RC3OW0532J16SMJY8YG15MTSLVT': u'AB66CTVQ90RCV',\n",
       " u'31EUONYN2V4APM9PZBE0QX5Z7OVOVH': u'A3PKASGUIIYNXU',\n",
       " u'3TPZPLC3M0D8YDJ7U1L9W2I60KE3PS': u'A2G06VFMAUG53',\n",
       " u'33LKR6A5KELAG2YZOEGADJ46FJHT1B': u'A32AUS7ZYWFXYC',\n",
       " u'3KKG4CDWKIZ8OMM4DQUVKHAX9GZ94V': u'A3SYY81SZERUDA',\n",
       " u'386PBUZZXFYTS66Y5UKPVSQBR7ZLJO': u'A2LMQ4497NMK3S',\n",
       " u'37Q970SNZE9912LKZEBK3E8KPK3S11': u'A16DZUAE29Z21H',\n",
       " u'3FTF2T8WLRJKXO5ONW0EF9TOT8EW9I': u'A3AYR3H2AYYT5G',\n",
       " u'3FDJT1UU749A119VVS4UFIUR8MPK58': u'A31KR6QG24K19O',\n",
       " u'3YMU66OBIN9HF8X763KO6N5O8NSGHV': u'A6U5ZHN5Y953Q',\n",
       " u'379J5II41OHLHQK6RT9YYCDJCOMLEQ': u'A3LD1G3R5NOVYH',\n",
       " u'3DI28L7YXAF8RJG2YJRFEX45OT6E1Y': u'A2NJK5F728GAQX',\n",
       " u'3A7Y0R2P2OPOS0NNJDND6MLYYGMJXL': u'A3EPGZXTTQGYOD',\n",
       " u'3MMN5BL1WZ52DAMU2LTHFYOBJV2M3Y': u'A333VJ2K6O6R79',\n",
       " u'37C0GNLMHF4Y6Z3Z8USC3BD1MHUD6F': u'A3HHD59X5X8DE6',\n",
       " u'3K4J6M3CXEU25LPT0XAWP1IK539GAN': u'A3SYY81SZERUDA',\n",
       " u'3VSOLARPKBAN6Q30DCPCACIRVG1392': u'A3AYR3H2AYYT5G',\n",
       " u'39ASUFLU6X8GHK1V5CCM9686T82XEQ': u'A3IVLB1YN1X9H9',\n",
       " u'3TMSXRD2X6128J2TJJLL03B5JD21WC': u'A2MIOF3QNY3Y70',\n",
       " u'3S0TNUHWKTJLADMN19PANP9SQ3Y8DQ': u'A38DC3BG1ZCVZ2',\n",
       " u'3AQF3RZ558JV4JHVZ0N2RBGMWLT6FI': u'A976M3RO7YJ1',\n",
       " u'30JNVC0OR9L8SXRL9ZP0019QC1JQHY': u'A32AUS7ZYWFXYC',\n",
       " u'32AT8R96GLAPAZCI12L4EGDH0GSSUQ': u'A2LMQ4497NMK3S',\n",
       " u'358UUM7WRZ4BB90995SOEEU164E7RJ': u'A54WTV5P8AWCR',\n",
       " u'3EG49X351UDC458GZUTOXIGT2Z66XA': u'A2DVFA1B7NMN0F',\n",
       " u'30BXRYBRP4YDCUN7L8O6SQRC2BIWHA': u'A22ON3MIIG0IJA',\n",
       " u'3NJM2BJS4W7WBDFQNUWAP5M06X3CPB': u'A1P7U2ULSAE7YL',\n",
       " u'3DL65MZB8DGSEMQ0EGGZVTNWIF9CE2': u'A3LD1G3R5NOVYH',\n",
       " u'3PJ71Z61R43RWNPLQ8BTMJ3UXV519O': u'A2AGCESL0CS10P',\n",
       " u'3IAEQB9FMELW0EI5ZC5G15CEKUEWDM': u'A3SYY81SZERUDA',\n",
       " u'37UEWGM5HT9X0NL7KPBFD43O3ILR1D': u'A13LXDXAWD5DSY',\n",
       " u'33SA9F9TRXV1SKW5V7G07NUZK6LEW3': u'A18ZUFGMNOVI2Y',\n",
       " u'34FNN24DCMA5L6YCZ75LOQ92617Y5Q': u'A26A4SN8CN0TTW',\n",
       " u'3RYC5T2D73U0HF495RM5E0LMWNARP4': u'A3LD1G3R5NOVYH',\n",
       " u'3Z7EFSHGN9F1KMHH9L6RJI838W8CXV': u'A3GCAKQMGAU3ML',\n",
       " u'3V5Q80FXIXSC66I1S3AX0PADPAD32W': u'A16PK8DLMV0XLW',\n",
       " u'3MB8LZR5BFUO3QCGNFK1W7QOUC1LK9': u'A2MIOF3QNY3Y70',\n",
       " u'3BF51CHDTVBK44MMS1VLLVI8BHAH0W': u'A3VHE7IS4AV96D',\n",
       " u'31QNSG6A5RU5T4LDAWMONXZWGCZ87H': u'A21HRAFQT4OILB',\n",
       " u'3XUHV3NRVKZJZB8NP71X2QEZG5S5HW': u'A32AUS7ZYWFXYC',\n",
       " u'3HFNH7HEMHFUS1WAPT7IF1XPZAPQG2': u'A3UUH3632AI3ZX',\n",
       " u'3PB5A5BD0V7KMJRVTUYCFAGUSBBG7O': u'A32AUS7ZYWFXYC',\n",
       " u'3Z4XG4ZF48SZ8JR4S9QMHWCKI58X8V': u'AKF2TMBSIYPVU',\n",
       " u'3A7Y0R2P2OPOS0NNJDND6MLYMWAXJ7': u'ABEMBW6584CFY',\n",
       " u'3D4CH1LGEAUO02FO8RWWT670N1TG9U': u'AWJQCGGSPX073',\n",
       " u'317HQ483I7TNLVPDZPF4WJF0JNZNI5': u'A2F92ADB1B69V2',\n",
       " u'39N5ACM9HEOUDF8NBAMJNFLS0CEP9L': u'A25YG9M911WA3T',\n",
       " u'3E1QT0TDFPA2IO29TNQLEMP5I8A8IW': u'ARQYCKZLIPXFH',\n",
       " u'34V1S5K3GS2M39QIWENAHFUB57P960': u'A25YG9M911WA3T',\n",
       " u'30LSNF239UWRW90KD6HK4VC28ST2IE': u'A3GCAKQMGAU3ML',\n",
       " u'3JNQLM5FT4NTMA8QY9EXWB4UDCEL2M': u'ARQYCKZLIPXFH',\n",
       " u'39JEC7537U29GXCM9659VXBIIACVCR': u'A3UUH3632AI3ZX',\n",
       " u'3OVR4I9USPKEGL3QUS5H6C0MJGK4QT': u'A3SYY81SZERUDA',\n",
       " u'3YZ8UPK3VTN93INM4GV4ZB9ZEEJCUV': u'A3GCAKQMGAU3ML',\n",
       " u'3RGU30DZTA9DYOOJ56L4V550RCVMJX': u'A2NJK5F728GAQX',\n",
       " u'3NLZY2D53PQAETAB0K4YST2X52WLQK': u'A1NKN75QAFQB75',\n",
       " u'33LKR6A5KELAG2YZOEGADJ46R3PT1Z': u'A2NJK5F728GAQX',\n",
       " u'3DPNQGW4LLGL63K6FJRJ07JV7VI46Q': u'A3GNQDFPZALU92',\n",
       " u'36PW28KO4ZX4L7T2U2K8PYX8G3XEAR': u'A38DC3BG1ZCVZ2',\n",
       " u'308XBLVESI5YDL3ZMM44JGGXPU9BRD': u'A3B0AB2C9SIHN',\n",
       " u'3018Q3ZVOIRTUBY7G848O5WR7CSARL': u'A2LMQ4497NMK3S',\n",
       " u'3C5W7UE9CFRET8T8MA05MEDF2A5XMR': u'A1RC17FXGMK03J',\n",
       " u'3TAYZSBPLL9GQN3GIIBY8XIPHQL2SW': u'A3B0AB2C9SIHN',\n",
       " u'3VNL7UK1XFK16HS7VDVV2L80SD1TFT': u'A1T1FK3P2N408U',\n",
       " u'3P4RDNWND57R25YSKRNC3CYJA36IJ8': u'A3PWONT50E3RZ6',\n",
       " u'3L6L49WXW0YPNZKSA0HE815VB06459': u'A333VJ2K6O6R79',\n",
       " u'3R0T90IZ1SDQY0MRKB6NVW8859HGCI': u'A29IAKC9D77GCJ',\n",
       " u'3MRNMEIQW57GPK66VYYESUVYMNYLD6': u'AKWH1P9W1KL35',\n",
       " u'3BEFOD78W6UNV65Y2ZY0P3GHXVX4M0': u'A38DC3BG1ZCVZ2',\n",
       " u'3TY7ZAOG5FLB6UNUYMYIYNY03YTK0I': u'A3UNUH7D8FKJ3L',\n",
       " u'32Z9ZLUT1LL57LE5UMXWBWEQX0YHOE': u'A15RJPRX0KVUFS',\n",
       " u'37WLF8U1WPR6K5990BEZ7O8RG1PK6T': u'A18ZUFGMNOVI2Y',\n",
       " u'3OONKJ5DKCKVG8BJUUN0PLBSE78OB0': u'A1SAMLI9AUPHEJ',\n",
       " u'3R6BYFZZP7D8NY1R0NWSROT6VY8XF3': u'A3LD1G3R5NOVYH',\n",
       " u'37U1UTWH9VNFBN5SJAKUSEQW54KR8A': u'A3DGA7BHDLXJND',\n",
       " u'3HSYG7LRBJZDJKUY2F80H7D95CVKK4': u'A2MIOF3QNY3Y70',\n",
       " u'3JNQLM5FT4NTMA8QY9EXWB4UPV0L2M': u'A3SYY81SZERUDA',\n",
       " u'3R2PKQ87NW9H3D4DNO04J4Q0EXDMIS': u'A1RC17FXGMK03J',\n",
       " u'31Z0PCVWUKGOROD1DUXJETVJUPIT7P': u'A23ON1ND7B1NE8',\n",
       " u'34V1S5K3GS2M39QIWENAHFUB57A69I': u'A1EGJBJBFBZJBA',\n",
       " u'3YT88D1N08Z7NMMRH9G10LW7UQ73KA': u'A15RJPRX0KVUFS',\n",
       " u'3GDTJDAPVUCOE7S0E2OD6FWMB0I8ME': u'A3IVLB1YN1X9H9',\n",
       " u'3S06PH7KSR53ZD222OGV8FMKOH9D18': u'A154D85W3BLY4U',\n",
       " u'3TESA3PJ31B3ZWU483YWBXXHV6YMM9': u'A2HP328OQSJ253',\n",
       " u'3Q8GYXHFEP3SI3X73FNWRZHJFXU5CA': u'AKWH1P9W1KL35',\n",
       " u'35H6S234SA132MO6TOAT5ZP9JB9659': u'A2DLBFNQ1N5TLV',\n",
       " u'3A9AA95ATWNBCS6B8K92BZGQEGX5PC': u'A3MVLTRGO37TJD',\n",
       " u'3ITXP059PWKGWJ1OP3HQ7E469RJSJR': u'A3M6O2NWJU680R',\n",
       " u'3WSELTNVR336AQBZKX93OKX9VX1ATA': u'A3OFS8ID5PGH1U',\n",
       " u'33L7PJKHCGZSR2IKNZPPSTRE58DT8Z': u'AL4WZDIXIVO2S',\n",
       " u'382M9COHEHGO0G70071ZPZ92N6REU5': u'A38DC3BG1ZCVZ2',\n",
       " u'3H7XDTSHKCSZCYSW126O7QFBNB4WGA': u'A2DVFA1B7NMN0F',\n",
       " u'3ZDAD0O1T1EI63JSV71H8S87WI2TXP': u'A23ON1ND7B1NE8',\n",
       " u'3C2NJ6JBKAIJAABBAMUC938JUR7N2Z': u'A3VHE7IS4AV96D',\n",
       " u'34MAJL3QP4OM9KXOWHTLT47BX4C34F': u'A105Q9KX0PVR4N',\n",
       " u'3M0NZ3JDP1Z5QW8HVT742XI4CVA5ZN': u'A32AUS7ZYWFXYC',\n",
       " u'3TK8OJTYM1MSAMLQEBRFFXAPR4KPVO': u'A3LUETNYKSGBFY',\n",
       " u'3OWEPKL089DQWB8HGYB75UPR5727N8': u'A1017VP86SLXRB',\n",
       " u'3SBEHTYCWN4HXUTR6ROFDZD7DWUIYL': u'A1EQ2HDHF2WWSY',\n",
       " u'3EJPLAJKEMH1908V0CH9U3W48QH6Z0': u'AWJQCGGSPX073',\n",
       " u'3VAR3R6G1P2CEADCRI3QYJLRUH18OJ': u'A3OKWRLKLYVH4F',\n",
       " u'3WRFBPLXRAP8VS7UEM8HSDDB05M3N5': u'A1P7U2ULSAE7YL',\n",
       " u'3U8YCDAGXPHXHXLPBRIFU9A92450QA': u'A2E5XFVXG86Y1J',\n",
       " u'3IHR8NYAM72TG92BUFQS67ACEJXP4K': u'A2G06VFMAUG53',\n",
       " u'3SKRO2GZ71SBDJ8CU52ICSHA8PH1KI': u'A2F92ADB1B69V2',\n",
       " u'3HRMW88U16R6WINXJYBYD0Q4S3Q0M5': u'A1017VP86SLXRB',\n",
       " u'3G5F9DBFOPY0X5N2VYJA6O8YTTVVHU': u'APLQSM4J9E6LR',\n",
       " u'3V5Q80FXIXSC66I1S3AX0PADPAV23D': u'A1RC17FXGMK03J',\n",
       " u'30ZX6P7VF8WNRKKQVO2KGWR2L6VJ2I': u'A3TUV36R7RR04T',\n",
       " u'3P529IW9KYMDN4K2M4T4GUYJMGJFL0': u'A32AUS7ZYWFXYC',\n",
       " u'34FNN24DCMA5L6YCZ75LOQ92ILY5Y4': u'A1D4Z17JF8TE4Y',\n",
       " u'39DD6S19JPC5MF1A6U076ROH18GZE5': u'A1IM9SPV7X9P6W',\n",
       " u'3FTYUGLFSUM2NV3L3BI7B5Z10X35D7': u'A2NJK5F728GAQX',\n",
       " u'3ON104KXQKXJ0IZC614NY1I87HN4WJ': u'A3OFS8ID5PGH1U',\n",
       " u'3OONKJ5DKCKVG8BJUUN0PLBSE76OBY': u'A1D4I1QYL9713I',\n",
       " u'3LO69W1SU3EJ14GXXOZMYFYVZFPGLM': u'A2LMQ4497NMK3S',\n",
       " u'3OVR4I9USPKEGL3QUS5H6C0MJG44QD': u'ANBTNIM08969Z',\n",
       " u'3EG49X351UDC458GZUTOXIGTCAD6XD': u'A16PK8DLMV0XLW',\n",
       " u'31QTRG6Q2TE9EGGVJMEZMWEJ9L4PYF': u'A3SYY81SZERUDA',\n",
       " u'3ON104KXQKXJ0IZC614NY1I8VX84WO': u'A38DC3BG1ZCVZ2',\n",
       " u'3PXX5PX6LXZ6E4HIKBIIOQRNPQMAB5': u'AM1HY736BY3Z8',\n",
       " u'3DL65MZB8DGSEMQ0EGGZVTNWG6NECY': u'A15RJPRX0KVUFS',\n",
       " u'3TVRFO09GKGUNQBNMYZQM1YQ25AXLK': u'AB6F473EMJD8Y',\n",
       " u'3N8OEVH1FRRFZ20SYZSMV5BRL68OOL': u'A3B0AB2C9SIHN',\n",
       " u'3IAEQB9FMELW0EI5ZC5G15CE8A7WDZ': u'A15RJPRX0KVUFS',\n",
       " u'3DUZQ9U6SMPPNE1I6SV9A2F0EOAVST': u'A2NJK5F728GAQX',\n",
       " u'3HMVI3QICJT6XOXTYK39L0WL65G1Y5': u'A1RC17FXGMK03J',\n",
       " u'31Z0PCVWUKGOROD1DUXJETVJKE67TV': u'A2QYTNTTER3YDI',\n",
       " u'3TVRFO09GKGUNQBNMYZQM1YQ252LX0': u'A2G06VFMAUG53',\n",
       " u'3A0EX8ZRN8P7AMFL0HWYRC9UI6EBY9': u'AMA18W8F60Y2J',\n",
       " u'32N49TQG3GJLNIFOPS9IP2LUGY5VAJ': u'A32AUS7ZYWFXYC',\n",
       " u'33C7UALJVLZRII6BLG5FMN8JDQ318H': u'A2G06VFMAUG53',\n",
       " u'3VA45EW49NOU3ATRSXUBJ9YJIKJ1O0': u'A2WBUBZ04350Q3',\n",
       " u'3GFK2QRXX9I1W13CK6NX3TOMVT95W0': u'A34QZDSTKZ3JO9',\n",
       " u'34MAJL3QP4OM9KXOWHTLT47B9OJ342': u'A1T1FK3P2N408U',\n",
       " u'3VNXK88KKCJ7IZ5JXMVIT7AAM0FV9C': u'A3PYZV7CGJRYFO',\n",
       " u'379J5II41OHLHQK6RT9YYCDJCONELK': u'A1VCY19BMY5MJA',\n",
       " u'3WOKGM4L71HUWL89WEQB54F9N3U0O9': u'A1T1FK3P2N408U',\n",
       " u'3Z7VU45IPYI62E7YU65SZ75NCZZ1ZB': u'A3VHE7IS4AV96D',\n",
       " u'3SNVL38CI4TV0MIAA2R2TO0103ECKB': u'A105Q9KX0PVR4N',\n",
       " u'3GD6L00D3SY6378FFHFYR59EXVM1MZ': u'A1G3G0YQ80PTL9',\n",
       " u'3AUQQEL7U5UPM5H6XQCP0W9HJWPV04': u'A2LMQ4497NMK3S',\n",
       " u'3HYA4D452RK7MIYUCYBZ1YZAGGMF25': u'A333VJ2K6O6R79',\n",
       " u'3WOKGM4L71HUWL89WEQB54F9BJX0OW': u'ARQYCKZLIPXFH',\n",
       " u'3LEP4MGT3G14CBKU4L9KERZTAT0BDP': u'A2OVMADBMBNWFK',\n",
       " u'34T446B1C0FTNWB669HKA4LSYO20C1': u'A1D4Z17JF8TE4Y',\n",
       " u'3GU1KF0O4I2D18NK9U0FELGICSIBP2': u'A3DGA7BHDLXJND',\n",
       " u'33LKR6A5KELAG2YZOEGADJ46R28T1G': u'A2EMVARIDCIOKT',\n",
       " u'3K4J6M3CXEU25LPT0XAWP1IK53CAGK': u'A3AYR3H2AYYT5G',\n",
       " u'33C7UALJVLZRII6BLG5FMN8JDPN816': u'A2AGCESL0CS10P',\n",
       " u'3X0H8UUIT1P2231NW205W4YELXEWS6': u'A13LXDXAWD5DSY',\n",
       " u'3P1L2B7AD1Q7THXVL7CU3O7XQ13OL4': u'A1SQ7NDKJ5LDXX',\n",
       " u'3MYYFCXHJ38N3W9CRW05CYWKDTX4GK': u'A3BPUFEFCW0M09',\n",
       " u'3S06PH7KSR53ZD222OGV8FMKOHW1DJ': u'AKWH1P9W1KL35',\n",
       " u'3RANCT1ZVFIQTDVGQGZ9OR3HWTMBUQ': u'A1EGJBJBFBZJBA',\n",
       " u'33M4IA01QG25QO60RIWM8D7PWDZRXO': u'A2MIOF3QNY3Y70',\n",
       " u'3XC1O3LBOSNN6923HOYTXYDKDPFTLA': u'A4T1X0PO5N1G9',\n",
       " u'33JKGHPFYCV9HEF4K4DWOCMH0WVNMX': u'AINSUJ6S80L8K',\n",
       " u'3RWE2M8QWHBCE08XVZQYQFF4XT70NC': u'A3SYY81SZERUDA',\n",
       " u'3SNLUL3WO4O26MHSHTO32UZMW3PLUW': u'A2MIOF3QNY3Y70',\n",
       " u'3QRYMNZ7FYIDU95OT1E8AQH9U4INTP': u'A1U1FA19SO7SM',\n",
       " u'358010RM5EUXJVNH021W9AWST3CXV3': u'AKWH1P9W1KL35',\n",
       " u'3RGU30DZTA9DYOOJ56L4V550RCRJMQ': u'A3AYR3H2AYYT5G',\n",
       " u'3TE3O8573094P8333TBTINDTJ42R2H': u'A333VJ2K6O6R79',\n",
       " u'3SEPORI8WN02W2KYQPYLA8YQGS0AZ1': u'AL4WZDIXIVO2S',\n",
       " u'358UUM7WRZ4BB90995SOEEU164CR71': u'A13LXDXAWD5DSY',\n",
       " u'33F859I566ELORPWQHSA5CER2L7HBI': u'A2DLBFNQ1N5TLV',\n",
       " u'3BV8HQ2ZZW208S0NOK1ADA5VBPOA6X': u'A2NJK5F728GAQX',\n",
       " u'3SNVL38CI4TV0MIAA2R2TO012C2KCR': u'A20991UK77OELL',\n",
       " u'345LHZDEDXTLQIR3BNK36855YQM3U8': u'A2R819T7EYBI95',\n",
       " u'3VNXK88KKCJ7IZ5JXMVIT7AACPA9VP': u'A3SS1F4F3JE7CU',\n",
       " u'3L0KT67Y8EH6R8WNB3ITH1JUW58YS1': u'A25YG9M911WA3T',\n",
       " u'36TFCYNS44BS1USXVDKSU95JLOYXHA': u'A3LUETNYKSGBFY',\n",
       " u'3HVVDCPGTET7689203NJR6FGYOITYH': u'AWKUPO1N2QEAD',\n",
       " u'3LWJHTCVCCNOE10FE910XGXDYVKQFY': u'A1OIITZ4Z8WEW',\n",
       " u'30OG32W0SUCB5QNR36PDB4H8RURENM': u'A1D4Z17JF8TE4Y',\n",
       " u'3MYYFCXHJ38N3W9CRW05CYWK19GG4Z': u'A32AUS7ZYWFXYC',\n",
       " u'3J88R45B2GZKEBQLEQSX3I7A7FTPXS': u'A18ZUFGMNOVI2Y',\n",
       " u'3M1CVSFP606TIAJ73TF8JFMM1FCQAQ': u'A3SS1F4F3JE7CU',\n",
       " u'378XPAWRUCEG1CVOQLAZADV0KGCIAS': u'AZTHEMBEZ0RSS',\n",
       " u'3PWWM24LHSZY73O74K5TR6IOTC4286': u'A3DGA7BHDLXJND',\n",
       " u'3VBEN272MK065HBNHXWNA1CQFPSGSF': u'A26A4SN8CN0TTW',\n",
       " u'3S06PH7KSR53ZD222OGV8FMKCXV1D2': u'A32AUS7ZYWFXYC',\n",
       " u'3HUTX6F6VUO1SVBNB1UPOS8OK1T2OA': u'A2LMQ4497NMK3S',\n",
       " u'35GMH2SV3EITNBN34LPQQTHD7TQEOZ': u'A6U5ZHN5Y953Q',\n",
       " u'3PPTZCWALQLUJIRFFLV708DVKB8ZQL': u'A3O5R61IF9YJNF',\n",
       " u'3VA45EW49NOU3ATRSXUBJ9YJGB5O1P': u'A976M3RO7YJ1',\n",
       " u'3HVVDCPGTET7689203NJR6FGYO4TY3': u'A18ZUFGMNOVI2Y',\n",
       " u'3I0BTBYZAXM6QZCB21Z97VDB1DZ0YQ': u'A2LMQ4497NMK3S',\n",
       " u'3ON104KXQKXJ0IZC614NY1I87HO4WK': u'A2LMQ4497NMK3S',\n",
       " u'3PPTZCWALQLUJIRFFLV708DVA0GZQX': u'A1U0GNE5ELW5V7',\n",
       " u'3MD9PLUKKIF9GLENZT3QWEIQ3GCZN9': u'A1E56264OK9UN5',\n",
       " u'39GXDJN2OTF74UM9SUP4TBFZ2UX8V0': u'A13LXDXAWD5DSY',\n",
       " u'379J5II41OHLHQK6RT9YYCDJMZ8LE8': u'AVXWE0AHJKQ0P',\n",
       " u'382M9COHEHGO0G70071ZPZ92ZPJEUB': u'AWKUPO1N2QEAD',\n",
       " u'3S4AW7T80BJ3POND2NXLPQ1S9A6L4U': u'A2HP328OQSJ253',\n",
       " u'3Y54SXRO1LMQPZPXQ2QUOL9320LUTY': u'A3PWONT50E3RZ6',\n",
       " u'3JCG6DTRV3RL5QQOSPCU9F1RF70QQT': u'A2AGCESL0CS10P',\n",
       " u'32Q90QCQ1SMAXK2O6TXXJC04XZUEKP': u'A33OHVP7CMJ4KU',\n",
       " u'3YMTUJH0DSHR81VIBWZCBHB9R3KT4H': u'A38DC3BG1ZCVZ2',\n",
       " u'3OB0CAO74HQH1ZI7096UDNCSNTLHYR': u'A2AGCESL0CS10P',\n",
       " u'3WRFBPLXRAP8VS7UEM8HSDDB05ON3R': u'A13PFEJFK3DI9B',\n",
       " u'3A7Y0R2P2OPOS0NNJDND6MLYYG9XJM': u'A3B0AB2C9SIHN',\n",
       " u'37Q970SNZE9912LKZEBK3E8KPK7S15': u'A3UNUH7D8FKJ3L',\n",
       " u'3QILPRALQ5WUWPD0Q33DJULMGR88NW': u'A2G06VFMAUG53',\n",
       " u'3TPWUS5F892MVMCRZGA5HZUWZTHCWF': u'A13LXDXAWD5DSY',\n",
       " u'3DIP6YHAPCTQ2J0NX40UT7RD2ZI8EI': u'A1RC17FXGMK03J',\n",
       " u'3HQUKB7LNFFVF4SIQ926RNHPXYUHHG': u'A2NJK5F728GAQX',\n",
       " u'3F6HPJW4JD19X4KP2NLZ5MLAN3RW2F': u'A3GCAKQMGAU3ML',\n",
       " u'3ZV9H2YQQD8YIMG86NZ4OWQ2THEW3D': u'A2G06VFMAUG53',\n",
       " ...}"
      ]
     },
     "execution_count": 1692,
     "metadata": {},
     "output_type": "execute_result"
    }
   ],
   "source": [
    "assigment_worker_lookup"
   ]
  },
  {
   "cell_type": "code",
   "execution_count": 1703,
   "metadata": {
    "collapsed": false,
    "run_control": {
     "frozen": false,
     "read_only": false
    }
   },
   "outputs": [],
   "source": [
    "def process_raw_hits(assignments_by_hit):\n",
    "    mechanical_turk_results = defaultdict(list)\n",
    "    for hit_id, hit_assignments in assignments_by_hit.items():\n",
    "        for assignment in hit_assignments:\n",
    "            for answers in assignment.answers:\n",
    "                box_result = answers[2].fields[0]\n",
    "                box_json = json.loads(box_result)\n",
    "                mechanical_turk_results[hit_id].append({\n",
    "                    assignment.AssignmentId: {answers[0].fields[0]: box_json}}\n",
    "                )\n",
    "    return mechanical_turk_results"
   ]
  },
  {
   "cell_type": "code",
   "execution_count": 1704,
   "metadata": {
    "collapsed": false,
    "run_control": {
     "frozen": false,
     "read_only": false
    }
   },
   "outputs": [],
   "source": [
    "raw_hit_results_current_batch = process_raw_hits(submitted_assignments)"
   ]
  },
  {
   "cell_type": "code",
   "execution_count": 1686,
   "metadata": {
    "collapsed": false,
    "run_control": {
     "frozen": false,
     "read_only": false
    }
   },
   "outputs": [],
   "source": [
    "test_box = raw_hit_results_current_batch.values()[0]\n",
    "# with open ('diagram_44.jpg.json', 'w') as f:\n",
    "#     box_json = json.dump(test_box, f)"
   ]
  },
  {
   "cell_type": "code",
   "execution_count": 1687,
   "metadata": {
    "collapsed": true
   },
   "outputs": [
    {
     "data": {
      "text/plain": [
       "[{u'3BDCF01OGXVJNV1XRULS5F5Z4B6LYG': {u'parts_cell_1182.png': [[[283, 192],\n",
       "     [447, 238]],\n",
       "    [[115, 245], [273, 285]],\n",
       "    [[703, 122], [840, 162]],\n",
       "    [[958, 88], [1068, 133]],\n",
       "    [[1165, 98], [1302, 142]],\n",
       "    [[1243, 175], [1418, 288]],\n",
       "    [[1192, 822], [1423, 865]],\n",
       "    [[987, 945], [1397, 1003]],\n",
       "    [[710, 1025], [862, 1068]],\n",
       "    [[497, 1038], [642, 1073]],\n",
       "    [[195, 1032], [455, 1083]],\n",
       "    [[138, 975], [323, 1015]],\n",
       "    [[72, 912], [247, 948]],\n",
       "    [[988, 1038], [1440, 1103]]]}},\n",
       " {u'3I2PTA7R3TVZUNSTFKSXDTPIG2RKQG': {u'parts_cell_1182.png': [[[80, 70],\n",
       "     [493, 147]],\n",
       "    [[285, 197], [440, 232]],\n",
       "    [[120, 253], [267, 285]],\n",
       "    [[705, 127], [843, 162]],\n",
       "    [[953, 90], [1077, 132]],\n",
       "    [[1165, 102], [1298, 137]],\n",
       "    [[1228, 185], [1423, 282]],\n",
       "    [[1190, 823], [1440, 863]],\n",
       "    [[60, 910], [252, 945]],\n",
       "    [[133, 980], [318, 1008]],\n",
       "    [[200, 1038], [455, 1082]],\n",
       "    [[493, 1038], [638, 1073]],\n",
       "    [[715, 1030], [862, 1060]],\n",
       "    [[995, 955], [1398, 1003]]]}},\n",
       " {u'3RGU30DZTA9DYOOJ56L4V550RCVMJX': {u'parts_cell_1182.png': [[[73, 47],\n",
       "     [514, 139]],\n",
       "    [[240, 197], [452, 234]],\n",
       "    [[93, 242], [257, 280]],\n",
       "    [[673, 131], [839, 159]],\n",
       "    [[956, 89], [1073, 139]],\n",
       "    [[1164, 100], [1300, 154]],\n",
       "    [[74, 908], [264, 948]],\n",
       "    [[134, 967], [318, 1008]],\n",
       "    [[191, 1031], [449, 1072]],\n",
       "    [[489, 1034], [646, 1083]],\n",
       "    [[692, 1025], [871, 1078]],\n",
       "    [[987, 947], [1393, 1005]],\n",
       "    [[1202, 814], [1411, 874]],\n",
       "    [[1242, 180], [1415, 305]]]}}]"
      ]
     },
     "execution_count": 1687,
     "metadata": {},
     "output_type": "execute_result"
    }
   ],
   "source": [
    "test_box"
   ]
  },
  {
   "cell_type": "code",
   "execution_count": 1708,
   "metadata": {
    "collapsed": false,
    "run_control": {
     "frozen": false,
     "read_only": false
    }
   },
   "outputs": [],
   "source": [
    "def make_results_df(raw_hit_results):\n",
    "    col_names = ['diagram', 'rectangle', 'hit_id', 'assignment_id']\n",
    "    results_df = pd.DataFrame(columns=col_names)\n",
    "    for hit_id, assignments in raw_hit_results.items():\n",
    "        for assignment in assignments:\n",
    "            for a_id, annotation in assignment.items():\n",
    "                for diagram, rectangles in annotation.items():\n",
    "                    for box in rectangles:\n",
    "                        results_df.loc[len(results_df)] = \\\n",
    "                            [diagram, box, hit_id, a_id]\n",
    "    return results_df"
   ]
  },
  {
   "cell_type": "code",
   "execution_count": 133,
   "metadata": {
    "collapsed": true,
    "run_control": {
     "frozen": false,
     "read_only": false
    }
   },
   "outputs": [],
   "source": [
    "def make_consensus_df(results_df, no_consensus_flag):\n",
    "    grouped_by_page = results_df.groupby(['diagram'])\n",
    "    aggregated_df = grouped_by_page.agg(pd.DataFrame.mode)\n",
    "#     aggregated_df.drop([ 'page', 'box_id', 'worker_id'], axis=1, inplace=True)\n",
    "    aggregated_df = aggregated_df.fillna(no_consensus_flag)\n",
    "    consensus_results_df = aggregated_df.reset_index()\n",
    "    consensus_results_df.drop('level_2', axis=1, inplace=True)\n",
    "    return consensus_results_df"
   ]
  },
  {
   "cell_type": "code",
   "execution_count": 1710,
   "metadata": {
    "collapsed": false,
    "run_control": {
     "frozen": false,
     "read_only": false
    }
   },
   "outputs": [],
   "source": [
    "results_df = make_results_df(raw_hit_results_current_batch)"
   ]
  },
  {
   "cell_type": "code",
   "execution_count": 1764,
   "metadata": {
    "collapsed": false
   },
   "outputs": [
    {
     "data": {
      "text/plain": [
       "2307"
      ]
     },
     "execution_count": 1764,
     "metadata": {},
     "output_type": "execute_result"
    }
   ],
   "source": [
    "len(results_df['diagram'].unique().tolist())"
   ]
  },
  {
   "cell_type": "code",
   "execution_count": 1767,
   "metadata": {
    "collapsed": true
   },
   "outputs": [],
   "source": [
    "ts1  = '1'"
   ]
  },
  {
   "cell_type": "code",
   "execution_count": null,
   "metadata": {
    "collapsed": true
   },
   "outputs": [],
   "source": [
    "ts1.rsplit()"
   ]
  },
  {
   "cell_type": "code",
   "execution_count": 1769,
   "metadata": {
    "collapsed": true,
    "run_control": {
     "frozen": false,
     "read_only": false
    }
   },
   "outputs": [
    {
     "data": {
      "text/plain": [
       "[u'acid_rain_formation',\n",
       " u'aquifers',\n",
       " u'atomic_mass_number',\n",
       " u'atomic_structure',\n",
       " u'biomes',\n",
       " u'blastocyst',\n",
       " u'cell_division',\n",
       " u'cellular_respiration',\n",
       " u'chemical_bonding_covalent',\n",
       " u'chemical_bonding_ionic',\n",
       " u'circuits',\n",
       " u'continental_drift',\n",
       " u'convection_of_air',\n",
       " u'cycle_carbon',\n",
       " u'cycle_nitrogen',\n",
       " u'cycle_rock',\n",
       " u'cycle_water',\n",
       " u'dna',\n",
       " u'earth_day_night',\n",
       " u'earth_eclipses',\n",
       " u'earth_magnetic_field',\n",
       " u'earth_moon_phases',\n",
       " u'earth_parts',\n",
       " u'earth_poles',\n",
       " u'electromagnetism',\n",
       " u'em_spectrum',\n",
       " u'erosion',\n",
       " u'eukaryotic_cell_cycles',\n",
       " u'evaporation_and_sublimation',\n",
       " u'faults',\n",
       " u'food_chains_webs',\n",
       " u'fossils',\n",
       " u'fungi_reproduction',\n",
       " u'geologic_time',\n",
       " u'glaciers',\n",
       " u'greenhouse_effect',\n",
       " u'hair_follicles',\n",
       " u'human_system_circulatory',\n",
       " u'human_system_digestive',\n",
       " u'human_system_ear',\n",
       " u'human_system_excretory',\n",
       " u'human_system_eye',\n",
       " u'human_system_immune',\n",
       " u'human_system_muscular',\n",
       " u'human_system_nervous',\n",
       " u'human_system_reproductory',\n",
       " u'human_system_respiratory',\n",
       " u'hydrocarbons',\n",
       " u'isotopes',\n",
       " u'layers_of_atmosphere',\n",
       " u'lewis_dot_idagrams',\n",
       " u'life_cycles',\n",
       " u'muscle_fiber',\n",
       " u'nuclear_energy',\n",
       " u'ocean_currents',\n",
       " u'ocean_waves',\n",
       " u'ocean_zones',\n",
       " u'optics_lense_types',\n",
       " u'optics_ray_diagrams',\n",
       " u'optics_reflection',\n",
       " u'optics_refraction',\n",
       " u'ozone_formation',\n",
       " u'parts_cell',\n",
       " u'parts_chordate_body',\n",
       " u'parts_fish',\n",
       " u'parts_flower',\n",
       " u'parts_leaf',\n",
       " u'parts_microscope',\n",
       " u'parts_neuron',\n",
       " u'parts_ocean_floor',\n",
       " u'parts_plant',\n",
       " u'parts_seed',\n",
       " u'parts_skeleton',\n",
       " u'parts_telescope',\n",
       " u'parts_worm',\n",
       " u'periodic_table',\n",
       " u'phagocytosis',\n",
       " u'photosynthesis',\n",
       " u'protozoa',\n",
       " u'radioactive_decay',\n",
       " u'rain_shadow',\n",
       " u'seafloor_spreading',\n",
       " u'seasons',\n",
       " u'seismic_waves',\n",
       " u'simple_machines',\n",
       " u'skin_cross_section',\n",
       " u'soil_horizons',\n",
       " u'solar_system',\n",
       " u'state_change',\n",
       " u'states_of_matter',\n",
       " u'stratigraphy',\n",
       " u'sun_layers',\n",
       " u'tectonic_plates',\n",
       " u'tectonic_plates_motion',\n",
       " u'tides',\n",
       " u'types_cells',\n",
       " u'types_clouds',\n",
       " u'types_leaves',\n",
       " u'velocity_time_graphs',\n",
       " u'volcanoes',\n",
       " u'waves',\n",
       " u'waves_interactions_interference']"
      ]
     },
     "execution_count": 1769,
     "metadata": {},
     "output_type": "execute_result"
    }
   ],
   "source": [
    "sorted(results_df['diagram'].apply(lambda x: x.rsplit('_' , 1)[0]).unique().tolist())"
   ]
  },
  {
   "cell_type": "code",
   "execution_count": 1712,
   "metadata": {
    "collapsed": true
   },
   "outputs": [],
   "source": [
    "results_df['worker_id'] = results_df['assignment_id'].apply(lambda x: assigment_worker_lookup[x])"
   ]
  },
  {
   "cell_type": "code",
   "execution_count": 1106,
   "metadata": {
    "collapsed": true,
    "run_control": {
     "frozen": false,
     "read_only": false
    }
   },
   "outputs": [],
   "source": [
    "def get_boxes_by_user(results_df, current_page):\n",
    "    diagram_df = results_df[results_df['diagram'] == current_page]\n",
    "    grouped_by_user = diagram_df.groupby( 'assignment_id')\n",
    "    return {k:v['rectangle'].values for k,v in grouped_by_user}"
   ]
  },
  {
   "cell_type": "code",
   "execution_count": 1111,
   "metadata": {
    "collapsed": false,
    "run_control": {
     "frozen": false,
     "read_only": false
    }
   },
   "outputs": [],
   "source": [
    "tb = get_boxes_by_user(results_df, 'cycle_nitrogen_6714.png')"
   ]
  },
  {
   "cell_type": "code",
   "execution_count": 1124,
   "metadata": {
    "collapsed": true,
    "run_control": {
     "frozen": false,
     "read_only": false
    }
   },
   "outputs": [
    {
     "data": {
      "text/plain": [
       "array([[[[24, 163], [251, 304]]],\n",
       "       [[[480, 197], [611, 349]]],\n",
       "       [[[548, 251], [645, 307]]],\n",
       "       [[[512, 320], [665, 427]]],\n",
       "       [[[557, 357], [695, 455]]],\n",
       "       [[[444, 429], [549, 504]]],\n",
       "       [[[583, 491], [705, 579]]],\n",
       "       [[[732, 529], [887, 585]]],\n",
       "       [[[769, 385], [851, 525]]],\n",
       "       [[[884, 463], [1025, 521]]],\n",
       "       [[[864, 393], [1023, 431]]],\n",
       "       [[[803, 323], [993, 379]]],\n",
       "       [[[997, 329], [1189, 407]]],\n",
       "       [[[739, 276], [888, 311]]],\n",
       "       [[[755, 220], [911, 264]]],\n",
       "       [[[751, 177], [991, 248]]]], dtype=object)"
      ]
     },
     "execution_count": 1124,
     "metadata": {},
     "output_type": "execute_result"
    }
   ],
   "source": [
    "np.array(tb.values()[0]).reshape(16, 1)"
   ]
  },
  {
   "cell_type": "code",
   "execution_count": 1455,
   "metadata": {
    "collapsed": true
   },
   "outputs": [
    {
     "data": {
      "text/plain": [
       "[u'layers_of_atmosphere_7069.png',\n",
       " u'layers_of_atmosphere_7070.png',\n",
       " u'layers_of_atmosphere_7073.png',\n",
       " u'layers_of_atmosphere_8100.png',\n",
       " u'layers_of_atmosphere_8101.png',\n",
       " u'layers_of_atmosphere_8102.png',\n",
       " u'lewis_dot_idagrams_9130.png',\n",
       " u'lewis_dot_idagrams_9131.png',\n",
       " u'lewis_dot_idagrams_9132.png',\n",
       " u'lewis_dot_idagrams_9133.png',\n",
       " u'lewis_dot_idagrams_9134.png',\n",
       " u'lewis_dot_idagrams_9135.png',\n",
       " u'lewis_dot_idagrams_9136.png',\n",
       " u'lewis_dot_idagrams_9137.png',\n",
       " u'lewis_dot_idagrams_9138.png',\n",
       " u'lewis_dot_idagrams_9139.png',\n",
       " u'lewis_dot_idagrams_9140.png',\n",
       " u'lewis_dot_idagrams_9141.png',\n",
       " u'lewis_dot_idagrams_9142.png',\n",
       " u'lewis_dot_idagrams_9143.png',\n",
       " u'lewis_dot_idagrams_9144.png',\n",
       " u'lewis_dot_idagrams_9145.png',\n",
       " u'lewis_dot_idagrams_9146.png',\n",
       " u'lewis_dot_idagrams_9147.png',\n",
       " u'lewis_dot_idagrams_9148.png',\n",
       " u'lewis_dot_idagrams_9149.png',\n",
       " u'life_cycles_101.png',\n",
       " u'life_cycles_108.png',\n",
       " u'life_cycles_1445.png',\n",
       " u'life_cycles_1446.png',\n",
       " u'life_cycles_2145.png',\n",
       " u'life_cycles_2175.png',\n",
       " u'life_cycles_2181.png',\n",
       " u'life_cycles_2185.png',\n",
       " u'life_cycles_2234.png',\n",
       " u'life_cycles_2238.png',\n",
       " u'life_cycles_2245.png',\n",
       " u'life_cycles_2249.png',\n",
       " u'life_cycles_2251.png',\n",
       " u'life_cycles_2252.png',\n",
       " u'life_cycles_2254.png',\n",
       " u'life_cycles_2257.png',\n",
       " u'life_cycles_2266.png',\n",
       " u'life_cycles_2267.png',\n",
       " u'life_cycles_2271.png',\n",
       " u'life_cycles_2282.png',\n",
       " u'life_cycles_2290.png',\n",
       " u'life_cycles_2293.png',\n",
       " u'life_cycles_2300.png',\n",
       " u'life_cycles_2302.png',\n",
       " u'life_cycles_2313.png',\n",
       " u'life_cycles_2331.png',\n",
       " u'life_cycles_2333.png',\n",
       " u'life_cycles_2347.png',\n",
       " u'life_cycles_2348.png',\n",
       " u'life_cycles_2349.png',\n",
       " u'life_cycles_2350.png',\n",
       " u'life_cycles_2353.png',\n",
       " u'life_cycles_2358.png',\n",
       " u'life_cycles_2361.png',\n",
       " u'life_cycles_2365.png',\n",
       " u'life_cycles_2366.png',\n",
       " u'life_cycles_2373.png',\n",
       " u'life_cycles_2383.png',\n",
       " u'life_cycles_2400.png',\n",
       " u'life_cycles_2404.png',\n",
       " u'life_cycles_2427.png',\n",
       " u'life_cycles_2428.png',\n",
       " u'life_cycles_2442.png',\n",
       " u'life_cycles_2443.png',\n",
       " u'life_cycles_2449.png',\n",
       " u'life_cycles_2451.png',\n",
       " u'life_cycles_2454.png',\n",
       " u'life_cycles_2458.png',\n",
       " u'life_cycles_2459.png',\n",
       " u'life_cycles_2485.png',\n",
       " u'life_cycles_339.png',\n",
       " u'life_cycles_342.png',\n",
       " u'life_cycles_345.png',\n",
       " u'life_cycles_348.png',\n",
       " u'life_cycles_35.png',\n",
       " u'life_cycles_353.png',\n",
       " u'life_cycles_357.png',\n",
       " u'life_cycles_359.png',\n",
       " u'life_cycles_38.png',\n",
       " u'life_cycles_39.png',\n",
       " u'life_cycles_43.png',\n",
       " u'life_cycles_44.png',\n",
       " u'life_cycles_47.png',\n",
       " u'life_cycles_48.png',\n",
       " u'life_cycles_55.png',\n",
       " u'life_cycles_572.png',\n",
       " u'life_cycles_575.png',\n",
       " u'life_cycles_577.png',\n",
       " u'life_cycles_579.png',\n",
       " u'life_cycles_580.png',\n",
       " u'life_cycles_586.png',\n",
       " u'life_cycles_592.png',\n",
       " u'life_cycles_595.png',\n",
       " u'life_cycles_605.png',\n",
       " u'life_cycles_606.png',\n",
       " u'life_cycles_608.png',\n",
       " u'life_cycles_619.png',\n",
       " u'life_cycles_6208.png',\n",
       " u'life_cycles_6210.png',\n",
       " u'life_cycles_6211.png',\n",
       " u'life_cycles_6213.png',\n",
       " u'life_cycles_6215.png',\n",
       " u'life_cycles_6216.png',\n",
       " u'life_cycles_6217.png',\n",
       " u'life_cycles_6218.png',\n",
       " u'life_cycles_6219.png',\n",
       " u'life_cycles_6220.png',\n",
       " u'life_cycles_6221.png',\n",
       " u'life_cycles_6222.png',\n",
       " u'life_cycles_6223.png',\n",
       " u'life_cycles_6224.png',\n",
       " u'life_cycles_6225.png',\n",
       " u'life_cycles_6226.png',\n",
       " u'life_cycles_6227.png',\n",
       " u'life_cycles_6228.png',\n",
       " u'life_cycles_639.png',\n",
       " u'life_cycles_650.png',\n",
       " u'life_cycles_671.png',\n",
       " u'life_cycles_791.png',\n",
       " u'life_cycles_792.png',\n",
       " u'life_cycles_831.png',\n",
       " u'life_cycles_840.png',\n",
       " u'life_cycles_846.png',\n",
       " u'life_cycles_849.png',\n",
       " u'life_cycles_883.png',\n",
       " u'life_cycles_884.png',\n",
       " u'life_cycles_885.png',\n",
       " u'life_cycles_887.png',\n",
       " u'life_cycles_889.png',\n",
       " u'muscle_fiber_7080.png',\n",
       " u'muscle_fiber_7082.png',\n",
       " u'muscle_fiber_7083.png',\n",
       " u'muscle_fiber_7084.png',\n",
       " u'muscle_fiber_7085.png',\n",
       " u'muscle_fiber_7086.png',\n",
       " u'muscle_fiber_7088.png',\n",
       " u'muscle_fiber_7089.png',\n",
       " u'muscle_fiber_7090.png',\n",
       " u'muscle_fiber_7091.png',\n",
       " u'nuclear_energy_7093.png',\n",
       " u'nuclear_energy_7094.png',\n",
       " u'nuclear_energy_7095.png',\n",
       " u'nuclear_energy_7097.png',\n",
       " u'nuclear_energy_7098.png',\n",
       " u'nuclear_energy_7099.png',\n",
       " u'nuclear_energy_7100.png',\n",
       " u'nuclear_energy_7101.png',\n",
       " u'nuclear_energy_7102.png',\n",
       " u'nuclear_energy_7103.png',\n",
       " u'nuclear_energy_7105.png',\n",
       " u'nuclear_energy_8103.png',\n",
       " u'nuclear_energy_8104.png',\n",
       " u'nuclear_energy_8105.png',\n",
       " u'nuclear_energy_8106.png',\n",
       " u'nuclear_energy_8107.png',\n",
       " u'nuclear_energy_8108.png',\n",
       " u'nuclear_energy_8109.png',\n",
       " u'nuclear_energy_8110.png',\n",
       " u'nuclear_energy_8111.png',\n",
       " u'nuclear_energy_8112.png',\n",
       " u'nuclear_energy_8113.png',\n",
       " u'nuclear_energy_8114.png',\n",
       " u'nuclear_energy_8115.png',\n",
       " u'nuclear_energy_8116.png',\n",
       " u'nuclear_energy_8117.png',\n",
       " u'nuclear_energy_8118.png',\n",
       " u'nuclear_energy_8119.png',\n",
       " u'nuclear_energy_8120.png',\n",
       " u'nuclear_energy_8121.png',\n",
       " u'nuclear_energy_8122.png',\n",
       " u'nuclear_energy_8123.png',\n",
       " u'ocean_currents_7107.png',\n",
       " u'ocean_currents_7109.png',\n",
       " u'ocean_currents_7110.png',\n",
       " u'ocean_currents_7111.png',\n",
       " u'ocean_currents_7112.png',\n",
       " u'ocean_currents_7113.png',\n",
       " u'ocean_currents_7114.png',\n",
       " u'ocean_currents_7115.png',\n",
       " u'ocean_waves_7117.png',\n",
       " u'ocean_waves_7119.png',\n",
       " u'ocean_waves_7120.png',\n",
       " u'ocean_waves_7125.png',\n",
       " u'ocean_waves_7126.png',\n",
       " u'ocean_waves_9150.png',\n",
       " u'ocean_waves_9151.png',\n",
       " u'ocean_waves_9152.png',\n",
       " u'ocean_waves_9153.png',\n",
       " u'ocean_waves_9154.png',\n",
       " u'ocean_zones_7129.png',\n",
       " u'ocean_zones_7130.png',\n",
       " u'ocean_zones_7136.png',\n",
       " u'ocean_zones_7137.png',\n",
       " u'ocean_zones_7138.png',\n",
       " u'ocean_zones_7139.png',\n",
       " u'ocean_zones_7140.png',\n",
       " u'ocean_zones_8124.png',\n",
       " u'ocean_zones_8125.png',\n",
       " u'ocean_zones_8126.png',\n",
       " u'optics_lense_types_9155.png',\n",
       " u'optics_lense_types_9156.png',\n",
       " u'optics_lense_types_9157.png',\n",
       " u'optics_lense_types_9158.png',\n",
       " u'optics_lense_types_9159.png',\n",
       " u'optics_lense_types_9160.png',\n",
       " u'optics_lense_types_9161.png',\n",
       " u'optics_lense_types_9162.png',\n",
       " u'optics_lense_types_9163.png',\n",
       " u'optics_lense_types_9164.png',\n",
       " u'optics_ray_diagrams_9165.png',\n",
       " u'optics_ray_diagrams_9166.png',\n",
       " u'optics_ray_diagrams_9167.png',\n",
       " u'optics_ray_diagrams_9168.png',\n",
       " u'optics_ray_diagrams_9169.png',\n",
       " u'optics_ray_diagrams_9170.png',\n",
       " u'optics_ray_diagrams_9171.png',\n",
       " u'optics_ray_diagrams_9172.png',\n",
       " u'optics_ray_diagrams_9173.png',\n",
       " u'optics_ray_diagrams_9174.png',\n",
       " u'optics_ray_diagrams_9175.png',\n",
       " u'optics_ray_diagrams_9176.png',\n",
       " u'optics_ray_diagrams_9177.png',\n",
       " u'optics_reflection_9178.png',\n",
       " u'optics_reflection_9179.png',\n",
       " u'optics_reflection_9180.png',\n",
       " u'optics_reflection_9181.png',\n",
       " u'optics_reflection_9182.png',\n",
       " u'optics_reflection_9183.png',\n",
       " u'optics_reflection_9184.png',\n",
       " u'optics_reflection_9185.png',\n",
       " u'optics_reflection_9186.png',\n",
       " u'optics_reflection_9188.png',\n",
       " u'optics_reflection_9189.png',\n",
       " u'optics_refraction_9190.png',\n",
       " u'optics_refraction_9191.png',\n",
       " u'optics_refraction_9192.png',\n",
       " u'optics_refraction_9193.png',\n",
       " u'optics_refraction_9194.png',\n",
       " u'optics_refraction_9195.png',\n",
       " u'optics_refraction_9196.png',\n",
       " u'optics_refraction_9197.png',\n",
       " u'optics_refraction_9198.png',\n",
       " u'optics_refraction_9199.png',\n",
       " u'optics_refraction_9200.png',\n",
       " u'optics_refraction_9201.png',\n",
       " u'ozone_formation_7147.png',\n",
       " u'ozone_formation_7149.png',\n",
       " u'ozone_formation_8143.png',\n",
       " u'ozone_formation_9202.png',\n",
       " u'ozone_formation_9203.png',\n",
       " u'ozone_formation_9204.png',\n",
       " u'parts_cell_1065.png',\n",
       " u'parts_cell_1066.png',\n",
       " u'parts_cell_1067.png',\n",
       " u'parts_cell_1076.png',\n",
       " u'parts_cell_1079.png',\n",
       " u'parts_cell_1082.png',\n",
       " u'parts_cell_1142.png',\n",
       " u'parts_cell_1162.png',\n",
       " u'parts_cell_1165.png',\n",
       " u'parts_cell_1166.png',\n",
       " u'parts_cell_1168.png',\n",
       " u'parts_cell_1171.png',\n",
       " u'parts_cell_1174.png',\n",
       " u'parts_cell_1175.png',\n",
       " u'parts_cell_1177.png',\n",
       " u'parts_cell_1178.png',\n",
       " u'parts_cell_1179.png',\n",
       " u'parts_cell_1180.png',\n",
       " u'parts_cell_1182.png',\n",
       " u'parts_cell_1184.png',\n",
       " u'parts_cell_1185.png',\n",
       " u'parts_cell_1186.png',\n",
       " u'parts_cell_1217.png',\n",
       " u'parts_cell_1219.png',\n",
       " u'parts_cell_1220.png',\n",
       " u'parts_cell_1222.png',\n",
       " u'parts_cell_1223.png',\n",
       " u'parts_cell_1225.png',\n",
       " u'parts_cell_2855.png',\n",
       " u'parts_cell_3036.png',\n",
       " u'parts_cell_3037.png',\n",
       " u'parts_cell_3038.png',\n",
       " u'parts_cell_3042.png',\n",
       " u'parts_cell_3045.png',\n",
       " u'parts_cell_3046.png',\n",
       " u'parts_cell_3047.png',\n",
       " u'parts_cell_3049.png',\n",
       " u'parts_cell_3050.png',\n",
       " u'parts_cell_3060.png',\n",
       " u'parts_cell_3062.png',\n",
       " u'parts_cell_3066.png',\n",
       " u'parts_cell_3084.png',\n",
       " u'parts_cell_3086.png',\n",
       " u'parts_cell_3181.png',\n",
       " u'parts_cell_3235.png',\n",
       " u'parts_cell_3236.png',\n",
       " u'parts_cell_3238.png',\n",
       " u'parts_cell_3239.png',\n",
       " u'parts_cell_3241.png',\n",
       " u'parts_cell_3242.png',\n",
       " u'parts_cell_3243.png',\n",
       " u'parts_cell_3244.png',\n",
       " u'parts_cell_3245.png',\n",
       " u'parts_cell_3246.png',\n",
       " u'parts_cell_3248.png',\n",
       " u'parts_cell_3253.png',\n",
       " u'parts_cell_3255.png',\n",
       " u'parts_cell_3258.png',\n",
       " u'parts_cell_3260.png',\n",
       " u'parts_cell_3261.png',\n",
       " u'parts_cell_3262.png',\n",
       " u'parts_cell_3263.png',\n",
       " u'parts_cell_3264.png',\n",
       " u'parts_cell_3269.png',\n",
       " u'parts_cell_3270.png',\n",
       " u'parts_cell_3273.png',\n",
       " u'parts_cell_3274.png',\n",
       " u'parts_cell_3282.png',\n",
       " u'parts_cell_3284.png',\n",
       " u'parts_cell_3287.png',\n",
       " u'parts_cell_3288.png',\n",
       " u'parts_cell_3289.png',\n",
       " u'parts_cell_3296.png',\n",
       " u'parts_cell_3298.png',\n",
       " u'parts_cell_3299.png',\n",
       " u'parts_cell_3307.png',\n",
       " u'parts_cell_3308.png',\n",
       " u'parts_cell_3316.png',\n",
       " u'parts_cell_3317.png',\n",
       " u'parts_cell_3318.png',\n",
       " u'parts_cell_3320.png',\n",
       " u'parts_cell_3322.png',\n",
       " u'parts_cell_3326.png',\n",
       " u'parts_cell_3327.png',\n",
       " u'parts_cell_3328.png',\n",
       " u'parts_cell_3331.png',\n",
       " u'parts_cell_3337.png',\n",
       " u'parts_cell_3493.png',\n",
       " u'parts_cell_3498.png',\n",
       " u'parts_cell_3500.png',\n",
       " u'parts_cell_3504.png',\n",
       " u'parts_cell_3505.png',\n",
       " u'parts_cell_3515.png',\n",
       " u'parts_cell_3516.png',\n",
       " u'parts_cell_3518.png',\n",
       " u'parts_cell_3533.png',\n",
       " u'parts_cell_3534.png',\n",
       " u'parts_cell_3535.png',\n",
       " u'parts_cell_3537.png',\n",
       " u'parts_cell_3539.png',\n",
       " u'parts_cell_3544.png',\n",
       " u'parts_cell_3941.png',\n",
       " u'parts_cell_6230.png',\n",
       " u'parts_cell_6231.png',\n",
       " u'parts_cell_6232.png',\n",
       " u'parts_cell_6233.png',\n",
       " u'parts_cell_6234.png',\n",
       " u'parts_cell_6235.png',\n",
       " u'parts_cell_6236.png',\n",
       " u'parts_cell_6237.png',\n",
       " u'parts_cell_6238.png',\n",
       " u'parts_cell_6239.png',\n",
       " u'parts_cell_6240.png',\n",
       " u'parts_cell_6241.png',\n",
       " u'parts_cell_6242.png',\n",
       " u'parts_cell_6243.png',\n",
       " u'parts_cell_6244.png',\n",
       " u'parts_cell_6245.png',\n",
       " u'parts_cell_6246.png',\n",
       " u'parts_cell_6247.png',\n",
       " u'parts_cell_6248.png',\n",
       " u'parts_cell_6249.png',\n",
       " u'parts_cell_6250.png',\n",
       " u'parts_cell_6251.png',\n",
       " u'parts_cell_6252.png',\n",
       " u'parts_cell_6253.png',\n",
       " u'parts_cell_6254.png',\n",
       " u'parts_cell_6255.png',\n",
       " u'parts_cell_6256.png',\n",
       " u'parts_cell_6257.png',\n",
       " u'parts_cell_6258.png',\n",
       " u'parts_cell_6259.png',\n",
       " u'parts_cell_6260.png',\n",
       " u'parts_cell_6261.png',\n",
       " u'parts_cell_994.png',\n",
       " u'parts_chordate_body_7151.png',\n",
       " u'parts_chordate_body_7152.png',\n",
       " u'parts_chordate_body_7153.png',\n",
       " u'parts_chordate_body_7154.png',\n",
       " u'parts_chordate_body_7155.png',\n",
       " u'parts_chordate_body_7156.png',\n",
       " u'parts_chordate_body_7157.png',\n",
       " u'parts_chordate_body_7159.png',\n",
       " u'parts_chordate_body_7161.png',\n",
       " u'parts_chordate_body_7162.png',\n",
       " u'parts_chordate_body_7163.png',\n",
       " u'parts_chordate_body_8145.png',\n",
       " u'parts_chordate_body_8146.png',\n",
       " u'parts_chordate_body_8147.png',\n",
       " u'parts_fish_2842.png',\n",
       " u'parts_fish_2843.png',\n",
       " u'parts_fish_2852.png',\n",
       " u'parts_fish_2905.png',\n",
       " u'parts_fish_2907.png',\n",
       " u'parts_fish_2908.png',\n",
       " u'parts_fish_2909.png',\n",
       " u'parts_fish_2911.png',\n",
       " u'parts_fish_2913.png',\n",
       " u'parts_fish_2915.png',\n",
       " u'parts_fish_2917.png',\n",
       " u'parts_flower_1014.png',\n",
       " u'parts_flower_1130.png',\n",
       " u'parts_flower_1137.png',\n",
       " u'parts_flower_1139.png',\n",
       " u'parts_flower_1144.png',\n",
       " u'parts_flower_1151.png',\n",
       " u'parts_flower_1156.png',\n",
       " u'parts_flower_1157.png',\n",
       " u'parts_flower_1203.png',\n",
       " u'parts_flower_1204.png',\n",
       " u'parts_flower_3024.png',\n",
       " u'parts_flower_3028.png',\n",
       " u'parts_flower_3359.png',\n",
       " u'parts_flower_3360.png',\n",
       " u'parts_flower_3362.png',\n",
       " u'parts_flower_3363.png',\n",
       " u'parts_flower_3364.png',\n",
       " u'parts_flower_3366.png',\n",
       " u'parts_flower_3369.png',\n",
       " u'parts_flower_3370.png',\n",
       " u'parts_flower_3371.png',\n",
       " u'parts_flower_3372.png',\n",
       " u'parts_flower_3381.png',\n",
       " u'parts_flower_3383.png',\n",
       " u'parts_flower_3417.png',\n",
       " u'parts_flower_3419.png',\n",
       " u'parts_flower_3422.png',\n",
       " u'parts_flower_3423.png',\n",
       " u'parts_flower_3424.png',\n",
       " u'parts_flower_3425.png',\n",
       " u'parts_flower_3426.png',\n",
       " u'parts_flower_3798.png',\n",
       " u'parts_flower_3948.png',\n",
       " u'parts_leaf_1085.png',\n",
       " u'parts_leaf_1087.png',\n",
       " u'parts_leaf_1088.png',\n",
       " u'parts_leaf_1090.png',\n",
       " u'parts_leaf_1091.png',\n",
       " u'parts_leaf_1094.png',\n",
       " u'parts_leaf_1095.png',\n",
       " u'parts_leaf_1096.png',\n",
       " u'parts_leaf_1105.png',\n",
       " u'parts_leaf_1106.png',\n",
       " u'parts_leaf_1111.png',\n",
       " u'parts_leaf_1112.png',\n",
       " u'parts_leaf_1113.png',\n",
       " u'parts_leaf_1114.png',\n",
       " u'parts_leaf_1115.png',\n",
       " u'parts_leaf_1116.png',\n",
       " u'parts_leaf_1117.png',\n",
       " u'parts_leaf_1118.png',\n",
       " u'parts_leaf_1119.png',\n",
       " u'parts_leaf_1120.png',\n",
       " u'parts_leaf_1121.png',\n",
       " u'parts_leaf_1122.png',\n",
       " u'parts_leaf_1123.png',\n",
       " u'parts_leaf_1124.png',\n",
       " u'parts_leaf_1125.png',\n",
       " u'parts_leaf_3106.png',\n",
       " u'parts_leaf_3113.png',\n",
       " u'parts_leaf_3131.png',\n",
       " u'parts_leaf_3132.png',\n",
       " u'parts_leaf_3133.png',\n",
       " u'parts_leaf_3134.png',\n",
       " u'parts_leaf_3135.png',\n",
       " u'parts_leaf_3137.png',\n",
       " u'parts_leaf_3138.png',\n",
       " u'parts_leaf_3139.png',\n",
       " u'parts_leaf_3140.png',\n",
       " u'parts_leaf_3144.png',\n",
       " u'parts_leaf_3145.png',\n",
       " u'parts_leaf_3146.png',\n",
       " u'parts_leaf_3149.png',\n",
       " u'parts_leaf_3840.png',\n",
       " u'parts_leaf_3842.png',\n",
       " u'parts_leaf_3844.png',\n",
       " u'parts_leaf_3852.png',\n",
       " u'parts_leaf_3853.png',\n",
       " u'parts_leaf_3854.png',\n",
       " u'parts_leaf_3855.png',\n",
       " u'parts_leaf_3859.png',\n",
       " u'parts_leaf_3860.png',\n",
       " u'parts_leaf_3979.png',\n",
       " u'parts_leaf_556.png',\n",
       " u'parts_leaf_557.png',\n",
       " u'parts_leaf_558.png',\n",
       " u'parts_leaf_559.png',\n",
       " u'parts_leaf_560.png',\n",
       " u'parts_leaf_561.png',\n",
       " u'parts_leaf_6262.png',\n",
       " u'parts_leaf_6263.png',\n",
       " u'parts_leaf_6264.png',\n",
       " u'parts_leaf_6265.png',\n",
       " u'parts_leaf_6266.png',\n",
       " u'parts_leaf_6267.png',\n",
       " u'parts_leaf_6268.png',\n",
       " u'parts_leaf_6269.png',\n",
       " u'parts_leaf_6270.png',\n",
       " u'parts_microscope_7174.png',\n",
       " u'parts_microscope_7177.png',\n",
       " u'parts_microscope_7178.png',\n",
       " u'parts_microscope_7179.png',\n",
       " u'parts_microscope_7180.png',\n",
       " u'parts_microscope_7181.png',\n",
       " u'parts_microscope_7182.png',\n",
       " u'parts_microscope_7184.png',\n",
       " u'parts_microscope_7187.png',\n",
       " u'parts_microscope_7189.png',\n",
       " u'parts_microscope_7190.png',\n",
       " u'parts_microscope_7191.png',\n",
       " u'parts_microscope_7193.png',\n",
       " u'parts_microscope_7194.png',\n",
       " u'parts_microscope_7197.png',\n",
       " u'parts_microscope_7198.png',\n",
       " u'parts_microscope_7199.png',\n",
       " u'parts_microscope_7201.png',\n",
       " u'parts_microscope_7202.png',\n",
       " u'parts_microscope_7203.png',\n",
       " u'parts_neuron_7206.png',\n",
       " u'parts_neuron_7207.png',\n",
       " u'parts_neuron_7210.png',\n",
       " u'parts_neuron_7212.png',\n",
       " u'parts_neuron_7215.png',\n",
       " u'parts_neuron_7216.png',\n",
       " u'parts_neuron_7217.png',\n",
       " u'parts_neuron_7218.png',\n",
       " u'parts_neuron_7219.png',\n",
       " u'parts_neuron_7220.png',\n",
       " u'parts_neuron_7221.png',\n",
       " u'parts_neuron_7224.png',\n",
       " u'parts_neuron_7225.png',\n",
       " u'parts_neuron_7226.png',\n",
       " u'parts_neuron_7227.png',\n",
       " u'parts_neuron_7230.png',\n",
       " u'parts_neuron_7232.png',\n",
       " u'parts_neuron_7233.png',\n",
       " u'parts_neuron_7234.png',\n",
       " u'parts_ocean_floor_7237.png',\n",
       " u'parts_ocean_floor_7239.png',\n",
       " u'parts_ocean_floor_7240.png',\n",
       " u'parts_ocean_floor_7241.png',\n",
       " u'parts_ocean_floor_9205.png',\n",
       " u'parts_ocean_floor_9206.png',\n",
       " u'parts_ocean_floor_9207.png',\n",
       " u'parts_ocean_floor_9208.png',\n",
       " u'parts_plant_1.png',\n",
       " u'parts_plant_1051.png',\n",
       " u'parts_plant_1131.png',\n",
       " u'parts_plant_1143.png',\n",
       " u'parts_plant_1145.png',\n",
       " u'parts_plant_1149.png',\n",
       " u'parts_plant_1155.png',\n",
       " u'parts_plant_1159.png',\n",
       " u'parts_plant_1160.png',\n",
       " u'parts_plant_2.png',\n",
       " u'parts_plant_3164.png',\n",
       " u'parts_plant_3195.png',\n",
       " u'parts_plant_3201.png',\n",
       " u'parts_plant_3217.png',\n",
       " u'parts_plant_3218.png',\n",
       " u'parts_plant_3221.png',\n",
       " u'parts_plant_3224.png',\n",
       " u'parts_plant_3225.png',\n",
       " u'parts_plant_3227.png',\n",
       " u'parts_plant_3577.png',\n",
       " u'parts_plant_3579.png',\n",
       " u'parts_plant_3787.png',\n",
       " u'parts_plant_3788.png',\n",
       " u'parts_plant_3789.png',\n",
       " u'parts_plant_3790.png',\n",
       " u'parts_plant_3791.png',\n",
       " u'parts_plant_3793.png',\n",
       " u'parts_plant_3796.png',\n",
       " u'parts_plant_3797.png',\n",
       " u'parts_plant_3799.png',\n",
       " u'parts_plant_3847.png',\n",
       " u'parts_plant_6271.png',\n",
       " u'parts_plant_6272.png',\n",
       " u'parts_plant_6273.png',\n",
       " u'parts_plant_6274.png',\n",
       " u'parts_plant_6275.png',\n",
       " u'parts_plant_6276.png',\n",
       " u'parts_plant_6277.png',\n",
       " u'parts_plant_906.png',\n",
       " u'parts_plant_98.png',\n",
       " u'parts_seed_3.png',\n",
       " u'parts_seed_3811.png',\n",
       " u'parts_seed_3817.png',\n",
       " u'parts_seed_7242.png',\n",
       " u'parts_seed_7243.png',\n",
       " u'parts_seed_7244.png',\n",
       " u'parts_seed_7246.png',\n",
       " u'parts_seed_7247.png',\n",
       " u'parts_seed_7248.png',\n",
       " u'parts_seed_7249.png',\n",
       " u'parts_skeleton_7251.png',\n",
       " u'parts_skeleton_7254.png',\n",
       " u'parts_skeleton_7256.png',\n",
       " u'parts_skeleton_7259.png',\n",
       " u'parts_skeleton_7260.png',\n",
       " u'parts_skeleton_7261.png',\n",
       " u'parts_skeleton_7262.png',\n",
       " u'parts_skeleton_7266.png',\n",
       " u'parts_skeleton_7267.png',\n",
       " u'parts_skeleton_7270.png',\n",
       " u'parts_skeleton_7271.png',\n",
       " u'parts_skeleton_7272.png',\n",
       " u'parts_skeleton_7273.png',\n",
       " u'parts_skeleton_7274.png',\n",
       " u'parts_skeleton_7275.png',\n",
       " u'parts_skeleton_7277.png',\n",
       " u'parts_telescope_7286.png',\n",
       " u'parts_telescope_7287.png',\n",
       " u'parts_telescope_7291.png',\n",
       " u'parts_telescope_8149.png',\n",
       " u'parts_telescope_8150.png',\n",
       " u'parts_telescope_8151.png',\n",
       " u'parts_telescope_8152.png',\n",
       " u'parts_telescope_8153.png',\n",
       " u'parts_telescope_8154.png',\n",
       " u'parts_telescope_8155.png',\n",
       " u'parts_telescope_8156.png',\n",
       " u'parts_worm_7295.png',\n",
       " u'parts_worm_7296.png',\n",
       " u'parts_worm_7299.png',\n",
       " u'parts_worm_7300.png',\n",
       " u'parts_worm_7301.png',\n",
       " u'parts_worm_7302.png',\n",
       " u'parts_worm_7305.png',\n",
       " u'parts_worm_7306.png',\n",
       " u'parts_worm_7309.png',\n",
       " u'parts_worm_7310.png',\n",
       " u'parts_worm_7311.png',\n",
       " u'parts_worm_7313.png',\n",
       " u'parts_worm_7315.png',\n",
       " u'parts_worm_7321.png',\n",
       " u'parts_worm_7323.png',\n",
       " u'parts_worm_7327.png',\n",
       " u'parts_worm_7334.png',\n",
       " u'parts_worm_7336.png',\n",
       " u'parts_worm_7346.png',\n",
       " u'parts_worm_7347.png',\n",
       " u'periodic_table_7352.png',\n",
       " u'periodic_table_7356.png',\n",
       " u'periodic_table_7381.png',\n",
       " u'periodic_table_7385.png',\n",
       " u'periodic_table_7386.png',\n",
       " u'periodic_table_7392.png',\n",
       " u'periodic_table_7393.png',\n",
       " u'periodic_table_7396.png',\n",
       " u'periodic_table_7419.png',\n",
       " u'periodic_table_8157.png',\n",
       " u'periodic_table_8158.png',\n",
       " u'periodic_table_8159.png',\n",
       " u'periodic_table_8160.png',\n",
       " u'periodic_table_8161.png',\n",
       " u'periodic_table_8162.png',\n",
       " u'phagocytosis_9209.png',\n",
       " u'phagocytosis_9210.png',\n",
       " u'phagocytosis_9211.png',\n",
       " u'phagocytosis_9212.png',\n",
       " u'phagocytosis_9213.png',\n",
       " u'phagocytosis_9214.png',\n",
       " u'phagocytosis_9215.png',\n",
       " u'phagocytosis_9216.png',\n",
       " u'phagocytosis_9217.png',\n",
       " u'phagocytosis_9218.png',\n",
       " u'phagocytosis_9219.png',\n",
       " u'phagocytosis_9220.png',\n",
       " u'photosynthesis_1261.png',\n",
       " u'photosynthesis_1262.png',\n",
       " u'photosynthesis_1263.png',\n",
       " u'photosynthesis_1264.png',\n",
       " u'photosynthesis_1265.png',\n",
       " u'photosynthesis_1266.png',\n",
       " u'photosynthesis_1307.png',\n",
       " u'photosynthesis_1310.png',\n",
       " u'photosynthesis_1312.png',\n",
       " u'photosynthesis_1314.png',\n",
       " u'photosynthesis_1315.png',\n",
       " u'photosynthesis_1316.png',\n",
       " u'photosynthesis_1317.png',\n",
       " u'photosynthesis_1322.png',\n",
       " u'photosynthesis_4091.png',\n",
       " u'photosynthesis_4096.png',\n",
       " u'photosynthesis_4097.png',\n",
       " u'photosynthesis_4103.png',\n",
       " u'photosynthesis_4107.png',\n",
       " u'photosynthesis_4126.png',\n",
       " u'photosynthesis_4130.png',\n",
       " u'photosynthesis_7478.png',\n",
       " u'photosynthesis_7479.png',\n",
       " u'photosynthesis_7480.png',\n",
       " u'photosynthesis_7481.png',\n",
       " u'protozoa_9221.png',\n",
       " u'protozoa_9222.png',\n",
       " u'protozoa_9223.png',\n",
       " u'protozoa_9224.png',\n",
       " u'protozoa_9225.png',\n",
       " u'protozoa_9226.png',\n",
       " u'protozoa_9227.png',\n",
       " u'protozoa_9228.png',\n",
       " u'protozoa_9229.png',\n",
       " u'protozoa_9230.png',\n",
       " u'protozoa_9231.png',\n",
       " u'protozoa_9232.png',\n",
       " u'protozoa_9233.png',\n",
       " u'protozoa_9234.png',\n",
       " u'protozoa_9235.png',\n",
       " u'protozoa_9236.png',\n",
       " u'protozoa_9237.png',\n",
       " u'protozoa_9238.png',\n",
       " u'protozoa_9239.png',\n",
       " u'protozoa_9240.png',\n",
       " u'protozoa_9241.png',\n",
       " u'radioactive_decay_7513.png',\n",
       " u'radioactive_decay_7516.png',\n",
       " u'radioactive_decay_7517.png',\n",
       " u'radioactive_decay_7518.png',\n",
       " u'radioactive_decay_7519.png',\n",
       " u'radioactive_decay_7521.png',\n",
       " u'radioactive_decay_7522.png',\n",
       " u'radioactive_decay_8168.png',\n",
       " u'radioactive_decay_8169.png',\n",
       " u'radioactive_decay_8170.png',\n",
       " u'radioactive_decay_8171.png',\n",
       " u'radioactive_decay_8172.png',\n",
       " u'radioactive_decay_8173.png',\n",
       " u'radioactive_decay_8174.png',\n",
       " u'radioactive_decay_8175.png',\n",
       " u'radioactive_decay_8176.png',\n",
       " u'radioactive_decay_8177.png',\n",
       " u'radioactive_decay_8178.png',\n",
       " u'radioactive_decay_8179.png',\n",
       " u'radioactive_decay_8180.png',\n",
       " u'radioactive_decay_8181.png',\n",
       " u'radioactive_decay_8182.png',\n",
       " u'rain_shadow_7524.png',\n",
       " u'rain_shadow_7525.png',\n",
       " u'rain_shadow_7529.png',\n",
       " u'rain_shadow_7530.png',\n",
       " u'rain_shadow_7532.png',\n",
       " u'rain_shadow_7534.png',\n",
       " u'rain_shadow_7535.png',\n",
       " u'rain_shadow_7536.png',\n",
       " u'rain_shadow_7537.png',\n",
       " u'rain_shadow_8183.png',\n",
       " u'rain_shadow_8184.png',\n",
       " u'rain_shadow_8185.png',\n",
       " u'seafloor_spreading_7543.png',\n",
       " u'seafloor_spreading_7549.png',\n",
       " u'seafloor_spreading_7550.png',\n",
       " u'seafloor_spreading_8186.png',\n",
       " u'seafloor_spreading_8187.png',\n",
       " u'seafloor_spreading_8188.png',\n",
       " u'seafloor_spreading_8189.png',\n",
       " u'seafloor_spreading_8190.png',\n",
       " u'seasons_1033.png',\n",
       " u'seasons_1034.png',\n",
       " u'seasons_1039.png',\n",
       " u'seasons_1041.png',\n",
       " u'seasons_1042.png',\n",
       " u'seasons_1045.png',\n",
       " u'seasons_1046.png',\n",
       " u'seasons_1049.png',\n",
       " u'seasons_1345.png',\n",
       " u'seasons_1349.png',\n",
       " u'seasons_1356.png',\n",
       " u'seasons_1357.png',\n",
       " u'seasons_1447.png',\n",
       " u'seasons_1448.png',\n",
       " u'seasons_1450.png',\n",
       " u'seasons_164.png',\n",
       " u'seasons_172.png',\n",
       " u'seasons_2513.png',\n",
       " u'seasons_2518.png',\n",
       " u'seasons_2521.png',\n",
       " u'seasons_2567.png',\n",
       " u'seasons_2575.png',\n",
       " u'seasons_2578.png',\n",
       " u'seasons_2588.png',\n",
       " u'seasons_2625.png',\n",
       " u'seasons_2629.png',\n",
       " u'seasons_2633.png',\n",
       " u'seasons_2638.png',\n",
       " u'seasons_2641.png',\n",
       " u'seasons_2652.png',\n",
       " u'seasons_2653.png',\n",
       " u'seasons_2671.png',\n",
       " u'seasons_2672.png',\n",
       " u'seasons_2689.png',\n",
       " u'seasons_2757.png',\n",
       " u'seasons_6278.png',\n",
       " u'seasons_6279.png',\n",
       " u'seasons_6280.png',\n",
       " u'seasons_6281.png',\n",
       " u'seasons_6282.png',\n",
       " u'seasons_6284.png',\n",
       " u'seasons_6285.png',\n",
       " u'seasons_6286.png',\n",
       " u'seasons_6287.png',\n",
       " u'seasons_6288.png',\n",
       " u'seasons_6289.png',\n",
       " u'seasons_638.png',\n",
       " u'seasons_647.png',\n",
       " u'seasons_672.png',\n",
       " u'seasons_749.png',\n",
       " u'seasons_84.png',\n",
       " u'seismic_waves_1695.png',\n",
       " u'seismic_waves_1696.png',\n",
       " u'seismic_waves_1705.png',\n",
       " u'seismic_waves_174.png',\n",
       " u'seismic_waves_7551.png',\n",
       " u'seismic_waves_7552.png',\n",
       " u'seismic_waves_7553.png',\n",
       " u'seismic_waves_7554.png',\n",
       " u'seismic_waves_7555.png',\n",
       " u'seismic_waves_8191.png',\n",
       " u'seismic_waves_8192.png',\n",
       " u'seismic_waves_8193.png',\n",
       " u'seismic_waves_8194.png',\n",
       " u'seismic_waves_8195.png',\n",
       " u'simple_machines_7556.png',\n",
       " u'simple_machines_7557.png',\n",
       " u'simple_machines_7558.png',\n",
       " u'simple_machines_7559.png',\n",
       " u'simple_machines_7560.png',\n",
       " u'simple_machines_8197.png',\n",
       " u'simple_machines_9242.png',\n",
       " u'simple_machines_9244.png',\n",
       " u'simple_machines_9245.png',\n",
       " u'simple_machines_9246.png',\n",
       " u'simple_machines_9247.png',\n",
       " u'simple_machines_9248.png',\n",
       " u'skin_cross_section_7574.png',\n",
       " u'skin_cross_section_7575.png',\n",
       " u'skin_cross_section_7578.png',\n",
       " u'skin_cross_section_7579.png',\n",
       " u'skin_cross_section_7580.png',\n",
       " u'skin_cross_section_7581.png',\n",
       " u'skin_cross_section_7582.png',\n",
       " u'skin_cross_section_7583.png',\n",
       " u'skin_cross_section_7584.png',\n",
       " u'skin_cross_section_7586.png',\n",
       " u'skin_cross_section_7587.png',\n",
       " u'skin_cross_section_7588.png',\n",
       " u'skin_cross_section_7589.png',\n",
       " u'skin_cross_section_7590.png',\n",
       " u'soil_horizons_1405.png',\n",
       " u'soil_horizons_1406.png',\n",
       " u'soil_horizons_1407.png',\n",
       " u'soil_horizons_1409.png',\n",
       " u'soil_horizons_1411.png',\n",
       " u'soil_horizons_1412.png',\n",
       " u'soil_horizons_1413.png',\n",
       " u'soil_horizons_4258.png',\n",
       " u'soil_horizons_4260.png',\n",
       " u'soil_horizons_4261.png',\n",
       " u'soil_horizons_4263.png',\n",
       " u'soil_horizons_4269.png',\n",
       " u'soil_horizons_7591.png',\n",
       " u'soil_horizons_7592.png',\n",
       " u'soil_horizons_7593.png',\n",
       " u'soil_horizons_7594.png',\n",
       " u'soil_horizons_7595.png',\n",
       " u'soil_horizons_7596.png',\n",
       " u'solar_system_1426.png',\n",
       " u'solar_system_1427.png',\n",
       " u'solar_system_1428.png',\n",
       " u'solar_system_1433.png',\n",
       " u'solar_system_1435.png',\n",
       " u'solar_system_4303.png',\n",
       " u'solar_system_4307.png',\n",
       " u'solar_system_4308.png',\n",
       " u'solar_system_4311.png',\n",
       " u'solar_system_4316.png',\n",
       " u'solar_system_4317.png',\n",
       " u'solar_system_4574.png',\n",
       " u'solar_system_4576.png',\n",
       " u'solar_system_4577.png',\n",
       " u'solar_system_4578.png',\n",
       " u'solar_system_6290.png',\n",
       " u'solar_system_6291.png',\n",
       " u'solar_system_6292.png',\n",
       " u'solar_system_6293.png',\n",
       " u'solar_system_6294.png',\n",
       " u'solar_system_6295.png',\n",
       " u'solar_system_6296.png',\n",
       " u'solar_system_6297.png',\n",
       " u'solar_system_6298.png',\n",
       " u'solar_system_6299.png',\n",
       " u'solar_system_6300.png',\n",
       " u'solar_system_6301.png',\n",
       " u'solar_system_6302.png',\n",
       " u'solar_system_6303.png',\n",
       " u'state_change_7600.png',\n",
       " u'state_change_7601.png',\n",
       " u'state_change_7602.png',\n",
       " u'state_change_7603.png',\n",
       " u'state_change_7604.png',\n",
       " u'state_change_7605.png',\n",
       " u'state_change_7606.png',\n",
       " u'state_change_7608.png',\n",
       " u'state_change_7609.png',\n",
       " u'state_change_7610.png',\n",
       " u'state_change_8165.png',\n",
       " u'states_of_matter_7613.png',\n",
       " u'states_of_matter_7614.png',\n",
       " u'states_of_matter_7617.png',\n",
       " u'states_of_matter_7618.png',\n",
       " u'states_of_matter_9251.png',\n",
       " u'states_of_matter_9252.png',\n",
       " u'states_of_matter_9253.png',\n",
       " u'states_of_matter_9254.png',\n",
       " u'states_of_matter_9255.png',\n",
       " u'states_of_matter_9256.png',\n",
       " u'states_of_matter_9257.png',\n",
       " u'states_of_matter_9258.png',\n",
       " u'stratigraphy_7621.png',\n",
       " u'stratigraphy_8199.png',\n",
       " u'stratigraphy_8200.png',\n",
       " u'stratigraphy_9259.png',\n",
       " u'stratigraphy_9260.png',\n",
       " u'stratigraphy_9261.png',\n",
       " u'stratigraphy_9262.png',\n",
       " u'stratigraphy_9263.png',\n",
       " u'stratigraphy_9264.png',\n",
       " u'stratigraphy_9265.png',\n",
       " u'sun_layers_3994.png',\n",
       " u'sun_layers_4062.png',\n",
       " u'sun_layers_555.png',\n",
       " u'sun_layers_6304.png',\n",
       " u'sun_layers_6305.png',\n",
       " u'sun_layers_6306.png',\n",
       " u'sun_layers_6307.png',\n",
       " u'sun_layers_6308.png',\n",
       " u'sun_layers_6309.png',\n",
       " u'sun_layers_6310.png',\n",
       " u'sun_layers_6311.png',\n",
       " u'tectonic_plates_7622.png',\n",
       " u'tectonic_plates_9266.png',\n",
       " u'tectonic_plates_9267.png',\n",
       " u'tectonic_plates_9268.png',\n",
       " u'tectonic_plates_9269.png',\n",
       " u'tectonic_plates_9270.png',\n",
       " u'tectonic_plates_9271.png',\n",
       " u'tectonic_plates_9272.png',\n",
       " u'tectonic_plates_9273.png',\n",
       " u'tectonic_plates_9274.png',\n",
       " u'tectonic_plates_9275.png',\n",
       " u'tectonic_plates_motion_9276.png',\n",
       " u'tectonic_plates_motion_9277.png',\n",
       " u'tectonic_plates_motion_9278.png',\n",
       " u'tectonic_plates_motion_9279.png',\n",
       " u'tectonic_plates_motion_9280.png',\n",
       " u'tectonic_plates_motion_9281.png',\n",
       " u'tectonic_plates_motion_9282.png',\n",
       " u'tectonic_plates_motion_9283.png',\n",
       " u'tectonic_plates_motion_9284.png',\n",
       " u'tectonic_plates_motion_9285.png',\n",
       " u'tectonic_plates_motion_9286.png',\n",
       " u'tectonic_plates_motion_9287.png',\n",
       " u'tides_126.png',\n",
       " u'tides_128.png',\n",
       " u'tides_133.png',\n",
       " u'tides_136.png',\n",
       " u'tides_140.png',\n",
       " u'tides_145.png',\n",
       " u'tides_149.png',\n",
       " u'tides_150.png',\n",
       " u'tides_151.png',\n",
       " u'tides_153.png',\n",
       " u'tides_2529.png',\n",
       " u'tides_2602.png',\n",
       " u'tides_2603.png',\n",
       " u'tides_2606.png',\n",
       " u'tides_2608.png',\n",
       " u'tides_2609.png',\n",
       " u'tides_2612.png',\n",
       " u'tides_2614.png',\n",
       " u'tides_2643.png',\n",
       " u'tides_675.png',\n",
       " u'types_cells_7639.png',\n",
       " ...]"
      ]
     },
     "execution_count": 1455,
     "metadata": {},
     "output_type": "execute_result"
    }
   ],
   "source": [
    "sorted(pd.unique(results_df['diagram']))[1100:]"
   ]
  },
  {
   "cell_type": "code",
   "execution_count": 1471,
   "metadata": {
    "collapsed": true,
    "run_control": {
     "frozen": false,
     "read_only": false
    }
   },
   "outputs": [],
   "source": [
    "grouped_by_diagram = results_df.groupby(['diagram', 'assignment_id'])\n",
    "diagram_agreement = defaultdict(list)\n",
    "for page_user, boxes in grouped_by_diagram:\n",
    "    diagram_agreement[page_user[0]].append(len(boxes))"
   ]
  },
  {
   "cell_type": "code",
   "execution_count": 1472,
   "metadata": {
    "collapsed": false,
    "run_control": {
     "frozen": false,
     "read_only": false
    }
   },
   "outputs": [],
   "source": [
    "agreement_series = []\n",
    "diagrams_with_turker_agreement = []\n",
    "for page, box_counts in diagram_agreement.items():\n",
    "#     if len(box_counts) < 2:\n",
    "#         continue\n",
    "    if len(box_counts) < 3:\n",
    "        continue \n",
    "    agreement_series.append(len(set(box_counts)))\n",
    "    if len(set(box_counts)) == 1:\n",
    "        diagrams_with_turker_agreement.append(page)"
   ]
  },
  {
   "cell_type": "code",
   "execution_count": 1473,
   "metadata": {
    "collapsed": false,
    "run_control": {
     "frozen": false,
     "read_only": false
    }
   },
   "outputs": [
    {
     "data": {
      "text/plain": [
       "1    1397\n",
       "2     693\n",
       "3     191\n",
       "dtype: int64"
      ]
     },
     "execution_count": 1473,
     "metadata": {},
     "output_type": "execute_result"
    }
   ],
   "source": [
    "pd.Series(agreement_series).value_counts()"
   ]
  },
  {
   "cell_type": "code",
   "execution_count": 1469,
   "metadata": {
    "collapsed": false
   },
   "outputs": [
    {
     "data": {
      "text/plain": [
       "defaultdict(list, {})"
      ]
     },
     "execution_count": 1469,
     "metadata": {},
     "output_type": "execute_result"
    }
   ],
   "source": [
    "diagram_agreement"
   ]
  },
  {
   "cell_type": "code",
   "execution_count": 1008,
   "metadata": {
    "collapsed": true,
    "run_control": {
     "frozen": false,
     "read_only": false
    }
   },
   "outputs": [
    {
     "data": {
      "text/plain": [
       "1      433\n",
       "2      108\n",
       "3       61\n",
       "4       31\n",
       "5       11\n",
       "6        6\n",
       "11       6\n",
       "7        4\n",
       "8        4\n",
       "12       4\n",
       "17       2\n",
       "9        2\n",
       "10       2\n",
       "14       2\n",
       "24       2\n",
       "60       2\n",
       "25       1\n",
       "245      1\n",
       "115      1\n",
       "108      1\n",
       "75       1\n",
       "50       1\n",
       "48       1\n",
       "45       1\n",
       "42       1\n",
       "38       1\n",
       "36       1\n",
       "35       1\n",
       "13       1\n",
       "33       1\n",
       "27       1\n",
       "18       1\n",
       "248      1\n",
       "dtype: int64"
      ]
     },
     "execution_count": 1008,
     "metadata": {},
     "output_type": "execute_result"
    }
   ],
   "source": [
    "diff_series = []\n",
    "two_turkers_agree_list = \n",
    "two_turkers_agree = defaultdict(list)\n",
    "for page, box_counts in diagram_agreement.items():\n",
    "    set_list= list(set(box_counts))\n",
    "    if len(set_list) == 2:\n",
    "        off_by = abs(set_list[1] - set_list[0])\n",
    "        diff_series.append(off_by)\n",
    "        if off_by < 6:\n",
    "            two_turkers_agree[str(off_by)].append(page)\n",
    "        else:\n",
    "            two_turkers_agree['lots'].append(page)\n",
    "pd.Series(diff_series).value_counts()"
   ]
  },
  {
   "cell_type": "code",
   "execution_count": 1243,
   "metadata": {
    "collapsed": false
   },
   "outputs": [
    {
     "data": {
      "text/plain": [
       "433"
      ]
     },
     "execution_count": 1243,
     "metadata": {},
     "output_type": "execute_result"
    }
   ],
   "source": [
    "len(two_turkers_agree['1'])"
   ]
  },
  {
   "cell_type": "code",
   "execution_count": 1474,
   "metadata": {
    "collapsed": false,
    "run_control": {
     "frozen": false,
     "read_only": false
    },
    "scrolled": true
   },
   "outputs": [],
   "source": [
    "diff_series = []\n",
    "no_turkers_agree = defaultdict(list)\n",
    "for page, box_counts in diagram_agreement.items():\n",
    "    set_list= list(set(box_counts))\n",
    "    if len(set_list) == 3:\n",
    "        off_by = abs(set_list[1] - set_list[0])\n",
    "        diff_series.append(off_by)\n",
    "        if off_by < 6:\n",
    "            no_turkers_agree[str(off_by)].append(page)\n",
    "        else:\n",
    "            no_turkers_agree['lots'].append(page)\n",
    "        diff_series.append(max(set_list) - min(set_list))"
   ]
  },
  {
   "cell_type": "markdown",
   "metadata": {
    "heading_collapsed": true
   },
   "source": [
    "## clustering"
   ]
  },
  {
   "cell_type": "code",
   "execution_count": 1056,
   "metadata": {
    "code_folding": [
     0,
     26
    ],
    "collapsed": false,
    "hidden": true,
    "run_control": {
     "frozen": false,
     "read_only": false
    }
   },
   "outputs": [],
   "source": [
    "def limit_rect(rect, max_x, max_y, border_pad = 2):\n",
    "        if rect[0][0] < 0:\n",
    "            rect[0][0] = border_pad\n",
    "        if rect[0][1] < 0:\n",
    "            rect[0][1] = border_pad\n",
    "        if rect[1][0]  > max_x:\n",
    "            rect[1][0] = max_x - border_pad\n",
    "        if rect[1][1]  > max_y:\n",
    "            rect[1][1] = max_y -border_pad\n",
    "            \n",
    "def draw_clusters(img_path, clustered_boxes, direction='rows'):\n",
    "    \n",
    "    def random_color():\n",
    "        import random\n",
    "        return random.randint(0, 255), random.randint(0, 255), random.randint(0, 255)\n",
    "\n",
    "    image = cv2.imread(img_path)\n",
    "    max_height, max_width, channels = image.shape\n",
    "\n",
    "    for idx, cluster in enumerate(clustered_boxes):\n",
    "        color = random_color()\n",
    "        for box in cluster:\n",
    "            limit_rect(box, max_width, max_height)\n",
    "            cv2.rectangle(image, tuple(box[0]), tuple(box[1]), color=color, thickness=2)\n",
    "    return image\n",
    "\n",
    "def draw_loc_clusters(diagram_locs, dest_image_dir = '/Users/schwenk/wrk/stb/check_clustering_km/', bracket=0):\n",
    "    flattened_topic_dir = '/Users/schwenk/wrk/stb/ai2-vision-textbook-dataset/diagrams/turk_data/'\n",
    "    for diagram_name, text_locs in diagram_locs.items():\n",
    "        try:\n",
    "            clustered_text_boxes = cluster_diagram_text_centers(text_locs, 3, bracket)\n",
    "            image_path = flattened_topic_dir + diagram_name\n",
    "            drawn_image = draw_clusters(image_path, clustered_text_boxes)\n",
    "            cv2.imwrite(os.path.join(dest_image_dir, diagram_name), drawn_image)\n",
    "        except OverflowError as e:\n",
    "            print diagram_name, e"
   ]
  },
  {
   "cell_type": "code",
   "execution_count": 1019,
   "metadata": {
    "code_folding": [
     7,
     12,
     21,
     30
    ],
    "collapsed": true,
    "hidden": true,
    "run_control": {
     "frozen": false,
     "read_only": false
    }
   },
   "outputs": [],
   "source": [
    "import numpy as np\n",
    "from sklearn.cluster import SpectralClustering\n",
    "import cv2\n",
    "import PIL.Image as Image\n",
    "from sklearn.cluster import KMeans\n",
    "\n",
    "\n",
    "def box_area(box):\n",
    "    height = box[1][1] - box[0][1]\n",
    "    width = box[1][0] - box[0][0]\n",
    "    return height * width\n",
    "\n",
    "def compute_intersection(b1, b2):\n",
    "    dx = min(b1[1][0], b2[1][0]) - max(b1[0][0], b2[0][0])\n",
    "    dy = min(b1[1][1], b2[1][1]) - max(b1[0][1], b2[0][1])\n",
    "    if (dx >= 0) and (dy >= 0):\n",
    "        intersection_area = dx * dy\n",
    "        return intersection_area\n",
    "    else:\n",
    "        return\n",
    "\n",
    "def comp_boxes_iou(b1, b2):\n",
    "    b1 = b1.reshape(2, 2)\n",
    "    b2 = b2.reshape(2, 2)\n",
    "    b1_area = box_area(b1)\n",
    "    b2_area = box_area(b2)\n",
    "    intersection = compute_intersection(b1, b2)\n",
    "    iou = intersection / (b1_area + b2_area - intersection)\n",
    "    return iou\n",
    "\n",
    "def comp_box_center(box):\n",
    "    return [(box[1][0] + box[0][0]) / 2, (box[1][1] + box[0][1]) / 2]"
   ]
  },
  {
   "cell_type": "code",
   "execution_count": 1444,
   "metadata": {
    "code_folding": [
     1
    ],
    "collapsed": true,
    "hidden": true,
    "run_control": {
     "frozen": false,
     "read_only": false
    }
   },
   "outputs": [],
   "source": [
    "def pick_consensus(clustered_boxes):\n",
    "    return [sorted(cluster, key=lambda x: box_area(x))[:1] for cluster in clustered_boxes]\n",
    "        \n",
    "\n",
    "def draw_loc_consensus_and_individual(diagram_locs, dest_image_dir = '/Users/schwenk/wrk/stb/check_clustering_km/', bracket=0, results_df=results_df):\n",
    "    user_image_lookup = defaultdict(lambda: defaultdict(str))\n",
    "    flattened_topic_dir = '/Users/schwenk/wrk/stb/ai2-vision-textbook-dataset/diagrams/turk_data/'\n",
    "    for diagram_name, text_locs in diagram_locs.items():\n",
    "        try:\n",
    "            clustered_text_boxes = cluster_diagram_text_centers(text_locs, 3, bracket)\n",
    "            consensus_boxes = pick_consensus(clustered_text_boxes)\n",
    "            image_path = flattened_topic_dir + diagram_name\n",
    "            drawn_image = draw_clusters(image_path, consensus_boxes)\n",
    "            cv2.imwrite(os.path.join(dest_image_dir, diagram_name.replace('.png', '_consensus.png')), drawn_image)\n",
    "            user_boxes = get_boxes_by_user(results_df, diagram_name)\n",
    "            for idx, boxes in enumerate(user_boxes.values()):\n",
    "                user_image_lookup[diagram_name][idx + 1] = user_boxes.keys()[idx]\n",
    "                drawn_image = draw_clusters(image_path, np.array(boxes).reshape(len(boxes), 1))\n",
    "                cv2.imwrite(os.path.join(dest_image_dir, diagram_name.replace('.png', '_' + str(idx + 1) + '.png')), drawn_image) \n",
    "        except AttributeError as e:\n",
    "            print diagram_name, e\n",
    "    return user_image_lookup"
   ]
  },
  {
   "cell_type": "code",
   "execution_count": 1020,
   "metadata": {
    "code_folding": [
     0
    ],
    "collapsed": false,
    "hidden": true,
    "run_control": {
     "frozen": false,
     "read_only": false
    }
   },
   "outputs": [],
   "source": [
    "def cluster_diagram_text(text_rects, n_turkers_assigned = 3):\n",
    "    n_clusters = int(len(text_rects) / n_turkers_assigned)\n",
    "    text_clusterer = SpectralClustering(n_clusters, affinity=comp_boxes_iou, assign_labels='kmeans', eigen_solver='arpack', n_init=100)\n",
    "    box_array = np.array(text_rects)\n",
    "    box_array = np.array(text_rects)\n",
    "    box_array_flattened = box_array.reshape(box_array.shape[0], 4)\n",
    "    box_array_flattened = box_array_flattened.astype(np.float64)\n",
    "    cluster_assignments = text_clusterer.fit_predict(box_array_flattened)\n",
    "    clustered_boxes = [box_array[cluster_assignments == cluster_n].tolist() for cluster_n in range(n_clusters)]\n",
    "    return clustered_boxes"
   ]
  },
  {
   "cell_type": "code",
   "execution_count": 1021,
   "metadata": {
    "code_folding": [
     0
    ],
    "collapsed": false,
    "hidden": true,
    "run_control": {
     "frozen": false,
     "read_only": false
    }
   },
   "outputs": [],
   "source": [
    "def cluster_diagram_text_centers(text_rects, n_turkers_assigned = 3, bracket=0):\n",
    "    text_centers= [comp_box_center(rect) for rect in text_rects]\n",
    "    remainder = len(text_centers) % n_turkers_assigned\n",
    "    if not remainder:\n",
    "        n_clusters = int(len(text_centers) / n_turkers_assigned)\n",
    "    else:\n",
    "        if bracket != 'lots':\n",
    "            bracket_n = int(bracket)\n",
    "        else:\n",
    "            bracket_n = 7\n",
    "        n_clusters = len(text_centers) // n_turkers_assigned + bracket\n",
    "    text_clusterer = KMeans(n_clusters)\n",
    "    box_array = np.array(text_centers)\n",
    "    cluster_assignments = text_clusterer.fit_predict(box_array)\n",
    "    clustered_boxes = [np.array(text_rects)[cluster_assignments == cluster_n].tolist() for cluster_n in range(n_clusters)]\n",
    "    return clustered_boxes"
   ]
  },
  {
   "cell_type": "code",
   "execution_count": 1188,
   "metadata": {
    "collapsed": false,
    "hidden": true,
    "run_control": {
     "frozen": false,
     "read_only": false
    }
   },
   "outputs": [],
   "source": [
    "results_df_agreement = results_df[results_df['diagram'].isin(diagrams_with_turker_agreement)]\n",
    "\n",
    "grouped_by_diagram = results_df_agreement.groupby('diagram')\n",
    "diagram_locs = defaultdict(list)\n",
    "for diagram_name, boxes in grouped_by_diagram:\n",
    "    diagram_locs[diagram_name].extend(boxes['rectangle'].values)"
   ]
  },
  {
   "cell_type": "code",
   "execution_count": 1194,
   "metadata": {
    "collapsed": false,
    "hidden": true,
    "run_control": {
     "frozen": false,
     "read_only": false
    }
   },
   "outputs": [],
   "source": [
    "dest_dir = '/Users/schwenk/wrk/stb/diagram_questions/turk_processing/man_pass/all_turkers_agree/'\n",
    "user_diagram_lookup = draw_loc_consensus_and_individual(diagram_locs, dest_dir)"
   ]
  },
  {
   "cell_type": "code",
   "execution_count": 1236,
   "metadata": {
    "collapsed": false,
    "hidden": true
   },
   "outputs": [],
   "source": [
    "with open('user_diag_loopkup.pkl', 'w') as f:\n",
    "    pickle.dump(dict(user_diagram_lookup), f)"
   ]
  },
  {
   "cell_type": "code",
   "execution_count": 1204,
   "metadata": {
    "collapsed": false,
    "hidden": true
   },
   "outputs": [],
   "source": [
    "user_invest = user_diagram_lookup['skin_cross_section_7578.png']"
   ]
  },
  {
   "cell_type": "code",
   "execution_count": 1467,
   "metadata": {
    "collapsed": false,
    "hidden": true
   },
   "outputs": [
    {
     "data": {
      "text/plain": [
       "0"
      ]
     },
     "execution_count": 1467,
     "metadata": {},
     "output_type": "execute_result"
    }
   ],
   "source": [
    "len(diagrams_with_turker_agreement)"
   ]
  },
  {
   "cell_type": "code",
   "execution_count": 1427,
   "metadata": {
    "collapsed": false,
    "hidden": true
   },
   "outputs": [
    {
     "data": {
      "text/plain": [
       "u'photosynthesis_4097.png'"
      ]
     },
     "execution_count": 1427,
     "metadata": {},
     "output_type": "execute_result"
    }
   ],
   "source": [
    "diagrams_with_turker_agreement[0]"
   ]
  },
  {
   "cell_type": "code",
   "execution_count": 1436,
   "metadata": {
    "collapsed": false,
    "hidden": true
   },
   "outputs": [
    {
     "data": {
      "text/plain": [
       "0"
      ]
     },
     "execution_count": 1436,
     "metadata": {},
     "output_type": "execute_result"
    }
   ],
   "source": [
    "len(set(diagrams_with_turker_agreement).intersection(set(two_turkers_agree['1'])))"
   ]
  },
  {
   "cell_type": "code",
   "execution_count": 1440,
   "metadata": {
    "collapsed": false,
    "hidden": true
   },
   "outputs": [
    {
     "data": {
      "text/plain": [
       "7"
      ]
     },
     "execution_count": 1440,
     "metadata": {},
     "output_type": "execute_result"
    }
   ],
   "source": [
    "len(two_turkers_agree.keys())"
   ]
  },
  {
   "cell_type": "code",
   "execution_count": 1468,
   "metadata": {
    "collapsed": true,
    "hidden": true
   },
   "outputs": [
    {
     "data": {
      "text/plain": [
       "[u'atomic_mass_number_9005.png',\n",
       " u'atomic_structure_9016.png',\n",
       " u'biomes_8017.png',\n",
       " u'cellular_respiration_9046.png',\n",
       " u'chemical_bonding_covalent_9052.png',\n",
       " u'chemical_bonding_covalent_9055.png',\n",
       " u'dna_6763.png',\n",
       " u'dna_6767.png',\n",
       " u'dna_6769.png',\n",
       " u'em_spectrum_6818.png',\n",
       " u'faults_1756.png',\n",
       " u'geologic_time_6921.png',\n",
       " u'geologic_time_6925.png',\n",
       " u'human_system_circulatory_3622.png',\n",
       " u'human_system_reproductory_7015.png',\n",
       " u'hydrocarbons_7051.png',\n",
       " u'hydrocarbons_7052.png',\n",
       " u'hydrocarbons_8088.png',\n",
       " u'hydrocarbons_8089.png',\n",
       " u'hydrocarbons_8090.png',\n",
       " u'hydrocarbons_8091.png',\n",
       " u'hydrocarbons_8092.png',\n",
       " u'hydrocarbons_9118.png',\n",
       " u'hydrocarbons_9119.png',\n",
       " u'hydrocarbons_9122.png',\n",
       " u'isotopes_9123.png',\n",
       " u'lewis_dot_idagrams_9147.png',\n",
       " u'life_cycles_2249.png',\n",
       " u'nuclear_energy_8104.png',\n",
       " u'nuclear_energy_8106.png',\n",
       " u'nuclear_energy_8114.png',\n",
       " u'ocean_currents_7109.png',\n",
       " u'ocean_zones_8126.png',\n",
       " u'parts_cell_994.png',\n",
       " u'parts_flower_1014.png',\n",
       " u'parts_leaf_6266.png',\n",
       " u'parts_skeleton_7273.png',\n",
       " u'periodic_table_7356.png',\n",
       " u'periodic_table_7381.png',\n",
       " u'periodic_table_7396.png',\n",
       " u'periodic_table_7419.png',\n",
       " u'periodic_table_8157.png',\n",
       " u'phagocytosis_9209.png',\n",
       " u'radioactive_decay_8173.png',\n",
       " u'rain_shadow_7532.png',\n",
       " u'soil_horizons_4260.png',\n",
       " u'states_of_matter_9256.png',\n",
       " u'types_leaves_4387.png',\n",
       " u'types_leaves_4758.png',\n",
       " u'types_leaves_4759.png',\n",
       " u'velocity_time_graphs_8210.png',\n",
       " u'velocity_time_graphs_8218.png',\n",
       " u'waves_9295.png']"
      ]
     },
     "execution_count": 1468,
     "metadata": {},
     "output_type": "execute_result"
    }
   ],
   "source": [
    "sorted(two_turkers_agree.values()[1])"
   ]
  },
  {
   "cell_type": "code",
   "execution_count": null,
   "metadata": {
    "collapsed": true,
    "hidden": true
   },
   "outputs": [],
   "source": []
  },
  {
   "cell_type": "code",
   "execution_count": 1529,
   "metadata": {
    "collapsed": false,
    "hidden": true
   },
   "outputs": [
    {
     "data": {
      "text/plain": [
       "0"
      ]
     },
     "execution_count": 1529,
     "metadata": {},
     "output_type": "execute_result"
    }
   ],
   "source": [
    "len(no_turkers_agree_lookup)"
   ]
  },
  {
   "cell_type": "code",
   "execution_count": 1456,
   "metadata": {
    "collapsed": false,
    "hidden": true,
    "run_control": {
     "frozen": false,
     "read_only": false
    }
   },
   "outputs": [
    {
     "name": "stdout",
     "output_type": "stream",
     "text": [
      "lewis_dot_idagrams_9147.png 'NoneType' object has no attribute 'shape'\n",
      "lewis_dot_idagrams_9145.png 'NoneType' object has no attribute 'shape'\n",
      "lewis_dot_idagrams_9132.png 'NoneType' object has no attribute 'shape'\n",
      "lewis_dot_idagrams_9130.png 'NoneType' object has no attribute 'shape'\n",
      "lewis_dot_idagrams_9137.png 'NoneType' object has no attribute 'shape'\n",
      "lewis_dot_idagrams_9149.png 'NoneType' object has no attribute 'shape'\n",
      "lewis_dot_idagrams_9133.png 'NoneType' object has no attribute 'shape'\n"
     ]
    }
   ],
   "source": [
    "two_turkers_agree_lookup = {}\n",
    "for bracket, diagrams_in_bracket in two_turkers_agree.items():\n",
    "    out_dir = './con_and_ind/two_turkers_agree_' + str(bracket)\n",
    "    if not os.path.exists(out_dir):\n",
    "        os.mkdir(out_dir)\n",
    "    results_df_two_turkers_agree = results_df[results_df['diagram'].isin(diagrams_in_bracket)]\n",
    "    grouped_by_diagram = results_df_two_turkers_agree.groupby('diagram')\n",
    "    diagram_locs_almost = defaultdict(list)\n",
    "    for diagram_name, boxes in grouped_by_diagram:\n",
    "        diagram_locs_almost[diagram_name].extend(boxes['rectangle'].values)\n",
    "    user_lookup = draw_loc_consensus_and_individual(diagram_locs_almost, out_dir, bracket)\n",
    "    two_turkers_agree_lookup.update(user_lookup)"
   ]
  },
  {
   "cell_type": "code",
   "execution_count": 1457,
   "metadata": {
    "collapsed": false,
    "hidden": true
   },
   "outputs": [
    {
     "data": {
      "text/plain": [
       "690"
      ]
     },
     "execution_count": 1457,
     "metadata": {},
     "output_type": "execute_result"
    }
   ],
   "source": [
    "len(two_turkers_agree_lookup)"
   ]
  },
  {
   "cell_type": "code",
   "execution_count": 1481,
   "metadata": {
    "collapsed": true,
    "hidden": true
   },
   "outputs": [],
   "source": [
    "with open('no_turkers_agree_lookup.pkl', 'w') as f:\n",
    "    pickle.dump(dict(no_turkers_agree_lookup), f)"
   ]
  },
  {
   "cell_type": "code",
   "execution_count": 1530,
   "metadata": {
    "collapsed": false,
    "hidden": true
   },
   "outputs": [
    {
     "name": "stdout",
     "output_type": "stream",
     "text": [
      "lewis_dot_idagrams_9148.png 'NoneType' object has no attribute 'shape'\n",
      "lewis_dot_idagrams_9138.png 'NoneType' object has no attribute 'shape'\n",
      "lewis_dot_idagrams_9146.png 'NoneType' object has no attribute 'shape'\n"
     ]
    }
   ],
   "source": [
    "no_turkers_agree_lookup = {}\n",
    "for bracket, diagrams_in_bracket in no_turkers_agree.items():\n",
    "    out_dir = './con_and_ind/no_turkers_agree_' + str(bracket)\n",
    "#     if not os.path.exists(out_dir):\n",
    "#         os.mkdir(out_dir)\n",
    "    results_df_two_turkers_agree = results_df[results_df['diagram'].isin(diagrams_in_bracket)]\n",
    "    grouped_by_diagram = results_df_two_turkers_agree.groupby('diagram')\n",
    "    diagram_locs_almost = defaultdict(list)\n",
    "    for diagram_name, boxes in grouped_by_diagram:\n",
    "        diagram_locs_almost[diagram_name].extend(boxes['rectangle'].values)\n",
    "    user_lookup = draw_loc_consensus_and_individual(diagram_locs_almost, out_dir, bracket)\n",
    "    no_turkers_agree_lookup.update(user_lookup)"
   ]
  },
  {
   "cell_type": "code",
   "execution_count": 1533,
   "metadata": {
    "collapsed": false,
    "hidden": true
   },
   "outputs": [
    {
     "data": {
      "text/plain": [
       "188"
      ]
     },
     "execution_count": 1533,
     "metadata": {},
     "output_type": "execute_result"
    }
   ],
   "source": [
    "len(no_turkers_agree_lookup)"
   ]
  },
  {
   "cell_type": "code",
   "execution_count": null,
   "metadata": {
    "collapsed": true,
    "hidden": true
   },
   "outputs": [],
   "source": []
  },
  {
   "cell_type": "code",
   "execution_count": null,
   "metadata": {
    "collapsed": true,
    "hidden": true
   },
   "outputs": [],
   "source": []
  },
  {
   "cell_type": "code",
   "execution_count": null,
   "metadata": {
    "collapsed": true,
    "hidden": true
   },
   "outputs": [],
   "source": []
  },
  {
   "cell_type": "code",
   "execution_count": 1459,
   "metadata": {
    "collapsed": false,
    "hidden": true
   },
   "outputs": [
    {
     "data": {
      "text/plain": [
       "0"
      ]
     },
     "execution_count": 1459,
     "metadata": {},
     "output_type": "execute_result"
    }
   ],
   "source": [
    "len(no_turkers_agree)"
   ]
  },
  {
   "cell_type": "code",
   "execution_count": 1030,
   "metadata": {
    "collapsed": true,
    "hidden": true,
    "run_control": {
     "frozen": false,
     "read_only": false
    }
   },
   "outputs": [],
   "source": [
    "for bracket, diagrams_in_bracket in no_turkers_agree.items():\n",
    "    out_dir = './con_and_ind/no_turkers_agree_' + bracket \n",
    "    if not os.path.exists(out_dir):\n",
    "        os.mkdir(out_dir)\n",
    "    results_df_two_turkers_agree = results_df[results_df['diagram'].isin(diagrams_in_bracket)]\n",
    "    grouped_by_diagram = results_df_two_turkers_agree.groupby('diagram')\n",
    "    diagram_locs_almost = defaultdict(list)\n",
    "    for diagram_name, boxes in grouped_by_diagram:\n",
    "        diagram_locs_almost[diagram_name].extend(boxes['rectangle'].values)\n",
    "    draw_loc_clusters(diagram_locs_almost, out_dir, bracket)"
   ]
  },
  {
   "cell_type": "code",
   "execution_count": 1419,
   "metadata": {
    "collapsed": false,
    "hidden": true,
    "run_control": {
     "frozen": false,
     "read_only": false
    }
   },
   "outputs": [],
   "source": [
    "# draw_loc_clusters(diagram_locs_almost, '/Users/schwenk/wrk/stb/check_clustering_km_almost_agree/')"
   ]
  },
  {
   "cell_type": "markdown",
   "metadata": {
    "heading_collapsed": true
   },
   "source": [
    "## single test"
   ]
  },
  {
   "cell_type": "code",
   "execution_count": 1149,
   "metadata": {
    "collapsed": true,
    "hidden": true
   },
   "outputs": [],
   "source": [
    "grouped_by_diagram = results_df.groupby('diagram')\n",
    "diagram_locs = defaultdict(list)\n",
    "for diagram_name, boxes in grouped_by_diagram:\n",
    "    diagram_locs[diagram_name].extend(boxes['rectangle'].values)"
   ]
  },
  {
   "cell_type": "code",
   "execution_count": 1211,
   "metadata": {
    "collapsed": false,
    "hidden": true
   },
   "outputs": [
    {
     "data": {
      "text/plain": [
       "u'374TNBHA8BWUESHAJZTOM14TEH3YQS'"
      ]
     },
     "execution_count": 1211,
     "metadata": {},
     "output_type": "execute_result"
    }
   ],
   "source": [
    "user_invest[1]"
   ]
  },
  {
   "cell_type": "code",
   "execution_count": 1227,
   "metadata": {
    "collapsed": true,
    "hidden": true
   },
   "outputs": [],
   "source": [
    "problem = diagram_locs[problem_name]"
   ]
  },
  {
   "cell_type": "code",
   "execution_count": 1231,
   "metadata": {
    "collapsed": false,
    "hidden": true,
    "run_control": {
     "frozen": false,
     "read_only": false
    }
   },
   "outputs": [
    {
     "data": {
      "image/png": "[encoded data removed]",
      "text/plain": [
       "<PIL.Image.Image image mode=RGB size=1024x764 at 0x11267F690>"
      ]
     },
     "execution_count": 1231,
     "metadata": {},
     "output_type": "execute_result"
    }
   ],
   "source": [
    "problem_name = 'atomic_structure_8007.png'\n",
    "problem = diagram_locs[problem_name]\n",
    "\n",
    "user_invest = user_diagram_lookup[problem_name]\n",
    "ind_user_df = results_df_agreement[(results_df_agreement['diagram'] == problem_name) & (results_df_agreement['assignment_id'] == user_invest[1])]\n",
    "\n",
    "image_path = flattened_topic_dir + problem_name\n",
    "# clustered_text_boxes_centers = cluster_diagram_text_centers(problem)\n",
    "user_boxes = ind_user_df['rectangle'].values\n",
    "drawn_image = draw_clusters(image_path, np.array(user_boxes).reshape(len(user_boxes), 1))\n",
    "Image.fromarray(drawn_image)"
   ]
  },
  {
   "cell_type": "code",
   "execution_count": 1004,
   "metadata": {
    "collapsed": false,
    "hidden": true,
    "run_control": {
     "frozen": false,
     "read_only": false
    }
   },
   "outputs": [
    {
     "data": {
      "text/plain": [
       "[[[[526, 454], [715, 478]], [[535, 463], [711, 478]]]]"
      ]
     },
     "execution_count": 1004,
     "metadata": {},
     "output_type": "execute_result"
    }
   ],
   "source": [
    "[clust for clust in clustered_text_boxes_centers if len(clust) != 3]"
   ]
  },
  {
   "cell_type": "markdown",
   "metadata": {
    "hidden": true
   },
   "source": [
    "### The two commands above interact with mechanical turk and can take a while"
   ]
  },
  {
   "cell_type": "code",
   "execution_count": 9,
   "metadata": {
    "collapsed": false,
    "hidden": true,
    "run_control": {
     "frozen": false,
     "read_only": false
    }
   },
   "outputs": [],
   "source": [
    "results_df_current_batch = amt_util.make_results_df(raw_hit_results_current_batch)\n",
    "consensus_results_df_current_batch = amt_util.make_consensus_df(results_df_current_batch, 'No Consensus')"
   ]
  },
  {
   "cell_type": "code",
   "execution_count": 10,
   "metadata": {
    "collapsed": false,
    "hidden": true,
    "run_control": {
     "frozen": false,
     "read_only": false
    }
   },
   "outputs": [],
   "source": [
    "%%capture\n",
    "no_consensus_hits = consensus_results_df_current_batch[consensus_results_df_current_batch['category'] == 'No Consensus']"
   ]
  },
  {
   "cell_type": "code",
   "execution_count": 102,
   "metadata": {
    "collapsed": false,
    "hidden": true,
    "run_control": {
     "frozen": false,
     "read_only": false
    }
   },
   "outputs": [
    {
     "name": "stdout",
     "output_type": "stream",
     "text": [
      "text boxes without consensus comprise 2.87% of the total\n"
     ]
    }
   ],
   "source": [
    "flaw_rate = len(no_consensus_hits) / len(consensus_results_df_current_batch)\n",
    "print 'text boxes without consensus comprise ' + '{0:0.2f}% '.format(flaw_rate * 100) + 'of the total'  "
   ]
  },
  {
   "cell_type": "code",
   "execution_count": 423,
   "metadata": {
    "collapsed": true,
    "hidden": true,
    "run_control": {
     "frozen": false,
     "read_only": false
    }
   },
   "outputs": [],
   "source": [
    "amt_util.write_results_df(consensus_results_df_current_batch)"
   ]
  },
  {
   "cell_type": "code",
   "execution_count": 419,
   "metadata": {
    "collapsed": true,
    "hidden": true,
    "run_control": {
     "frozen": false,
     "read_only": false
    }
   },
   "outputs": [],
   "source": [
    "# all pages from the latest batch\n",
    "pages_to_review =pd.unique(consensus_results_df_current_batch['page'])"
   ]
  },
  {
   "cell_type": "code",
   "execution_count": 384,
   "metadata": {
    "collapsed": true,
    "hidden": true,
    "run_control": {
     "frozen": false,
     "read_only": false
    }
   },
   "outputs": [],
   "source": [
    "# all pages from the latest batch with a no-consensus box\n",
    "pages_to_review =pd.unique(no_consensus_hits['page'])"
   ]
  },
  {
   "cell_type": "code",
   "execution_count": 424,
   "metadata": {
    "collapsed": false,
    "hidden": true,
    "run_control": {
     "frozen": false,
     "read_only": false
    }
   },
   "outputs": [
    {
     "name": "stdout",
     "output_type": "stream",
     "text": [
      "sampling 17 pages out of 17\n",
      "posting to review tool, navigate to http://localhost:8080/ to see the sampled consensus results\n"
     ]
    }
   ],
   "source": [
    "sampling_rate = 1\n",
    "sample_size = int(len(pages_to_review) * sampling_rate)\n",
    "sampled_pages_to_review = list(np.random.choice(pages_to_review, size= sample_size, replace=False))\n",
    "print 'sampling ' + str(sample_size) + ' pages out of ' + str(len(pages_to_review))\n",
    "to_review = ['start_seq'] + sampled_pages_to_review\n",
    "\n",
    "amt_util.review_results(to_review)\n",
    "print 'posting to review tool, navigate to http://localhost:8080/ to see the sampled consensus results'"
   ]
  },
  {
   "cell_type": "code",
   "execution_count": 438,
   "metadata": {
    "collapsed": false,
    "hidden": true,
    "run_control": {
     "frozen": false,
     "read_only": false
    }
   },
   "outputs": [
    {
     "data": {
      "text/plain": [
       "1337"
      ]
     },
     "execution_count": 438,
     "metadata": {},
     "output_type": "execute_result"
    }
   ],
   "source": [
    "amt_util.count_pages_with_cat(combined_consensus_df, 'Question')"
   ]
  },
  {
   "cell_type": "code",
   "execution_count": 73,
   "metadata": {
    "collapsed": false,
    "hidden": true,
    "run_control": {
     "frozen": false,
     "read_only": false
    }
   },
   "outputs": [],
   "source": [
    "%%capture \n",
    "# all pages from the latest batch with a no-consensus box\n",
    "suspect_subset = results_df_current_batch[results_df_current_batch['worker_id'].isin(suspect_workers[:5])]\n",
    "amt_util.write_results_df(suspect_subset)\n",
    "pages_to_review = pd.unique(suspect_subset['page'])"
   ]
  },
  {
   "cell_type": "markdown",
   "metadata": {
    "heading_collapsed": true
   },
   "source": [
    "## reading consensus choices"
   ]
  },
  {
   "cell_type": "code",
   "execution_count": 1314,
   "metadata": {
    "collapsed": true,
    "hidden": true
   },
   "outputs": [],
   "source": [
    "import re"
   ]
  },
  {
   "cell_type": "code",
   "execution_count": 1264,
   "metadata": {
    "collapsed": true,
    "hidden": true
   },
   "outputs": [],
   "source": [
    "man_pass_dir = '/Users/schwenk/wrk/stb/diagram_questions/turk_processing/man_pass/'\n",
    "final_res = '/Users/schwenk/wrk/stb/diagram_questions/turk_processing/final_diagrams/'"
   ]
  },
  {
   "cell_type": "code",
   "execution_count": 1308,
   "metadata": {
    "collapsed": false,
    "hidden": true
   },
   "outputs": [],
   "source": [
    "my_selections = pd.read_csv(man_pass_dir + 'final_consensus_all_turkers', header=None)\n",
    "my_selections.columns = ['idx', 'diagram', 'selected_idx', 'not']\n",
    "del my_selections['not']\n",
    "\n",
    "my_selections['diagram'] = my_selections['diagram'].apply(lambda x: x.lstrip())"
   ]
  },
  {
   "cell_type": "code",
   "execution_count": 1262,
   "metadata": {
    "collapsed": false,
    "hidden": true
   },
   "outputs": [
    {
     "data": {
      "text/plain": [
       "0    1267\n",
       "1      52\n",
       "3      40\n",
       "2      38\n",
       "Name: selected_idx, dtype: int64"
      ]
     },
     "execution_count": 1262,
     "metadata": {},
     "output_type": "execute_result"
    }
   ],
   "source": [
    "my_selections['selected_idx'].value_counts()"
   ]
  },
  {
   "cell_type": "code",
   "execution_count": 1519,
   "metadata": {
    "collapsed": false,
    "hidden": true
   },
   "outputs": [],
   "source": [
    "def draw_final_individual(diagram_locs, dest_dir, user_diagram_lookup, diagram_selection_lookup, results_df=results_df):\n",
    "    boxes_to_use = {}\n",
    "    flattened_topic_dir = '/Users/schwenk/wrk/stb/ai2-vision-textbook-dataset/diagrams/turk_data/'\n",
    "    for diagram_name, text_locs in diagram_locs.items():\n",
    "        image_path = flattened_topic_dir + diagram_name\n",
    "        name_to_match = diagram_name.replace('.png', '').replace('_1', '')\n",
    "        if diagram_selection_lookup[name_to_match] == 0:\n",
    "            clustered_text_boxes = cluster_diagram_text_centers(text_locs, 3, bracket)\n",
    "            consensus_boxes = pick_consensus(clustered_text_boxes)\n",
    "            boxes_to_use[diagram_name] = consensus_boxes\n",
    "#             try:\n",
    "#                 drawn_image = draw_clusters(image_path, consensus_boxes)\n",
    "#             except AttributeError:\n",
    "#                 print diagram_name   \n",
    "        else:\n",
    "            this_diagrams_users = user_diagram_lookup[diagram_name]\n",
    "            selected_user = this_diagrams_users[diagram_selection_lookup[name_to_match]]\n",
    "            user_boxes = get_boxes_by_user(results_df, diagram_name)\n",
    "            selected_boxes = user_boxes[selected_user]\n",
    "            boxes_to_use[diagram_name] = selected_boxes.reshape(len(selected_boxes), 1).tolist()\n",
    "#             drawn_image = draw_clusters(image_path, np.array(selected_boxes).reshape(len(selected_boxes), 1))\n",
    "#       cv2.imwrite(os.path.join(dest_dir, diagram_name), drawn_image) \n",
    "    return boxes_to_use"
   ]
  },
  {
   "cell_type": "markdown",
   "metadata": {
    "heading_collapsed": true
   },
   "source": [
    "## pass 2"
   ]
  },
  {
   "cell_type": "code",
   "execution_count": 1535,
   "metadata": {
    "collapsed": false,
    "hidden": true
   },
   "outputs": [
    {
     "data": {
      "text/plain": [
       "188"
      ]
     },
     "execution_count": 1535,
     "metadata": {},
     "output_type": "execute_result"
    }
   ],
   "source": [
    "len(no_turkers_agree_lookup.keys())"
   ]
  },
  {
   "cell_type": "code",
   "execution_count": 1538,
   "metadata": {
    "collapsed": true,
    "hidden": true
   },
   "outputs": [],
   "source": [
    "results_df_lesser_agreement = results_df[results_df['diagram'].isin(no_turkers_agree_lookup.keys() + two_turkers_agree_lookup.keys())]\n",
    "\n",
    "grouped_by_diagram_lesser = results_df_lesser_agreement.groupby('diagram')\n",
    "diagram_locs_lesser = defaultdict(list)\n",
    "for diagram_name, boxes in grouped_by_diagram_lesser:\n",
    "    diagram_locs_lesser[diagram_name].extend(boxes['rectangle'].values)"
   ]
  },
  {
   "cell_type": "code",
   "execution_count": 1539,
   "metadata": {
    "collapsed": false,
    "hidden": true
   },
   "outputs": [
    {
     "data": {
      "text/plain": [
       "878"
      ]
     },
     "execution_count": 1539,
     "metadata": {},
     "output_type": "execute_result"
    }
   ],
   "source": [
    "len(diagram_locs_lesser)"
   ]
  },
  {
   "cell_type": "code",
   "execution_count": 1638,
   "metadata": {
    "collapsed": false,
    "hidden": true
   },
   "outputs": [],
   "source": [
    "def read_consensus_decisions(record_file, man_pass_dir):\n",
    "    bracket_consensus = pd.read_csv(man_pass_dir + record_file , header=None)\n",
    "    bracket_consensus.columns = ['idx', 'diagram', 'selected_idx', 'not']\n",
    "    del bracket_consensus['not']\n",
    "    bracket_consensus['diagram'] = bracket_consensus['diagram'].apply(lambda x: x.lstrip())\n",
    "    bracket_consensus['selected_idx'] = bracket_consensus['selected_idx'].apply(lambda x: x.lstrip())\n",
    "    return bracket_consensus\n",
    "\n",
    "def convert_df_to_dict(con_df): \n",
    "    con_df_red = con_df[['selected_idx', 'diagram']]\n",
    "    return con_df_red.set_index('diagram').to_dict()['selected_idx']"
   ]
  },
  {
   "cell_type": "code",
   "execution_count": 1639,
   "metadata": {
    "collapsed": false,
    "hidden": true
   },
   "outputs": [],
   "source": [
    "record_files = ['final_consensus_two_turkers', 'final_consensus_harder_two_turkers', 'final_consensus_no_turkers', 'final_consensus_harder_no_turkers']\n",
    "test_consensus = read_consensus_decisions(record_files[0], man_pass_dir)"
   ]
  },
  {
   "cell_type": "code",
   "execution_count": 1643,
   "metadata": {
    "collapsed": false,
    "hidden": true
   },
   "outputs": [
    {
     "ename": "KeyError",
     "evalue": "'selected_idx'",
     "output_type": "error",
     "traceback": [
      "\u001b[0;31m---------------------------------------------------------------------------\u001b[0m",
      "\u001b[0;31mKeyError\u001b[0m                                  Traceback (most recent call last)",
      "\u001b[0;32m<ipython-input-1643-4e63846bd674>\u001b[0m in \u001b[0;36m<module>\u001b[0;34m()\u001b[0m\n\u001b[0;32m----> 1\u001b[0;31m \u001b[0mcombined_pass_2_lookup\u001b[0m\u001b[0;34m[\u001b[0m\u001b[0;34m'selected_idx'\u001b[0m\u001b[0;34m]\u001b[0m\u001b[0;34m.\u001b[0m\u001b[0mvalue_counts\u001b[0m\u001b[0;34m(\u001b[0m\u001b[0;34m)\u001b[0m\u001b[0;34m\u001b[0m\u001b[0m\n\u001b[0m",
      "\u001b[0;31mKeyError\u001b[0m: 'selected_idx'"
     ]
    }
   ],
   "source": [
    "test_consensus['selected_idx'].value_counts()"
   ]
  },
  {
   "cell_type": "code",
   "execution_count": 1645,
   "metadata": {
    "collapsed": false,
    "hidden": true
   },
   "outputs": [
    {
     "data": {
      "text/plain": [
       "0       345\n",
       "1       165\n",
       "2       159\n",
       "3       134\n",
       "         35\n",
       "redo      2\n",
       "dtype: int64"
      ]
     },
     "execution_count": 1645,
     "metadata": {},
     "output_type": "execute_result"
    }
   ],
   "source": [
    "pd.Series(combined_pass_2_lookup.values()).value_counts()"
   ]
  },
  {
   "cell_type": "code",
   "execution_count": 1646,
   "metadata": {
    "collapsed": false,
    "hidden": true
   },
   "outputs": [],
   "source": [
    "combined_pass_2_lookup = {}\n",
    "for con_record in record_files:\n",
    "    consensus_df = read_consensus_decisions(con_record, man_pass_dir)\n",
    "    record_lookup = convert_df_to_dict(consensus_df)\n",
    "    combined_pass_2_lookup.update(record_lookup)"
   ]
  },
  {
   "cell_type": "code",
   "execution_count": 1668,
   "metadata": {
    "collapsed": true,
    "hidden": true
   },
   "outputs": [],
   "source": [
    "blacklisted_topics = ['periodic_table', 'em_spectrum', 'hydrocarbons', 'geologic_time'] + ['lewis_dot_idagrams']  # correct this mispelling in future round"
   ]
  },
  {
   "cell_type": "code",
   "execution_count": 1671,
   "metadata": {
    "collapsed": false,
    "hidden": true
   },
   "outputs": [
    {
     "data": {
      "text/plain": [
       "0.9561443581544085"
      ]
     },
     "execution_count": 1671,
     "metadata": {},
     "output_type": "execute_result"
    }
   ],
   "source": [
    "2093 / (len(combined_pass_2_lookup) + 1349)"
   ]
  },
  {
   "cell_type": "code",
   "execution_count": 1669,
   "metadata": {
    "collapsed": false,
    "hidden": true
   },
   "outputs": [
    {
     "data": {
      "text/plain": [
       "0.9664459161147902"
      ]
     },
     "execution_count": 1669,
     "metadata": {},
     "output_type": "execute_result"
    }
   ],
   "source": [
    "(len(combined_pass_2_lookup) + 1349) / 2265"
   ]
  },
  {
   "cell_type": "code",
   "execution_count": 1624,
   "metadata": {
    "collapsed": false,
    "hidden": true
   },
   "outputs": [],
   "source": [
    "def make_boxes_to_recog(diagram_locs, user_diagram_lookup, diagram_selection_lookup, results_df=results_df):\n",
    "    boxes_to_use = {}\n",
    "    for diagram_name, text_locs in diagram_locs.items():\n",
    "        name_to_match = diagram_name.replace('.png', '')\n",
    "        try:\n",
    "            if name_to_match\n",
    "            if diagram_selection_lookup[name_to_match] == '0':\n",
    "                clustered_text_boxes = cluster_diagram_text_centers(text_locs, 3, bracket)\n",
    "                consensus_boxes = pick_consensus(clustered_text_boxes)\n",
    "                boxes_to_use[diagram_name] = consensus_boxes\n",
    "            else:\n",
    "                this_diagrams_users = user_diagram_lookup[diagram_name]\n",
    "    #             print this_diagrams_users\n",
    "    #             print diagram_selection_lookup[name_to_match]\n",
    "                selected_idx = diagram_selection_lookup[name_to_match]\n",
    "                if selected_idx == 'redo':\n",
    "                    continue\n",
    "                else:\n",
    "                    selected_idx = int(selected_idx)\n",
    "                selected_user = this_diagrams_users[selected_idx]\n",
    "                user_boxes = get_boxes_by_user(results_df, diagram_name)\n",
    "    #             print selected_user\n",
    "                selected_boxes = user_boxes[selected_user]\n",
    "                boxes_to_use[diagram_name] = selected_boxes.reshape(len(selected_boxes), 1).tolist()\n",
    "        except KeyError as e:\n",
    "#             print diagram_name\n",
    "            print e\n",
    "    return boxes_to_use"
   ]
  },
  {
   "cell_type": "code",
   "execution_count": 1629,
   "metadata": {
    "collapsed": true,
    "hidden": true
   },
   "outputs": [],
   "source": [
    "combined_lesser_user_lookup = deepcopy(no_turkers_agree_lookup)\n",
    "combined_lesser_user_lookup.update(two_turkers_agree_lookup)"
   ]
  },
  {
   "cell_type": "code",
   "execution_count": 1672,
   "metadata": {
    "collapsed": false,
    "hidden": true
   },
   "outputs": [],
   "source": [
    "# combined_lesser_user_lookup['food_chains_webs_261']"
   ]
  },
  {
   "cell_type": "code",
   "execution_count": 1648,
   "metadata": {
    "collapsed": true,
    "hidden": true
   },
   "outputs": [
    {
     "name": "stdout",
     "output_type": "stream",
     "text": [
      "u'geologic_time_6924'\n",
      "u'hydrocarbons_8090'\n",
      "u'hydrocarbons_8092'\n",
      "u'periodic_table_7396'\n",
      "u'hydrocarbons_8088'\n",
      "u'periodic_table_8161'\n",
      "u'hydrocarbons_9118'\n",
      "u'hydrocarbons_8089'\n",
      "u'periodic_table_7356'\n",
      "u'periodic_table_7386'\n",
      "u'periodic_table_8160'\n",
      "u'periodic_table_8157'\n",
      "u'periodic_table_7385'\n",
      "u'geologic_time_6917'\n",
      "u'em_spectrum_6819'\n",
      "u'hydrocarbons_9119'\n",
      "u'periodic_table_8162'\n",
      "u'em_spectrum_6816'\n",
      "u'geologic_time_6925'\n",
      "u'hydrocarbons_9122'\n",
      "u'dna_6769'\n",
      "u'geologic_time_6919'\n",
      "u'periodic_table_7392'\n",
      "u'geologic_time_6921'\n",
      "u'periodic_table_7393'\n",
      "u'geologic_time_6923'\n",
      "u'hydrocarbons_7051'\n",
      "u'periodic_table_7381'\n",
      "u'hydrocarbons_8095'\n",
      "u'hydrocarbons_8091'\n",
      "u'em_spectrum_9094'\n",
      "u'periodic_table_8159'\n",
      "u'geologic_time_6918'\n",
      "u'periodic_table_7352'\n",
      "u'periodic_table_8158'\n",
      "u'hydrocarbons_7052'\n",
      "u'geologic_time_6914'\n",
      "u'periodic_table_7419'\n",
      "u'hydrocarbons_8094'\n",
      "CPU times: user 8.34 s, sys: 64.5 ms, total: 8.4 s\n",
      "Wall time: 8.39 s\n"
     ]
    }
   ],
   "source": [
    "%%time\n",
    "final_boxes_to_recog = make_boxes_to_recog(diagram_locs_lesser, combined_lesser_user_lookup, combined_pass_2_lookup, results_df)"
   ]
  },
  {
   "cell_type": "code",
   "execution_count": 1666,
   "metadata": {
    "collapsed": false,
    "hidden": true
   },
   "outputs": [],
   "source": [
    "box_dest_dir = '/Users/schwenk/wrk/stb/diagram_questions/turk_processing/final_text_boxes_pass_2/'\n",
    "\n",
    "for diagram_name, boxes in final_boxes_to_recog.items():\n",
    "    with open(box_dest_dir + diagram_name + '.json', 'w') as f:\n",
    "        json.dump([box[0] for box in boxes if box], f)"
   ]
  },
  {
   "cell_type": "code",
   "execution_count": 1653,
   "metadata": {
    "collapsed": true,
    "hidden": true
   },
   "outputs": [
    {
     "data": {
      "text/plain": [
       "9     66\n",
       "13    62\n",
       "12    62\n",
       "10    61\n",
       "11    56\n",
       "8     54\n",
       "14    50\n",
       "16    46\n",
       "7     41\n",
       "15    38\n",
       "6     34\n",
       "18    29\n",
       "17    22\n",
       "5     22\n",
       "20    19\n",
       "4     17\n",
       "21    16\n",
       "19    16\n",
       "26    12\n",
       "23    12\n",
       "24     8\n",
       "27     8\n",
       "3      8\n",
       "22     5\n",
       "28     4\n",
       "30     4\n",
       "33     4\n",
       "25     3\n",
       "29     3\n",
       "1      2\n",
       "31     2\n",
       "32     2\n",
       "38     2\n",
       "64     1\n",
       "34     1\n",
       "35     1\n",
       "36     1\n",
       "40     1\n",
       "41     1\n",
       "42     1\n",
       "44     1\n",
       "46     1\n",
       "57     1\n",
       "61     1\n",
       "62     1\n",
       "66     1\n",
       "dtype: int64"
      ]
     },
     "execution_count": 1653,
     "metadata": {},
     "output_type": "execute_result"
    }
   ],
   "source": [
    "n_box_series = [len(boxes) for boxes in final_boxes_to_recog.values()]\n",
    "pd.Series(n_box_series).value_counts()"
   ]
  },
  {
   "cell_type": "code",
   "execution_count": 1654,
   "metadata": {
    "collapsed": false,
    "hidden": true
   },
   "outputs": [],
   "source": [
    "image_and_n_boxes = {name: len(boxes) for name, boxes in final_boxes_to_recog.items()}\n",
    "with open('box_n_2.pkl', 'w') as f:\n",
    "    pickle.dump(image_and_n_boxes, f)"
   ]
  },
  {
   "cell_type": "code",
   "execution_count": 1655,
   "metadata": {
    "collapsed": true,
    "hidden": true
   },
   "outputs": [
    {
     "data": {
      "image/png": "[encoded data removed]",
      "text/plain": [
       "<matplotlib.figure.Figure at 0x11d1abf50>"
      ]
     },
     "metadata": {},
     "output_type": "display_data"
    }
   ],
   "source": [
    "_ = pd.Series([len(boxes) for boxes in final_boxes_to_recog.values()]).hist(bins = 20)"
   ]
  },
  {
   "cell_type": "code",
   "execution_count": 1286,
   "metadata": {
    "collapsed": false,
    "hidden": true
   },
   "outputs": [
    {
     "data": {
      "text/plain": [
       "{u'30BXRYBRP4YDCUN7L8O6SQRCCLKWH6': array([[[527, 55], [723, 118]], [[997, 87], [1253, 187]],\n",
       "        [[1070, 648], [1447, 752]], [[45, 465], [388, 600]]], dtype=object),\n",
       " u'3907X2AHF06JDVNOQ174DSDEU62P2R': array([[[515, 53], [728, 130]], [[985, 78], [1262, 183]],\n",
       "        [[1063, 645], [1465, 753]], [[42, 458], [405, 600]]], dtype=object),\n",
       " u'3H7Z272LX78PEH9W07P9SOCN06UPLH': array([[[525, 58], [727, 115]], [[45, 458], [392, 600]],\n",
       "        [[1060, 648], [1448, 742]], [[997, 85], [1250, 185]]], dtype=object)}"
      ]
     },
     "execution_count": 1286,
     "metadata": {},
     "output_type": "execute_result"
    }
   ],
   "source": [
    "get_boxes_by_user(results_df, 'acid_rain_formation_6505.png')"
   ]
  },
  {
   "cell_type": "markdown",
   "metadata": {
    "heading_collapsed": true
   },
   "source": [
    "# Merging latest round of HITs into combined dataset "
   ]
  },
  {
   "cell_type": "markdown",
   "metadata": {
    "heading_collapsed": true,
    "hidden": true
   },
   "source": [
    "## Load previously pickled results"
   ]
  },
  {
   "cell_type": "code",
   "execution_count": 383,
   "metadata": {
    "collapsed": false,
    "hidden": true,
    "run_control": {
     "frozen": false,
     "read_only": false
    }
   },
   "outputs": [],
   "source": [
    "batch_number = 7\n",
    "\n",
    "with open('./store_hit_results_metadata/group_' + str(batch_number) + '/hit_info.pkl') as f:\n",
    "    r_hits_previous_batch = pickle.load(f)\n",
    "    \n",
    "with open('./store_hit_results_metadata/group_' + str(batch_number) + '/assignment_info.pkl') as f:\n",
    "    assignment_results_previous_batch = pickle.load(f)\n",
    "    \n",
    "# with open('./store_hit_results_metadata/group_' + str(batch_number) + '/raw_res.pkl') as f:\n",
    "#     raw_hit_results_previous_batch = pickle.load(f)"
   ]
  },
  {
   "cell_type": "code",
   "execution_count": 397,
   "metadata": {
    "collapsed": true,
    "hidden": true,
    "run_control": {
     "frozen": false,
     "read_only": false
    }
   },
   "outputs": [],
   "source": [
    "# combined_results_batch = pd.read_pickle(data_pickled_dir + 'complete_df.pkl')\n",
    "# combined_consensus_batch = pd.read_pickle(data_pickled_dir + 'consensus_df.pkl')"
   ]
  },
  {
   "cell_type": "code",
   "execution_count": 405,
   "metadata": {
    "collapsed": false,
    "hidden": true,
    "run_control": {
     "frozen": false,
     "read_only": false
    }
   },
   "outputs": [],
   "source": [
    "missing_hits = set(assignment_results_previous_batch.keys()).difference(assignment_results_current_batch.keys())\n",
    "missing_hits_assignments = {k: v for k, v in assignment_results_previous_batch.items() if k in missing_hits}"
   ]
  },
  {
   "cell_type": "markdown",
   "metadata": {
    "heading_collapsed": true,
    "hidden": true
   },
   "source": [
    "## Load prior complete dataset if not in memory"
   ]
  },
  {
   "cell_type": "code",
   "execution_count": 2,
   "metadata": {
    "collapsed": true,
    "hidden": true,
    "run_control": {
     "frozen": false,
     "read_only": false
    }
   },
   "outputs": [],
   "source": [
    "data_pickled_dir = './store_hit_results_metadata/group_latest_combined/' "
   ]
  },
  {
   "cell_type": "code",
   "execution_count": 3,
   "metadata": {
    "collapsed": false,
    "hidden": true,
    "run_control": {
     "frozen": false,
     "read_only": false
    }
   },
   "outputs": [],
   "source": [
    "combined_results_df = pd.read_pickle(data_pickled_dir + 'complete_df.pkl')\n",
    "combined_consensus_df = pd.read_pickle(data_pickled_dir + 'consensus_df.pkl')\n",
    "combined_consensus_with_workerid_df = pd.read_pickle(data_pickled_dir + 'consensus_df_w_workers.pkl') "
   ]
  },
  {
   "cell_type": "markdown",
   "metadata": {
    "heading_collapsed": true,
    "hidden": true
   },
   "source": [
    "## Updating full dataset"
   ]
  },
  {
   "cell_type": "code",
   "execution_count": 426,
   "metadata": {
    "collapsed": false,
    "hidden": true,
    "run_control": {
     "frozen": false,
     "read_only": false
    }
   },
   "outputs": [],
   "source": [
    "combined_results_df = combined_results_df.append(results_df_previous_batch)\n",
    "combined_consensus_df = combined_consensus_df.append(consensus_prev)\n",
    "combined_consensus_with_workerid_df = combined_consensus_with_workerid_df.append(consensus_prevww)"
   ]
  },
  {
   "cell_type": "code",
   "execution_count": 4,
   "metadata": {
    "collapsed": true,
    "hidden": true,
    "run_control": {
     "frozen": false,
     "read_only": false
    }
   },
   "outputs": [],
   "source": [
    "%%capture\n",
    "no_consensus_hits = combined_consensus_df[combined_consensus_df['category'] == 'No Consensus']"
   ]
  },
  {
   "cell_type": "markdown",
   "metadata": {
    "heading_collapsed": true,
    "hidden": true
   },
   "source": [
    "## Working with full dataset"
   ]
  },
  {
   "cell_type": "markdown",
   "metadata": {
    "heading_collapsed": true,
    "hidden": true
   },
   "source": [
    "### worker specific"
   ]
  },
  {
   "cell_type": "code",
   "execution_count": 961,
   "metadata": {
    "collapsed": true,
    "hidden": true,
    "run_control": {
     "frozen": false,
     "read_only": false
    }
   },
   "outputs": [],
   "source": [
    "flaw_rate = len(no_consensus_hits) / len(combined_consensus_df)\n",
    "print 'text boxes without consensus are ' + '{0:0.2f}% '.format(flaw_rate * 100) + 'of the total'  "
   ]
  },
  {
   "cell_type": "code",
   "execution_count": 255,
   "metadata": {
    "collapsed": false,
    "hidden": true,
    "run_control": {
     "frozen": false,
     "read_only": false
    }
   },
   "outputs": [],
   "source": [
    "workers_to_qualify = worker_quality_df[worker_quality_df['submitted'] > 100].sort_values('flaw_ratio', ascending= True).head(25).index.tolist()"
   ]
  },
  {
   "cell_type": "code",
   "execution_count": null,
   "metadata": {
    "collapsed": true,
    "hidden": true,
    "run_control": {
     "frozen": false,
     "read_only": false
    }
   },
   "outputs": [],
   "source": [
    "workers_to_qualify"
   ]
  },
  {
   "cell_type": "code",
   "execution_count": 242,
   "metadata": {
    "collapsed": false,
    "hidden": true,
    "run_control": {
     "frozen": false,
     "read_only": false
    }
   },
   "outputs": [
    {
     "data": {
      "text/html": [
       "<div>\n",
       "<table border=\"1\" class=\"dataframe\">\n",
       "  <thead>\n",
       "    <tr style=\"text-align: right;\">\n",
       "      <th></th>\n",
       "      <th>submitted</th>\n",
       "      <th>incorrect</th>\n",
       "      <th>flaw_ratio</th>\n",
       "    </tr>\n",
       "  </thead>\n",
       "  <tbody>\n",
       "    <tr>\n",
       "      <th>A2KM2RWXQV47CV</th>\n",
       "      <td>2900.0</td>\n",
       "      <td>2093.0</td>\n",
       "      <td>0.721724</td>\n",
       "    </tr>\n",
       "    <tr>\n",
       "      <th>A16EEWCUQK9LM2</th>\n",
       "      <td>1069.0</td>\n",
       "      <td>446.0</td>\n",
       "      <td>0.417212</td>\n",
       "    </tr>\n",
       "    <tr>\n",
       "      <th>A1QZHZZMO2TE51</th>\n",
       "      <td>582.0</td>\n",
       "      <td>215.0</td>\n",
       "      <td>0.369416</td>\n",
       "    </tr>\n",
       "    <tr>\n",
       "      <th>A2XJH3WC02RMXQ</th>\n",
       "      <td>134.0</td>\n",
       "      <td>87.0</td>\n",
       "      <td>0.649254</td>\n",
       "    </tr>\n",
       "    <tr>\n",
       "      <th>AQE7EQDM98KB7</th>\n",
       "      <td>154.0</td>\n",
       "      <td>47.0</td>\n",
       "      <td>0.305195</td>\n",
       "    </tr>\n",
       "    <tr>\n",
       "      <th>A18DRAESIN3E94</th>\n",
       "      <td>112.0</td>\n",
       "      <td>43.0</td>\n",
       "      <td>0.383929</td>\n",
       "    </tr>\n",
       "    <tr>\n",
       "      <th>A8TDOYC7FWWKR</th>\n",
       "      <td>67.0</td>\n",
       "      <td>36.0</td>\n",
       "      <td>0.537313</td>\n",
       "    </tr>\n",
       "    <tr>\n",
       "      <th>A9Y1HKUEOOEPM</th>\n",
       "      <td>49.0</td>\n",
       "      <td>35.0</td>\n",
       "      <td>0.714286</td>\n",
       "    </tr>\n",
       "    <tr>\n",
       "      <th>A1EGJ4WHHIU61V</th>\n",
       "      <td>45.0</td>\n",
       "      <td>24.0</td>\n",
       "      <td>0.533333</td>\n",
       "    </tr>\n",
       "    <tr>\n",
       "      <th>A1ESKJFDQUMBL4</th>\n",
       "      <td>68.0</td>\n",
       "      <td>23.0</td>\n",
       "      <td>0.338235</td>\n",
       "    </tr>\n",
       "    <tr>\n",
       "      <th>A24DYXCGZQUZUQ</th>\n",
       "      <td>31.0</td>\n",
       "      <td>23.0</td>\n",
       "      <td>0.741935</td>\n",
       "    </tr>\n",
       "    <tr>\n",
       "      <th>AGKUZPBBPK7X9</th>\n",
       "      <td>51.0</td>\n",
       "      <td>21.0</td>\n",
       "      <td>0.411765</td>\n",
       "    </tr>\n",
       "    <tr>\n",
       "      <th>A2V4PRG5UBNIX0</th>\n",
       "      <td>27.0</td>\n",
       "      <td>20.0</td>\n",
       "      <td>0.740741</td>\n",
       "    </tr>\n",
       "    <tr>\n",
       "      <th>A3VE5OH94HYHET</th>\n",
       "      <td>30.0</td>\n",
       "      <td>16.0</td>\n",
       "      <td>0.533333</td>\n",
       "    </tr>\n",
       "    <tr>\n",
       "      <th>AZE084MMZVEYT</th>\n",
       "      <td>26.0</td>\n",
       "      <td>15.0</td>\n",
       "      <td>0.576923</td>\n",
       "    </tr>\n",
       "  </tbody>\n",
       "</table>\n",
       "</div>"
      ],
      "text/plain": [
       "                submitted  incorrect  flaw_ratio\n",
       "A2KM2RWXQV47CV     2900.0     2093.0    0.721724\n",
       "A16EEWCUQK9LM2     1069.0      446.0    0.417212\n",
       "A1QZHZZMO2TE51      582.0      215.0    0.369416\n",
       "A2XJH3WC02RMXQ      134.0       87.0    0.649254\n",
       "AQE7EQDM98KB7       154.0       47.0    0.305195\n",
       "A18DRAESIN3E94      112.0       43.0    0.383929\n",
       "A8TDOYC7FWWKR        67.0       36.0    0.537313\n",
       "A9Y1HKUEOOEPM        49.0       35.0    0.714286\n",
       "A1EGJ4WHHIU61V       45.0       24.0    0.533333\n",
       "A1ESKJFDQUMBL4       68.0       23.0    0.338235\n",
       "A24DYXCGZQUZUQ       31.0       23.0    0.741935\n",
       "AGKUZPBBPK7X9        51.0       21.0    0.411765\n",
       "A2V4PRG5UBNIX0       27.0       20.0    0.740741\n",
       "A3VE5OH94HYHET       30.0       16.0    0.533333\n",
       "AZE084MMZVEYT        26.0       15.0    0.576923"
      ]
     },
     "execution_count": 242,
     "metadata": {},
     "output_type": "execute_result"
    }
   ],
   "source": [
    "bad_and_prolific_workers[:15]"
   ]
  },
  {
   "cell_type": "markdown",
   "metadata": {
    "hidden": true
   },
   "source": [
    "workers who contacted me"
   ]
  },
  {
   "cell_type": "code",
   "execution_count": 256,
   "metadata": {
    "collapsed": true,
    "hidden": true,
    "run_control": {
     "frozen": false,
     "read_only": false
    }
   },
   "outputs": [],
   "source": [
    "wrote_me = ['A3T8FDBJQV81FN',\n",
    "'A3UUH3632AI3ZX',\n",
    "'A2QVMCGDLTWV9',\n",
    "'A356GXVAYWN0DV',\n",
    "'A2V4PRG5UBNIX0',\n",
    "'A333VJ2K6O6R79']"
   ]
  },
  {
   "cell_type": "code",
   "execution_count": 258,
   "metadata": {
    "collapsed": false,
    "hidden": true,
    "run_control": {
     "frozen": false,
     "read_only": false
    }
   },
   "outputs": [
    {
     "data": {
      "text/plain": [
       "{'A2V4PRG5UBNIX0'}"
      ]
     },
     "execution_count": 258,
     "metadata": {},
     "output_type": "execute_result"
    }
   ],
   "source": [
    "workers_to_ban = bad_and_prolific_workers[:5].index.tolist()\n",
    "set(bad_and_prolific_workers.index).intersection(set(wrote_me))"
   ]
  },
  {
   "cell_type": "code",
   "execution_count": 275,
   "metadata": {
    "collapsed": false,
    "hidden": true,
    "run_control": {
     "frozen": false,
     "read_only": false
    }
   },
   "outputs": [
    {
     "data": {
      "text/plain": [
       "[u'A2KM2RWXQV47CV',\n",
       " u'A16EEWCUQK9LM2',\n",
       " u'A1QZHZZMO2TE51',\n",
       " u'A2XJH3WC02RMXQ',\n",
       " u'AQE7EQDM98KB7']"
      ]
     },
     "execution_count": 275,
     "metadata": {},
     "output_type": "execute_result"
    }
   ],
   "source": [
    "workers_to_ban"
   ]
  },
  {
   "cell_type": "code",
   "execution_count": 260,
   "metadata": {
    "collapsed": false,
    "hidden": true,
    "run_control": {
     "frozen": false,
     "read_only": false
    }
   },
   "outputs": [
    {
     "data": {
      "text/html": [
       "<div>\n",
       "<table border=\"1\" class=\"dataframe\">\n",
       "  <thead>\n",
       "    <tr style=\"text-align: right;\">\n",
       "      <th></th>\n",
       "      <th>assignment_id</th>\n",
       "      <th>box_id</th>\n",
       "      <th>category</th>\n",
       "      <th>consensus_category</th>\n",
       "      <th>hit_id</th>\n",
       "      <th>page</th>\n",
       "      <th>worker_id</th>\n",
       "    </tr>\n",
       "  </thead>\n",
       "  <tbody>\n",
       "    <tr>\n",
       "      <th>8126</th>\n",
       "      <td>32AT8R96GLAPAZCI12L4EGDHN25US0</td>\n",
       "      <td>T1</td>\n",
       "      <td>unlabeled</td>\n",
       "      <td>unlabeled</td>\n",
       "      <td>302OLP89DZ8M1PBU899CBQ2L0VSAC8</td>\n",
       "      <td>Daily_Science_Grade_4_Evan_Moor_55.jpeg</td>\n",
       "      <td>A333VJ2K6O6R79</td>\n",
       "    </tr>\n",
       "    <tr>\n",
       "      <th>8144</th>\n",
       "      <td>3WJ1OXY92AHNC6JBHZY8XO1M45D8A9</td>\n",
       "      <td>T1</td>\n",
       "      <td>unlabeled</td>\n",
       "      <td>unlabeled</td>\n",
       "      <td>302OLP89DZ8M1PBU899CBQ2L0VSAC8</td>\n",
       "      <td>Daily_Science_Grade_4_Evan_Moor_55.jpeg</td>\n",
       "      <td>A36PFUM96J0ES6</td>\n",
       "    </tr>\n",
       "    <tr>\n",
       "      <th>8162</th>\n",
       "      <td>3N2BF7Y2VQVH7ITTH6IJJSPL15VMHP</td>\n",
       "      <td>T1</td>\n",
       "      <td>unlabeled</td>\n",
       "      <td>unlabeled</td>\n",
       "      <td>302OLP89DZ8M1PBU899CBQ2L0VSAC8</td>\n",
       "      <td>Daily_Science_Grade_4_Evan_Moor_55.jpeg</td>\n",
       "      <td>A2RSOGTSR83XKO</td>\n",
       "    </tr>\n",
       "    <tr>\n",
       "      <th>8131</th>\n",
       "      <td>32AT8R96GLAPAZCI12L4EGDHN25US0</td>\n",
       "      <td>T10</td>\n",
       "      <td>Discussion</td>\n",
       "      <td>Discussion</td>\n",
       "      <td>302OLP89DZ8M1PBU899CBQ2L0VSAC8</td>\n",
       "      <td>Daily_Science_Grade_4_Evan_Moor_55.jpeg</td>\n",
       "      <td>A333VJ2K6O6R79</td>\n",
       "    </tr>\n",
       "    <tr>\n",
       "      <th>8149</th>\n",
       "      <td>3WJ1OXY92AHNC6JBHZY8XO1M45D8A9</td>\n",
       "      <td>T10</td>\n",
       "      <td>Discussion</td>\n",
       "      <td>Discussion</td>\n",
       "      <td>302OLP89DZ8M1PBU899CBQ2L0VSAC8</td>\n",
       "      <td>Daily_Science_Grade_4_Evan_Moor_55.jpeg</td>\n",
       "      <td>A36PFUM96J0ES6</td>\n",
       "    </tr>\n",
       "  </tbody>\n",
       "</table>\n",
       "</div>"
      ],
      "text/plain": [
       "                       assignment_id box_id    category consensus_category  \\\n",
       "8126  32AT8R96GLAPAZCI12L4EGDHN25US0     T1   unlabeled          unlabeled   \n",
       "8144  3WJ1OXY92AHNC6JBHZY8XO1M45D8A9     T1   unlabeled          unlabeled   \n",
       "8162  3N2BF7Y2VQVH7ITTH6IJJSPL15VMHP     T1   unlabeled          unlabeled   \n",
       "8131  32AT8R96GLAPAZCI12L4EGDHN25US0    T10  Discussion         Discussion   \n",
       "8149  3WJ1OXY92AHNC6JBHZY8XO1M45D8A9    T10  Discussion         Discussion   \n",
       "\n",
       "                              hit_id                                     page  \\\n",
       "8126  302OLP89DZ8M1PBU899CBQ2L0VSAC8  Daily_Science_Grade_4_Evan_Moor_55.jpeg   \n",
       "8144  302OLP89DZ8M1PBU899CBQ2L0VSAC8  Daily_Science_Grade_4_Evan_Moor_55.jpeg   \n",
       "8162  302OLP89DZ8M1PBU899CBQ2L0VSAC8  Daily_Science_Grade_4_Evan_Moor_55.jpeg   \n",
       "8131  302OLP89DZ8M1PBU899CBQ2L0VSAC8  Daily_Science_Grade_4_Evan_Moor_55.jpeg   \n",
       "8149  302OLP89DZ8M1PBU899CBQ2L0VSAC8  Daily_Science_Grade_4_Evan_Moor_55.jpeg   \n",
       "\n",
       "           worker_id  \n",
       "8126  A333VJ2K6O6R79  \n",
       "8144  A36PFUM96J0ES6  \n",
       "8162  A2RSOGTSR83XKO  \n",
       "8131  A333VJ2K6O6R79  \n",
       "8149  A36PFUM96J0ES6  "
      ]
     },
     "execution_count": 260,
     "metadata": {},
     "output_type": "execute_result"
    }
   ],
   "source": [
    "combined_consensus_with_workerid_df.head()"
   ]
  },
  {
   "cell_type": "markdown",
   "metadata": {
    "hidden": true
   },
   "source": [
    "After looking through the top few offenders, it's clear that \n",
    "\n",
    "1. the very worst intentionally submitted many blank pages\n",
    "\n",
    "2. the rest didn't read the directions very closely\n",
    "\n",
    "3. I'm comfortable rejecting the work of those with > 100 submissions\n",
    "\n",
    "4. I'll ban the worst 15 from future HITs\n"
   ]
  },
  {
   "cell_type": "markdown",
   "metadata": {
    "hidden": true
   },
   "source": [
    "### Reviewing full dataset"
   ]
  },
  {
   "cell_type": "code",
   "execution_count": 94,
   "metadata": {
    "collapsed": true,
    "hidden": true,
    "run_control": {
     "frozen": false,
     "read_only": false
    }
   },
   "outputs": [],
   "source": [
    "amt_util.write_results_df(combined_consensus_df, local_result_path)"
   ]
  },
  {
   "cell_type": "code",
   "execution_count": 4,
   "metadata": {
    "collapsed": true,
    "hidden": true,
    "run_control": {
     "frozen": false,
     "read_only": false
    }
   },
   "outputs": [],
   "source": [
    "# all pages from the complete\n",
    "pages_to_review =pd.unique(combined_consensus_df['page'])"
   ]
  },
  {
   "cell_type": "code",
   "execution_count": 5,
   "metadata": {
    "collapsed": false,
    "hidden": true,
    "run_control": {
     "frozen": false,
     "read_only": false
    }
   },
   "outputs": [
    {
     "data": {
      "text/plain": [
       "(16986, 4)"
      ]
     },
     "execution_count": 5,
     "metadata": {},
     "output_type": "execute_result"
    }
   ],
   "source": [
    "combined_consensus_df[combined_consensus_df['category'] == 'Question'].shape"
   ]
  },
  {
   "cell_type": "code",
   "execution_count": 6,
   "metadata": {
    "collapsed": false,
    "hidden": true,
    "run_control": {
     "frozen": false,
     "read_only": false
    }
   },
   "outputs": [],
   "source": [
    "pages_to_review =pd.unique(combined_consensus_df[combined_consensus_df['category'] == 'Question']['page'])"
   ]
  },
  {
   "cell_type": "code",
   "execution_count": 7,
   "metadata": {
    "collapsed": true,
    "hidden": true,
    "run_control": {
     "frozen": false,
     "read_only": false
    }
   },
   "outputs": [],
   "source": [
    "# all pages from the complete dataset with a no-consensus box\n",
    "# pages_to_review =pd.unique(no_consensus_hits['page'])"
   ]
  },
  {
   "cell_type": "code",
   "execution_count": 8,
   "metadata": {
    "collapsed": false,
    "hidden": true,
    "run_control": {
     "frozen": false,
     "read_only": false
    }
   },
   "outputs": [
    {
     "name": "stdout",
     "output_type": "stream",
     "text": [
      "sampling 401 pages out of 1337\n"
     ]
    }
   ],
   "source": [
    "sampling_rate = 0.30\n",
    "sample_size = int(len(pages_to_review) * sampling_rate)\n",
    "sampled_pages_to_review = list(np.random.choice(pages_to_review, size= sample_size, replace=False))\n",
    "print 'sampling ' + str(sample_size) + ' pages out of ' + str(len(pages_to_review))\n",
    "to_review = ['start_seq'] + sampled_pages_to_review"
   ]
  },
  {
   "cell_type": "code",
   "execution_count": 39,
   "metadata": {
    "collapsed": false,
    "hidden": true,
    "run_control": {
     "frozen": false,
     "read_only": false
    }
   },
   "outputs": [
    {
     "name": "stdout",
     "output_type": "stream",
     "text": [
      "posting to review tool, navigate to http://localhost:8080/ to see the sampled consensus results\n"
     ]
    }
   ],
   "source": [
    "overmerged_dir = 'labeled-annotations/'\n",
    "unmerged_dir = 'annotations_ws/'\n",
    "lessmerged_dir = 'lessmerged-annotations/'\n",
    "remerged_annotations  = 'test-remerged-annotations/'\n",
    "anno_dir = lessmerged_dir\n",
    "amt_util.review_results(to_review, anno_dir)\n",
    "print 'posting to review tool, navigate to http://localhost:8080/ to see the sampled consensus results'"
   ]
  },
  {
   "cell_type": "code",
   "execution_count": null,
   "metadata": {
    "collapsed": true,
    "hidden": true,
    "run_control": {
     "frozen": false,
     "read_only": false
    }
   },
   "outputs": [],
   "source": [
    "# %%capture \n",
    "# # all pages from the latest batch with a no-consensus box\n",
    "\n",
    "# # suspect_subset = combined_results_df[combined_results_df['worker_id'].isin(bad_and_prolific_to_review[10:15])]\n",
    "# suspect_subset = combined_results_df[combined_results_df['worker_id'].isin(['A3VE5OH94HYHET'])]\n",
    "# amt_util.write_results_df(suspect_subset)\n",
    "# pages_to_review = pd.unique(suspect_subset['page'])"
   ]
  },
  {
   "cell_type": "markdown",
   "metadata": {
    "hidden": true
   },
   "source": [
    "### Sanitizing results- questions marked as answers"
   ]
  },
  {
   "cell_type": "code",
   "execution_count": 67,
   "metadata": {
    "collapsed": true,
    "hidden": true,
    "run_control": {
     "frozen": false,
     "read_only": false
    }
   },
   "outputs": [],
   "source": [
    "question_only_df = combined_consensus_df[combined_consensus_df['category'] == 'Question']"
   ]
  },
  {
   "cell_type": "code",
   "execution_count": 68,
   "metadata": {
    "collapsed": false,
    "hidden": true,
    "run_control": {
     "frozen": false,
     "read_only": false
    }
   },
   "outputs": [
    {
     "data": {
      "text/plain": [
       "1337"
      ]
     },
     "execution_count": 68,
     "metadata": {},
     "output_type": "execute_result"
    }
   ],
   "source": [
    "pages_w_questions = pd.unique(question_only_df['page'])\n",
    "len(pages_w_questions)"
   ]
  },
  {
   "cell_type": "code",
   "execution_count": 69,
   "metadata": {
    "collapsed": false,
    "hidden": true,
    "run_control": {
     "frozen": false,
     "read_only": false
    }
   },
   "outputs": [],
   "source": [
    "combined_df_question_pages_only = combined_consensus_df[combined_consensus_df['page'].isin(pages_w_questions)]"
   ]
  },
  {
   "cell_type": "code",
   "execution_count": 111,
   "metadata": {
    "collapsed": false,
    "hidden": true,
    "run_control": {
     "frozen": false,
     "read_only": false
    }
   },
   "outputs": [],
   "source": [
    "combined_df_question_pages_only.to_pickle('pages_w_questions.pkl')"
   ]
  },
  {
   "cell_type": "code",
   "execution_count": 70,
   "metadata": {
    "collapsed": false,
    "hidden": true,
    "run_control": {
     "frozen": false,
     "read_only": false
    }
   },
   "outputs": [],
   "source": [
    "question_pages_w_answers = pd.unique(combined_df_question_pages_only[combined_df_question_pages_only['category'] == 'Answer']['page'])"
   ]
  },
  {
   "cell_type": "code",
   "execution_count": 71,
   "metadata": {
    "collapsed": false,
    "hidden": true,
    "run_control": {
     "frozen": false,
     "read_only": false
    }
   },
   "outputs": [
    {
     "data": {
      "text/plain": [
       "(49,)"
      ]
     },
     "execution_count": 71,
     "metadata": {},
     "output_type": "execute_result"
    }
   ],
   "source": [
    "question_pages_w_answers.shape"
   ]
  },
  {
   "cell_type": "code",
   "execution_count": 72,
   "metadata": {
    "collapsed": false,
    "hidden": true,
    "run_control": {
     "frozen": false,
     "read_only": false
    }
   },
   "outputs": [],
   "source": [
    "incorrectly_marked_answers_df = combined_consensus_df[combined_consensus_df['page'].isin(question_pages_w_answers)]"
   ]
  },
  {
   "cell_type": "code",
   "execution_count": 73,
   "metadata": {
    "collapsed": false,
    "hidden": true,
    "run_control": {
     "frozen": false,
     "read_only": false
    }
   },
   "outputs": [
    {
     "data": {
      "text/plain": [
       "(49,)"
      ]
     },
     "execution_count": 73,
     "metadata": {},
     "output_type": "execute_result"
    }
   ],
   "source": [
    "pd.unique(incorrectly_marked_answers_df['page']).shape"
   ]
  },
  {
   "cell_type": "code",
   "execution_count": 83,
   "metadata": {
    "collapsed": true,
    "hidden": true,
    "run_control": {
     "frozen": false,
     "read_only": false
    }
   },
   "outputs": [],
   "source": [
    "to_correct_aq_df = combined_consensus_df[combined_consensus_df['page'].isin(incorrectly_marked_answers_df['page'])]"
   ]
  },
  {
   "cell_type": "code",
   "execution_count": 88,
   "metadata": {
    "collapsed": false,
    "hidden": true,
    "run_control": {
     "frozen": false,
     "read_only": false
    }
   },
   "outputs": [],
   "source": [
    "corrected_aq_df = to_correct_aq_df.replace('Answer', 'Question')"
   ]
  },
  {
   "cell_type": "code",
   "execution_count": 105,
   "metadata": {
    "collapsed": false,
    "hidden": true,
    "run_control": {
     "frozen": false,
     "read_only": false
    }
   },
   "outputs": [],
   "source": [
    "local_result_path='./ai2-vision-turk-data/textbook-annotation-test/corrected_raw_hit_results/'\n",
    "# local_result_path='./ai2-vision-turk-data/textbook-annotation-test/corrected_unmerged/'\n",
    "\n",
    "amt_util.write_results_df(corrected_aq_df, local_result_path)"
   ]
  },
  {
   "cell_type": "code",
   "execution_count": 106,
   "metadata": {
    "collapsed": false,
    "hidden": true,
    "run_control": {
     "frozen": false,
     "read_only": false
    }
   },
   "outputs": [
    {
     "name": "stdout",
     "output_type": "stream",
     "text": [
      "sampling 49 pages out of 49\n"
     ]
    }
   ],
   "source": [
    "pages_to_review = pd.unique(corrected_aq_df['page'])\n",
    "sampling_rate = 1\n",
    "sample_size = int(len(pages_to_review) * sampling_rate)\n",
    "sampled_pages_to_review = list(np.random.choice(pages_to_review, size= sample_size, replace=False))\n",
    "print 'sampling ' + str(sample_size) + ' pages out of ' + str(len(pages_to_review))\n",
    "to_review = ['start_seq'] + sampled_pages_to_review"
   ]
  },
  {
   "cell_type": "code",
   "execution_count": 109,
   "metadata": {
    "collapsed": false,
    "hidden": true,
    "run_control": {
     "frozen": false,
     "read_only": false
    }
   },
   "outputs": [
    {
     "name": "stdout",
     "output_type": "stream",
     "text": [
      "posting to review tool, navigate to http://localhost:8080/ to see the sampled consensus results\n"
     ]
    }
   ],
   "source": [
    "# anno_dir = 'corrected_unmerged/'\n",
    "anno_dir = 'test-remerged-annotations/'\n",
    "\n",
    "amt_util.review_results(to_review, anno_dir)\n",
    "print 'posting to review tool, navigate to http://localhost:8080/ to see the sampled consensus results'"
   ]
  },
  {
   "cell_type": "markdown",
   "metadata": {},
   "source": [
    "# Worker analysis"
   ]
  },
  {
   "cell_type": "markdown",
   "metadata": {},
   "source": [
    "## Basic worker stats"
   ]
  },
  {
   "cell_type": "code",
   "execution_count": 1726,
   "metadata": {
    "collapsed": true
   },
   "outputs": [
    {
     "data": {
      "text/html": [
       "<div>\n",
       "<table border=\"1\" class=\"dataframe\">\n",
       "  <thead>\n",
       "    <tr style=\"text-align: right;\">\n",
       "      <th></th>\n",
       "      <th>diagram</th>\n",
       "      <th>rectangle</th>\n",
       "      <th>hit_id</th>\n",
       "      <th>assignment_id</th>\n",
       "      <th>worker_id</th>\n",
       "    </tr>\n",
       "  </thead>\n",
       "  <tbody>\n",
       "    <tr>\n",
       "      <th>0</th>\n",
       "      <td>parts_cell_1182.png</td>\n",
       "      <td>[[283, 192], [447, 238]]</td>\n",
       "      <td>3SA4EMRVJV39U1MGLCYP6KPFULH0PX</td>\n",
       "      <td>3BDCF01OGXVJNV1XRULS5F5Z4B6LYG</td>\n",
       "      <td>A1017VP86SLXRB</td>\n",
       "    </tr>\n",
       "    <tr>\n",
       "      <th>1</th>\n",
       "      <td>parts_cell_1182.png</td>\n",
       "      <td>[[115, 245], [273, 285]]</td>\n",
       "      <td>3SA4EMRVJV39U1MGLCYP6KPFULH0PX</td>\n",
       "      <td>3BDCF01OGXVJNV1XRULS5F5Z4B6LYG</td>\n",
       "      <td>A1017VP86SLXRB</td>\n",
       "    </tr>\n",
       "    <tr>\n",
       "      <th>2</th>\n",
       "      <td>parts_cell_1182.png</td>\n",
       "      <td>[[703, 122], [840, 162]]</td>\n",
       "      <td>3SA4EMRVJV39U1MGLCYP6KPFULH0PX</td>\n",
       "      <td>3BDCF01OGXVJNV1XRULS5F5Z4B6LYG</td>\n",
       "      <td>A1017VP86SLXRB</td>\n",
       "    </tr>\n",
       "    <tr>\n",
       "      <th>3</th>\n",
       "      <td>parts_cell_1182.png</td>\n",
       "      <td>[[958, 88], [1068, 133]]</td>\n",
       "      <td>3SA4EMRVJV39U1MGLCYP6KPFULH0PX</td>\n",
       "      <td>3BDCF01OGXVJNV1XRULS5F5Z4B6LYG</td>\n",
       "      <td>A1017VP86SLXRB</td>\n",
       "    </tr>\n",
       "    <tr>\n",
       "      <th>4</th>\n",
       "      <td>parts_cell_1182.png</td>\n",
       "      <td>[[1165, 98], [1302, 142]]</td>\n",
       "      <td>3SA4EMRVJV39U1MGLCYP6KPFULH0PX</td>\n",
       "      <td>3BDCF01OGXVJNV1XRULS5F5Z4B6LYG</td>\n",
       "      <td>A1017VP86SLXRB</td>\n",
       "    </tr>\n",
       "    <tr>\n",
       "      <th>5</th>\n",
       "      <td>parts_cell_1182.png</td>\n",
       "      <td>[[1243, 175], [1418, 288]]</td>\n",
       "      <td>3SA4EMRVJV39U1MGLCYP6KPFULH0PX</td>\n",
       "      <td>3BDCF01OGXVJNV1XRULS5F5Z4B6LYG</td>\n",
       "      <td>A1017VP86SLXRB</td>\n",
       "    </tr>\n",
       "    <tr>\n",
       "      <th>6</th>\n",
       "      <td>parts_cell_1182.png</td>\n",
       "      <td>[[1192, 822], [1423, 865]]</td>\n",
       "      <td>3SA4EMRVJV39U1MGLCYP6KPFULH0PX</td>\n",
       "      <td>3BDCF01OGXVJNV1XRULS5F5Z4B6LYG</td>\n",
       "      <td>A1017VP86SLXRB</td>\n",
       "    </tr>\n",
       "    <tr>\n",
       "      <th>7</th>\n",
       "      <td>parts_cell_1182.png</td>\n",
       "      <td>[[987, 945], [1397, 1003]]</td>\n",
       "      <td>3SA4EMRVJV39U1MGLCYP6KPFULH0PX</td>\n",
       "      <td>3BDCF01OGXVJNV1XRULS5F5Z4B6LYG</td>\n",
       "      <td>A1017VP86SLXRB</td>\n",
       "    </tr>\n",
       "    <tr>\n",
       "      <th>8</th>\n",
       "      <td>parts_cell_1182.png</td>\n",
       "      <td>[[710, 1025], [862, 1068]]</td>\n",
       "      <td>3SA4EMRVJV39U1MGLCYP6KPFULH0PX</td>\n",
       "      <td>3BDCF01OGXVJNV1XRULS5F5Z4B6LYG</td>\n",
       "      <td>A1017VP86SLXRB</td>\n",
       "    </tr>\n",
       "    <tr>\n",
       "      <th>9</th>\n",
       "      <td>parts_cell_1182.png</td>\n",
       "      <td>[[497, 1038], [642, 1073]]</td>\n",
       "      <td>3SA4EMRVJV39U1MGLCYP6KPFULH0PX</td>\n",
       "      <td>3BDCF01OGXVJNV1XRULS5F5Z4B6LYG</td>\n",
       "      <td>A1017VP86SLXRB</td>\n",
       "    </tr>\n",
       "    <tr>\n",
       "      <th>10</th>\n",
       "      <td>parts_cell_1182.png</td>\n",
       "      <td>[[195, 1032], [455, 1083]]</td>\n",
       "      <td>3SA4EMRVJV39U1MGLCYP6KPFULH0PX</td>\n",
       "      <td>3BDCF01OGXVJNV1XRULS5F5Z4B6LYG</td>\n",
       "      <td>A1017VP86SLXRB</td>\n",
       "    </tr>\n",
       "    <tr>\n",
       "      <th>11</th>\n",
       "      <td>parts_cell_1182.png</td>\n",
       "      <td>[[138, 975], [323, 1015]]</td>\n",
       "      <td>3SA4EMRVJV39U1MGLCYP6KPFULH0PX</td>\n",
       "      <td>3BDCF01OGXVJNV1XRULS5F5Z4B6LYG</td>\n",
       "      <td>A1017VP86SLXRB</td>\n",
       "    </tr>\n",
       "    <tr>\n",
       "      <th>12</th>\n",
       "      <td>parts_cell_1182.png</td>\n",
       "      <td>[[72, 912], [247, 948]]</td>\n",
       "      <td>3SA4EMRVJV39U1MGLCYP6KPFULH0PX</td>\n",
       "      <td>3BDCF01OGXVJNV1XRULS5F5Z4B6LYG</td>\n",
       "      <td>A1017VP86SLXRB</td>\n",
       "    </tr>\n",
       "    <tr>\n",
       "      <th>13</th>\n",
       "      <td>parts_cell_1182.png</td>\n",
       "      <td>[[988, 1038], [1440, 1103]]</td>\n",
       "      <td>3SA4EMRVJV39U1MGLCYP6KPFULH0PX</td>\n",
       "      <td>3BDCF01OGXVJNV1XRULS5F5Z4B6LYG</td>\n",
       "      <td>A1017VP86SLXRB</td>\n",
       "    </tr>\n",
       "    <tr>\n",
       "      <th>14</th>\n",
       "      <td>parts_cell_1182.png</td>\n",
       "      <td>[[80, 70], [493, 147]]</td>\n",
       "      <td>3SA4EMRVJV39U1MGLCYP6KPFULH0PX</td>\n",
       "      <td>3I2PTA7R3TVZUNSTFKSXDTPIG2RKQG</td>\n",
       "      <td>A3MVLTRGO37TJD</td>\n",
       "    </tr>\n",
       "    <tr>\n",
       "      <th>15</th>\n",
       "      <td>parts_cell_1182.png</td>\n",
       "      <td>[[285, 197], [440, 232]]</td>\n",
       "      <td>3SA4EMRVJV39U1MGLCYP6KPFULH0PX</td>\n",
       "      <td>3I2PTA7R3TVZUNSTFKSXDTPIG2RKQG</td>\n",
       "      <td>A3MVLTRGO37TJD</td>\n",
       "    </tr>\n",
       "    <tr>\n",
       "      <th>16</th>\n",
       "      <td>parts_cell_1182.png</td>\n",
       "      <td>[[120, 253], [267, 285]]</td>\n",
       "      <td>3SA4EMRVJV39U1MGLCYP6KPFULH0PX</td>\n",
       "      <td>3I2PTA7R3TVZUNSTFKSXDTPIG2RKQG</td>\n",
       "      <td>A3MVLTRGO37TJD</td>\n",
       "    </tr>\n",
       "    <tr>\n",
       "      <th>17</th>\n",
       "      <td>parts_cell_1182.png</td>\n",
       "      <td>[[705, 127], [843, 162]]</td>\n",
       "      <td>3SA4EMRVJV39U1MGLCYP6KPFULH0PX</td>\n",
       "      <td>3I2PTA7R3TVZUNSTFKSXDTPIG2RKQG</td>\n",
       "      <td>A3MVLTRGO37TJD</td>\n",
       "    </tr>\n",
       "    <tr>\n",
       "      <th>18</th>\n",
       "      <td>parts_cell_1182.png</td>\n",
       "      <td>[[953, 90], [1077, 132]]</td>\n",
       "      <td>3SA4EMRVJV39U1MGLCYP6KPFULH0PX</td>\n",
       "      <td>3I2PTA7R3TVZUNSTFKSXDTPIG2RKQG</td>\n",
       "      <td>A3MVLTRGO37TJD</td>\n",
       "    </tr>\n",
       "    <tr>\n",
       "      <th>19</th>\n",
       "      <td>parts_cell_1182.png</td>\n",
       "      <td>[[1165, 102], [1298, 137]]</td>\n",
       "      <td>3SA4EMRVJV39U1MGLCYP6KPFULH0PX</td>\n",
       "      <td>3I2PTA7R3TVZUNSTFKSXDTPIG2RKQG</td>\n",
       "      <td>A3MVLTRGO37TJD</td>\n",
       "    </tr>\n",
       "    <tr>\n",
       "      <th>20</th>\n",
       "      <td>parts_cell_1182.png</td>\n",
       "      <td>[[1228, 185], [1423, 282]]</td>\n",
       "      <td>3SA4EMRVJV39U1MGLCYP6KPFULH0PX</td>\n",
       "      <td>3I2PTA7R3TVZUNSTFKSXDTPIG2RKQG</td>\n",
       "      <td>A3MVLTRGO37TJD</td>\n",
       "    </tr>\n",
       "    <tr>\n",
       "      <th>21</th>\n",
       "      <td>parts_cell_1182.png</td>\n",
       "      <td>[[1190, 823], [1440, 863]]</td>\n",
       "      <td>3SA4EMRVJV39U1MGLCYP6KPFULH0PX</td>\n",
       "      <td>3I2PTA7R3TVZUNSTFKSXDTPIG2RKQG</td>\n",
       "      <td>A3MVLTRGO37TJD</td>\n",
       "    </tr>\n",
       "    <tr>\n",
       "      <th>22</th>\n",
       "      <td>parts_cell_1182.png</td>\n",
       "      <td>[[60, 910], [252, 945]]</td>\n",
       "      <td>3SA4EMRVJV39U1MGLCYP6KPFULH0PX</td>\n",
       "      <td>3I2PTA7R3TVZUNSTFKSXDTPIG2RKQG</td>\n",
       "      <td>A3MVLTRGO37TJD</td>\n",
       "    </tr>\n",
       "    <tr>\n",
       "      <th>23</th>\n",
       "      <td>parts_cell_1182.png</td>\n",
       "      <td>[[133, 980], [318, 1008]]</td>\n",
       "      <td>3SA4EMRVJV39U1MGLCYP6KPFULH0PX</td>\n",
       "      <td>3I2PTA7R3TVZUNSTFKSXDTPIG2RKQG</td>\n",
       "      <td>A3MVLTRGO37TJD</td>\n",
       "    </tr>\n",
       "    <tr>\n",
       "      <th>24</th>\n",
       "      <td>parts_cell_1182.png</td>\n",
       "      <td>[[200, 1038], [455, 1082]]</td>\n",
       "      <td>3SA4EMRVJV39U1MGLCYP6KPFULH0PX</td>\n",
       "      <td>3I2PTA7R3TVZUNSTFKSXDTPIG2RKQG</td>\n",
       "      <td>A3MVLTRGO37TJD</td>\n",
       "    </tr>\n",
       "    <tr>\n",
       "      <th>25</th>\n",
       "      <td>parts_cell_1182.png</td>\n",
       "      <td>[[493, 1038], [638, 1073]]</td>\n",
       "      <td>3SA4EMRVJV39U1MGLCYP6KPFULH0PX</td>\n",
       "      <td>3I2PTA7R3TVZUNSTFKSXDTPIG2RKQG</td>\n",
       "      <td>A3MVLTRGO37TJD</td>\n",
       "    </tr>\n",
       "    <tr>\n",
       "      <th>26</th>\n",
       "      <td>parts_cell_1182.png</td>\n",
       "      <td>[[715, 1030], [862, 1060]]</td>\n",
       "      <td>3SA4EMRVJV39U1MGLCYP6KPFULH0PX</td>\n",
       "      <td>3I2PTA7R3TVZUNSTFKSXDTPIG2RKQG</td>\n",
       "      <td>A3MVLTRGO37TJD</td>\n",
       "    </tr>\n",
       "    <tr>\n",
       "      <th>27</th>\n",
       "      <td>parts_cell_1182.png</td>\n",
       "      <td>[[995, 955], [1398, 1003]]</td>\n",
       "      <td>3SA4EMRVJV39U1MGLCYP6KPFULH0PX</td>\n",
       "      <td>3I2PTA7R3TVZUNSTFKSXDTPIG2RKQG</td>\n",
       "      <td>A3MVLTRGO37TJD</td>\n",
       "    </tr>\n",
       "    <tr>\n",
       "      <th>28</th>\n",
       "      <td>parts_cell_1182.png</td>\n",
       "      <td>[[73, 47], [514, 139]]</td>\n",
       "      <td>3SA4EMRVJV39U1MGLCYP6KPFULH0PX</td>\n",
       "      <td>3RGU30DZTA9DYOOJ56L4V550RCVMJX</td>\n",
       "      <td>A2NJK5F728GAQX</td>\n",
       "    </tr>\n",
       "    <tr>\n",
       "      <th>29</th>\n",
       "      <td>parts_cell_1182.png</td>\n",
       "      <td>[[240, 197], [452, 234]]</td>\n",
       "      <td>3SA4EMRVJV39U1MGLCYP6KPFULH0PX</td>\n",
       "      <td>3RGU30DZTA9DYOOJ56L4V550RCVMJX</td>\n",
       "      <td>A2NJK5F728GAQX</td>\n",
       "    </tr>\n",
       "    <tr>\n",
       "      <th>...</th>\n",
       "      <td>...</td>\n",
       "      <td>...</td>\n",
       "      <td>...</td>\n",
       "      <td>...</td>\n",
       "      <td>...</td>\n",
       "    </tr>\n",
       "    <tr>\n",
       "      <th>70679</th>\n",
       "      <td>human_system_nervous_6171.png</td>\n",
       "      <td>[[308, 9], [454, 33]]</td>\n",
       "      <td>302OLP89DZ8M1PBU899CBQ2L4OEACK</td>\n",
       "      <td>31IBVUNM9S0GJ9WW08VA33WLPYLVFF</td>\n",
       "      <td>AZTHEMBEZ0RSS</td>\n",
       "    </tr>\n",
       "    <tr>\n",
       "      <th>70680</th>\n",
       "      <td>human_system_nervous_6171.png</td>\n",
       "      <td>[[341, 49], [430, 71]]</td>\n",
       "      <td>302OLP89DZ8M1PBU899CBQ2L4OEACK</td>\n",
       "      <td>31IBVUNM9S0GJ9WW08VA33WLPYLVFF</td>\n",
       "      <td>AZTHEMBEZ0RSS</td>\n",
       "    </tr>\n",
       "    <tr>\n",
       "      <th>70681</th>\n",
       "      <td>human_system_nervous_6171.png</td>\n",
       "      <td>[[107, 79], [229, 103]]</td>\n",
       "      <td>302OLP89DZ8M1PBU899CBQ2L4OEACK</td>\n",
       "      <td>31IBVUNM9S0GJ9WW08VA33WLPYLVFF</td>\n",
       "      <td>AZTHEMBEZ0RSS</td>\n",
       "    </tr>\n",
       "    <tr>\n",
       "      <th>70682</th>\n",
       "      <td>human_system_nervous_6171.png</td>\n",
       "      <td>[[48, 181], [152, 204]]</td>\n",
       "      <td>302OLP89DZ8M1PBU899CBQ2L4OEACK</td>\n",
       "      <td>31IBVUNM9S0GJ9WW08VA33WLPYLVFF</td>\n",
       "      <td>AZTHEMBEZ0RSS</td>\n",
       "    </tr>\n",
       "    <tr>\n",
       "      <th>70683</th>\n",
       "      <td>human_system_nervous_6171.png</td>\n",
       "      <td>[[15, 322], [145, 377]]</td>\n",
       "      <td>302OLP89DZ8M1PBU899CBQ2L4OEACK</td>\n",
       "      <td>31IBVUNM9S0GJ9WW08VA33WLPYLVFF</td>\n",
       "      <td>AZTHEMBEZ0RSS</td>\n",
       "    </tr>\n",
       "    <tr>\n",
       "      <th>70684</th>\n",
       "      <td>human_system_nervous_6171.png</td>\n",
       "      <td>[[521, 68], [680, 124]]</td>\n",
       "      <td>302OLP89DZ8M1PBU899CBQ2L4OEACK</td>\n",
       "      <td>31IBVUNM9S0GJ9WW08VA33WLPYLVFF</td>\n",
       "      <td>AZTHEMBEZ0RSS</td>\n",
       "    </tr>\n",
       "    <tr>\n",
       "      <th>70685</th>\n",
       "      <td>human_system_nervous_6171.png</td>\n",
       "      <td>[[589, 191], [704, 215]]</td>\n",
       "      <td>302OLP89DZ8M1PBU899CBQ2L4OEACK</td>\n",
       "      <td>31IBVUNM9S0GJ9WW08VA33WLPYLVFF</td>\n",
       "      <td>AZTHEMBEZ0RSS</td>\n",
       "    </tr>\n",
       "    <tr>\n",
       "      <th>70686</th>\n",
       "      <td>human_system_nervous_6171.png</td>\n",
       "      <td>[[619, 267], [706, 296]]</td>\n",
       "      <td>302OLP89DZ8M1PBU899CBQ2L4OEACK</td>\n",
       "      <td>31IBVUNM9S0GJ9WW08VA33WLPYLVFF</td>\n",
       "      <td>AZTHEMBEZ0RSS</td>\n",
       "    </tr>\n",
       "    <tr>\n",
       "      <th>70687</th>\n",
       "      <td>human_system_nervous_6171.png</td>\n",
       "      <td>[[463, 361], [541, 402]]</td>\n",
       "      <td>302OLP89DZ8M1PBU899CBQ2L4OEACK</td>\n",
       "      <td>31IBVUNM9S0GJ9WW08VA33WLPYLVFF</td>\n",
       "      <td>AZTHEMBEZ0RSS</td>\n",
       "    </tr>\n",
       "    <tr>\n",
       "      <th>70688</th>\n",
       "      <td>human_system_nervous_6171.png</td>\n",
       "      <td>[[442, 416], [527, 443]]</td>\n",
       "      <td>302OLP89DZ8M1PBU899CBQ2L4OEACK</td>\n",
       "      <td>31IBVUNM9S0GJ9WW08VA33WLPYLVFF</td>\n",
       "      <td>AZTHEMBEZ0RSS</td>\n",
       "    </tr>\n",
       "    <tr>\n",
       "      <th>70689</th>\n",
       "      <td>human_system_nervous_6171.png</td>\n",
       "      <td>[[379, 396], [429, 423]]</td>\n",
       "      <td>302OLP89DZ8M1PBU899CBQ2L4OEACK</td>\n",
       "      <td>31IBVUNM9S0GJ9WW08VA33WLPYLVFF</td>\n",
       "      <td>AZTHEMBEZ0RSS</td>\n",
       "    </tr>\n",
       "    <tr>\n",
       "      <th>70690</th>\n",
       "      <td>human_system_nervous_6171.png</td>\n",
       "      <td>[[356, 427], [429, 461]]</td>\n",
       "      <td>302OLP89DZ8M1PBU899CBQ2L4OEACK</td>\n",
       "      <td>31IBVUNM9S0GJ9WW08VA33WLPYLVFF</td>\n",
       "      <td>AZTHEMBEZ0RSS</td>\n",
       "    </tr>\n",
       "    <tr>\n",
       "      <th>70691</th>\n",
       "      <td>human_system_nervous_6171.png</td>\n",
       "      <td>[[97, 431], [195, 470]]</td>\n",
       "      <td>302OLP89DZ8M1PBU899CBQ2L4OEACK</td>\n",
       "      <td>31IBVUNM9S0GJ9WW08VA33WLPYLVFF</td>\n",
       "      <td>AZTHEMBEZ0RSS</td>\n",
       "    </tr>\n",
       "    <tr>\n",
       "      <th>70692</th>\n",
       "      <td>human_system_nervous_6171.png</td>\n",
       "      <td>[[144, 540], [243, 572]]</td>\n",
       "      <td>302OLP89DZ8M1PBU899CBQ2L4OEACK</td>\n",
       "      <td>31IBVUNM9S0GJ9WW08VA33WLPYLVFF</td>\n",
       "      <td>AZTHEMBEZ0RSS</td>\n",
       "    </tr>\n",
       "    <tr>\n",
       "      <th>70693</th>\n",
       "      <td>human_system_nervous_6171.png</td>\n",
       "      <td>[[303, 3], [464, 38]]</td>\n",
       "      <td>302OLP89DZ8M1PBU899CBQ2L4OEACK</td>\n",
       "      <td>34QN5IT0TZSRBTLTPX1F8IP98YY80M</td>\n",
       "      <td>AM1HY736BY3Z8</td>\n",
       "    </tr>\n",
       "    <tr>\n",
       "      <th>70694</th>\n",
       "      <td>human_system_nervous_6171.png</td>\n",
       "      <td>[[344, 47], [457, 80]]</td>\n",
       "      <td>302OLP89DZ8M1PBU899CBQ2L4OEACK</td>\n",
       "      <td>34QN5IT0TZSRBTLTPX1F8IP98YY80M</td>\n",
       "      <td>AM1HY736BY3Z8</td>\n",
       "    </tr>\n",
       "    <tr>\n",
       "      <th>70695</th>\n",
       "      <td>human_system_nervous_6171.png</td>\n",
       "      <td>[[513, 65], [679, 114]]</td>\n",
       "      <td>302OLP89DZ8M1PBU899CBQ2L4OEACK</td>\n",
       "      <td>34QN5IT0TZSRBTLTPX1F8IP98YY80M</td>\n",
       "      <td>AM1HY736BY3Z8</td>\n",
       "    </tr>\n",
       "    <tr>\n",
       "      <th>70696</th>\n",
       "      <td>human_system_nervous_6171.png</td>\n",
       "      <td>[[587, 186], [715, 218]]</td>\n",
       "      <td>302OLP89DZ8M1PBU899CBQ2L4OEACK</td>\n",
       "      <td>34QN5IT0TZSRBTLTPX1F8IP98YY80M</td>\n",
       "      <td>AM1HY736BY3Z8</td>\n",
       "    </tr>\n",
       "    <tr>\n",
       "      <th>70697</th>\n",
       "      <td>human_system_nervous_6171.png</td>\n",
       "      <td>[[611, 265], [709, 296]]</td>\n",
       "      <td>302OLP89DZ8M1PBU899CBQ2L4OEACK</td>\n",
       "      <td>34QN5IT0TZSRBTLTPX1F8IP98YY80M</td>\n",
       "      <td>AM1HY736BY3Z8</td>\n",
       "    </tr>\n",
       "    <tr>\n",
       "      <th>70698</th>\n",
       "      <td>human_system_nervous_6171.png</td>\n",
       "      <td>[[100, 76], [226, 99]]</td>\n",
       "      <td>302OLP89DZ8M1PBU899CBQ2L4OEACK</td>\n",
       "      <td>34QN5IT0TZSRBTLTPX1F8IP98YY80M</td>\n",
       "      <td>AM1HY736BY3Z8</td>\n",
       "    </tr>\n",
       "    <tr>\n",
       "      <th>70699</th>\n",
       "      <td>human_system_nervous_6171.png</td>\n",
       "      <td>[[41, 179], [147, 211]]</td>\n",
       "      <td>302OLP89DZ8M1PBU899CBQ2L4OEACK</td>\n",
       "      <td>34QN5IT0TZSRBTLTPX1F8IP98YY80M</td>\n",
       "      <td>AM1HY736BY3Z8</td>\n",
       "    </tr>\n",
       "    <tr>\n",
       "      <th>70700</th>\n",
       "      <td>human_system_nervous_6171.png</td>\n",
       "      <td>[[10, 313], [155, 342]]</td>\n",
       "      <td>302OLP89DZ8M1PBU899CBQ2L4OEACK</td>\n",
       "      <td>34QN5IT0TZSRBTLTPX1F8IP98YY80M</td>\n",
       "      <td>AM1HY736BY3Z8</td>\n",
       "    </tr>\n",
       "    <tr>\n",
       "      <th>70701</th>\n",
       "      <td>human_system_nervous_6171.png</td>\n",
       "      <td>[[11, 356], [151, 380]]</td>\n",
       "      <td>302OLP89DZ8M1PBU899CBQ2L4OEACK</td>\n",
       "      <td>34QN5IT0TZSRBTLTPX1F8IP98YY80M</td>\n",
       "      <td>AM1HY736BY3Z8</td>\n",
       "    </tr>\n",
       "    <tr>\n",
       "      <th>70702</th>\n",
       "      <td>human_system_nervous_6171.png</td>\n",
       "      <td>[[462, 363], [535, 404]]</td>\n",
       "      <td>302OLP89DZ8M1PBU899CBQ2L4OEACK</td>\n",
       "      <td>34QN5IT0TZSRBTLTPX1F8IP98YY80M</td>\n",
       "      <td>AM1HY736BY3Z8</td>\n",
       "    </tr>\n",
       "    <tr>\n",
       "      <th>70703</th>\n",
       "      <td>human_system_nervous_6171.png</td>\n",
       "      <td>[[438, 414], [519, 447]]</td>\n",
       "      <td>302OLP89DZ8M1PBU899CBQ2L4OEACK</td>\n",
       "      <td>34QN5IT0TZSRBTLTPX1F8IP98YY80M</td>\n",
       "      <td>AM1HY736BY3Z8</td>\n",
       "    </tr>\n",
       "    <tr>\n",
       "      <th>70704</th>\n",
       "      <td>human_system_nervous_6171.png</td>\n",
       "      <td>[[383, 394], [424, 419]]</td>\n",
       "      <td>302OLP89DZ8M1PBU899CBQ2L4OEACK</td>\n",
       "      <td>34QN5IT0TZSRBTLTPX1F8IP98YY80M</td>\n",
       "      <td>AM1HY736BY3Z8</td>\n",
       "    </tr>\n",
       "    <tr>\n",
       "      <th>70705</th>\n",
       "      <td>human_system_nervous_6171.png</td>\n",
       "      <td>[[360, 436], [423, 453]]</td>\n",
       "      <td>302OLP89DZ8M1PBU899CBQ2L4OEACK</td>\n",
       "      <td>34QN5IT0TZSRBTLTPX1F8IP98YY80M</td>\n",
       "      <td>AM1HY736BY3Z8</td>\n",
       "    </tr>\n",
       "    <tr>\n",
       "      <th>70706</th>\n",
       "      <td>human_system_nervous_6171.png</td>\n",
       "      <td>[[75, 432], [199, 467]]</td>\n",
       "      <td>302OLP89DZ8M1PBU899CBQ2L4OEACK</td>\n",
       "      <td>34QN5IT0TZSRBTLTPX1F8IP98YY80M</td>\n",
       "      <td>AM1HY736BY3Z8</td>\n",
       "    </tr>\n",
       "    <tr>\n",
       "      <th>70707</th>\n",
       "      <td>human_system_nervous_6171.png</td>\n",
       "      <td>[[136, 539], [236, 572]]</td>\n",
       "      <td>302OLP89DZ8M1PBU899CBQ2L4OEACK</td>\n",
       "      <td>34QN5IT0TZSRBTLTPX1F8IP98YY80M</td>\n",
       "      <td>AM1HY736BY3Z8</td>\n",
       "    </tr>\n",
       "    <tr>\n",
       "      <th>70708</th>\n",
       "      <td>human_system_nervous_6171.png</td>\n",
       "      <td>[[543, 687], [743, 720]]</td>\n",
       "      <td>302OLP89DZ8M1PBU899CBQ2L4OEACK</td>\n",
       "      <td>34QN5IT0TZSRBTLTPX1F8IP98YY80M</td>\n",
       "      <td>AM1HY736BY3Z8</td>\n",
       "    </tr>\n",
       "  </tbody>\n",
       "</table>\n",
       "<p>70709 rows × 5 columns</p>\n",
       "</div>"
      ],
      "text/plain": [
       "                             diagram                    rectangle  \\\n",
       "0                parts_cell_1182.png     [[283, 192], [447, 238]]   \n",
       "1                parts_cell_1182.png     [[115, 245], [273, 285]]   \n",
       "2                parts_cell_1182.png     [[703, 122], [840, 162]]   \n",
       "3                parts_cell_1182.png     [[958, 88], [1068, 133]]   \n",
       "4                parts_cell_1182.png    [[1165, 98], [1302, 142]]   \n",
       "5                parts_cell_1182.png   [[1243, 175], [1418, 288]]   \n",
       "6                parts_cell_1182.png   [[1192, 822], [1423, 865]]   \n",
       "7                parts_cell_1182.png   [[987, 945], [1397, 1003]]   \n",
       "8                parts_cell_1182.png   [[710, 1025], [862, 1068]]   \n",
       "9                parts_cell_1182.png   [[497, 1038], [642, 1073]]   \n",
       "10               parts_cell_1182.png   [[195, 1032], [455, 1083]]   \n",
       "11               parts_cell_1182.png    [[138, 975], [323, 1015]]   \n",
       "12               parts_cell_1182.png      [[72, 912], [247, 948]]   \n",
       "13               parts_cell_1182.png  [[988, 1038], [1440, 1103]]   \n",
       "14               parts_cell_1182.png       [[80, 70], [493, 147]]   \n",
       "15               parts_cell_1182.png     [[285, 197], [440, 232]]   \n",
       "16               parts_cell_1182.png     [[120, 253], [267, 285]]   \n",
       "17               parts_cell_1182.png     [[705, 127], [843, 162]]   \n",
       "18               parts_cell_1182.png     [[953, 90], [1077, 132]]   \n",
       "19               parts_cell_1182.png   [[1165, 102], [1298, 137]]   \n",
       "20               parts_cell_1182.png   [[1228, 185], [1423, 282]]   \n",
       "21               parts_cell_1182.png   [[1190, 823], [1440, 863]]   \n",
       "22               parts_cell_1182.png      [[60, 910], [252, 945]]   \n",
       "23               parts_cell_1182.png    [[133, 980], [318, 1008]]   \n",
       "24               parts_cell_1182.png   [[200, 1038], [455, 1082]]   \n",
       "25               parts_cell_1182.png   [[493, 1038], [638, 1073]]   \n",
       "26               parts_cell_1182.png   [[715, 1030], [862, 1060]]   \n",
       "27               parts_cell_1182.png   [[995, 955], [1398, 1003]]   \n",
       "28               parts_cell_1182.png       [[73, 47], [514, 139]]   \n",
       "29               parts_cell_1182.png     [[240, 197], [452, 234]]   \n",
       "...                              ...                          ...   \n",
       "70679  human_system_nervous_6171.png        [[308, 9], [454, 33]]   \n",
       "70680  human_system_nervous_6171.png       [[341, 49], [430, 71]]   \n",
       "70681  human_system_nervous_6171.png      [[107, 79], [229, 103]]   \n",
       "70682  human_system_nervous_6171.png      [[48, 181], [152, 204]]   \n",
       "70683  human_system_nervous_6171.png      [[15, 322], [145, 377]]   \n",
       "70684  human_system_nervous_6171.png      [[521, 68], [680, 124]]   \n",
       "70685  human_system_nervous_6171.png     [[589, 191], [704, 215]]   \n",
       "70686  human_system_nervous_6171.png     [[619, 267], [706, 296]]   \n",
       "70687  human_system_nervous_6171.png     [[463, 361], [541, 402]]   \n",
       "70688  human_system_nervous_6171.png     [[442, 416], [527, 443]]   \n",
       "70689  human_system_nervous_6171.png     [[379, 396], [429, 423]]   \n",
       "70690  human_system_nervous_6171.png     [[356, 427], [429, 461]]   \n",
       "70691  human_system_nervous_6171.png      [[97, 431], [195, 470]]   \n",
       "70692  human_system_nervous_6171.png     [[144, 540], [243, 572]]   \n",
       "70693  human_system_nervous_6171.png        [[303, 3], [464, 38]]   \n",
       "70694  human_system_nervous_6171.png       [[344, 47], [457, 80]]   \n",
       "70695  human_system_nervous_6171.png      [[513, 65], [679, 114]]   \n",
       "70696  human_system_nervous_6171.png     [[587, 186], [715, 218]]   \n",
       "70697  human_system_nervous_6171.png     [[611, 265], [709, 296]]   \n",
       "70698  human_system_nervous_6171.png       [[100, 76], [226, 99]]   \n",
       "70699  human_system_nervous_6171.png      [[41, 179], [147, 211]]   \n",
       "70700  human_system_nervous_6171.png      [[10, 313], [155, 342]]   \n",
       "70701  human_system_nervous_6171.png      [[11, 356], [151, 380]]   \n",
       "70702  human_system_nervous_6171.png     [[462, 363], [535, 404]]   \n",
       "70703  human_system_nervous_6171.png     [[438, 414], [519, 447]]   \n",
       "70704  human_system_nervous_6171.png     [[383, 394], [424, 419]]   \n",
       "70705  human_system_nervous_6171.png     [[360, 436], [423, 453]]   \n",
       "70706  human_system_nervous_6171.png      [[75, 432], [199, 467]]   \n",
       "70707  human_system_nervous_6171.png     [[136, 539], [236, 572]]   \n",
       "70708  human_system_nervous_6171.png     [[543, 687], [743, 720]]   \n",
       "\n",
       "                               hit_id                   assignment_id  \\\n",
       "0      3SA4EMRVJV39U1MGLCYP6KPFULH0PX  3BDCF01OGXVJNV1XRULS5F5Z4B6LYG   \n",
       "1      3SA4EMRVJV39U1MGLCYP6KPFULH0PX  3BDCF01OGXVJNV1XRULS5F5Z4B6LYG   \n",
       "2      3SA4EMRVJV39U1MGLCYP6KPFULH0PX  3BDCF01OGXVJNV1XRULS5F5Z4B6LYG   \n",
       "3      3SA4EMRVJV39U1MGLCYP6KPFULH0PX  3BDCF01OGXVJNV1XRULS5F5Z4B6LYG   \n",
       "4      3SA4EMRVJV39U1MGLCYP6KPFULH0PX  3BDCF01OGXVJNV1XRULS5F5Z4B6LYG   \n",
       "5      3SA4EMRVJV39U1MGLCYP6KPFULH0PX  3BDCF01OGXVJNV1XRULS5F5Z4B6LYG   \n",
       "6      3SA4EMRVJV39U1MGLCYP6KPFULH0PX  3BDCF01OGXVJNV1XRULS5F5Z4B6LYG   \n",
       "7      3SA4EMRVJV39U1MGLCYP6KPFULH0PX  3BDCF01OGXVJNV1XRULS5F5Z4B6LYG   \n",
       "8      3SA4EMRVJV39U1MGLCYP6KPFULH0PX  3BDCF01OGXVJNV1XRULS5F5Z4B6LYG   \n",
       "9      3SA4EMRVJV39U1MGLCYP6KPFULH0PX  3BDCF01OGXVJNV1XRULS5F5Z4B6LYG   \n",
       "10     3SA4EMRVJV39U1MGLCYP6KPFULH0PX  3BDCF01OGXVJNV1XRULS5F5Z4B6LYG   \n",
       "11     3SA4EMRVJV39U1MGLCYP6KPFULH0PX  3BDCF01OGXVJNV1XRULS5F5Z4B6LYG   \n",
       "12     3SA4EMRVJV39U1MGLCYP6KPFULH0PX  3BDCF01OGXVJNV1XRULS5F5Z4B6LYG   \n",
       "13     3SA4EMRVJV39U1MGLCYP6KPFULH0PX  3BDCF01OGXVJNV1XRULS5F5Z4B6LYG   \n",
       "14     3SA4EMRVJV39U1MGLCYP6KPFULH0PX  3I2PTA7R3TVZUNSTFKSXDTPIG2RKQG   \n",
       "15     3SA4EMRVJV39U1MGLCYP6KPFULH0PX  3I2PTA7R3TVZUNSTFKSXDTPIG2RKQG   \n",
       "16     3SA4EMRVJV39U1MGLCYP6KPFULH0PX  3I2PTA7R3TVZUNSTFKSXDTPIG2RKQG   \n",
       "17     3SA4EMRVJV39U1MGLCYP6KPFULH0PX  3I2PTA7R3TVZUNSTFKSXDTPIG2RKQG   \n",
       "18     3SA4EMRVJV39U1MGLCYP6KPFULH0PX  3I2PTA7R3TVZUNSTFKSXDTPIG2RKQG   \n",
       "19     3SA4EMRVJV39U1MGLCYP6KPFULH0PX  3I2PTA7R3TVZUNSTFKSXDTPIG2RKQG   \n",
       "20     3SA4EMRVJV39U1MGLCYP6KPFULH0PX  3I2PTA7R3TVZUNSTFKSXDTPIG2RKQG   \n",
       "21     3SA4EMRVJV39U1MGLCYP6KPFULH0PX  3I2PTA7R3TVZUNSTFKSXDTPIG2RKQG   \n",
       "22     3SA4EMRVJV39U1MGLCYP6KPFULH0PX  3I2PTA7R3TVZUNSTFKSXDTPIG2RKQG   \n",
       "23     3SA4EMRVJV39U1MGLCYP6KPFULH0PX  3I2PTA7R3TVZUNSTFKSXDTPIG2RKQG   \n",
       "24     3SA4EMRVJV39U1MGLCYP6KPFULH0PX  3I2PTA7R3TVZUNSTFKSXDTPIG2RKQG   \n",
       "25     3SA4EMRVJV39U1MGLCYP6KPFULH0PX  3I2PTA7R3TVZUNSTFKSXDTPIG2RKQG   \n",
       "26     3SA4EMRVJV39U1MGLCYP6KPFULH0PX  3I2PTA7R3TVZUNSTFKSXDTPIG2RKQG   \n",
       "27     3SA4EMRVJV39U1MGLCYP6KPFULH0PX  3I2PTA7R3TVZUNSTFKSXDTPIG2RKQG   \n",
       "28     3SA4EMRVJV39U1MGLCYP6KPFULH0PX  3RGU30DZTA9DYOOJ56L4V550RCVMJX   \n",
       "29     3SA4EMRVJV39U1MGLCYP6KPFULH0PX  3RGU30DZTA9DYOOJ56L4V550RCVMJX   \n",
       "...                               ...                             ...   \n",
       "70679  302OLP89DZ8M1PBU899CBQ2L4OEACK  31IBVUNM9S0GJ9WW08VA33WLPYLVFF   \n",
       "70680  302OLP89DZ8M1PBU899CBQ2L4OEACK  31IBVUNM9S0GJ9WW08VA33WLPYLVFF   \n",
       "70681  302OLP89DZ8M1PBU899CBQ2L4OEACK  31IBVUNM9S0GJ9WW08VA33WLPYLVFF   \n",
       "70682  302OLP89DZ8M1PBU899CBQ2L4OEACK  31IBVUNM9S0GJ9WW08VA33WLPYLVFF   \n",
       "70683  302OLP89DZ8M1PBU899CBQ2L4OEACK  31IBVUNM9S0GJ9WW08VA33WLPYLVFF   \n",
       "70684  302OLP89DZ8M1PBU899CBQ2L4OEACK  31IBVUNM9S0GJ9WW08VA33WLPYLVFF   \n",
       "70685  302OLP89DZ8M1PBU899CBQ2L4OEACK  31IBVUNM9S0GJ9WW08VA33WLPYLVFF   \n",
       "70686  302OLP89DZ8M1PBU899CBQ2L4OEACK  31IBVUNM9S0GJ9WW08VA33WLPYLVFF   \n",
       "70687  302OLP89DZ8M1PBU899CBQ2L4OEACK  31IBVUNM9S0GJ9WW08VA33WLPYLVFF   \n",
       "70688  302OLP89DZ8M1PBU899CBQ2L4OEACK  31IBVUNM9S0GJ9WW08VA33WLPYLVFF   \n",
       "70689  302OLP89DZ8M1PBU899CBQ2L4OEACK  31IBVUNM9S0GJ9WW08VA33WLPYLVFF   \n",
       "70690  302OLP89DZ8M1PBU899CBQ2L4OEACK  31IBVUNM9S0GJ9WW08VA33WLPYLVFF   \n",
       "70691  302OLP89DZ8M1PBU899CBQ2L4OEACK  31IBVUNM9S0GJ9WW08VA33WLPYLVFF   \n",
       "70692  302OLP89DZ8M1PBU899CBQ2L4OEACK  31IBVUNM9S0GJ9WW08VA33WLPYLVFF   \n",
       "70693  302OLP89DZ8M1PBU899CBQ2L4OEACK  34QN5IT0TZSRBTLTPX1F8IP98YY80M   \n",
       "70694  302OLP89DZ8M1PBU899CBQ2L4OEACK  34QN5IT0TZSRBTLTPX1F8IP98YY80M   \n",
       "70695  302OLP89DZ8M1PBU899CBQ2L4OEACK  34QN5IT0TZSRBTLTPX1F8IP98YY80M   \n",
       "70696  302OLP89DZ8M1PBU899CBQ2L4OEACK  34QN5IT0TZSRBTLTPX1F8IP98YY80M   \n",
       "70697  302OLP89DZ8M1PBU899CBQ2L4OEACK  34QN5IT0TZSRBTLTPX1F8IP98YY80M   \n",
       "70698  302OLP89DZ8M1PBU899CBQ2L4OEACK  34QN5IT0TZSRBTLTPX1F8IP98YY80M   \n",
       "70699  302OLP89DZ8M1PBU899CBQ2L4OEACK  34QN5IT0TZSRBTLTPX1F8IP98YY80M   \n",
       "70700  302OLP89DZ8M1PBU899CBQ2L4OEACK  34QN5IT0TZSRBTLTPX1F8IP98YY80M   \n",
       "70701  302OLP89DZ8M1PBU899CBQ2L4OEACK  34QN5IT0TZSRBTLTPX1F8IP98YY80M   \n",
       "70702  302OLP89DZ8M1PBU899CBQ2L4OEACK  34QN5IT0TZSRBTLTPX1F8IP98YY80M   \n",
       "70703  302OLP89DZ8M1PBU899CBQ2L4OEACK  34QN5IT0TZSRBTLTPX1F8IP98YY80M   \n",
       "70704  302OLP89DZ8M1PBU899CBQ2L4OEACK  34QN5IT0TZSRBTLTPX1F8IP98YY80M   \n",
       "70705  302OLP89DZ8M1PBU899CBQ2L4OEACK  34QN5IT0TZSRBTLTPX1F8IP98YY80M   \n",
       "70706  302OLP89DZ8M1PBU899CBQ2L4OEACK  34QN5IT0TZSRBTLTPX1F8IP98YY80M   \n",
       "70707  302OLP89DZ8M1PBU899CBQ2L4OEACK  34QN5IT0TZSRBTLTPX1F8IP98YY80M   \n",
       "70708  302OLP89DZ8M1PBU899CBQ2L4OEACK  34QN5IT0TZSRBTLTPX1F8IP98YY80M   \n",
       "\n",
       "            worker_id  \n",
       "0      A1017VP86SLXRB  \n",
       "1      A1017VP86SLXRB  \n",
       "2      A1017VP86SLXRB  \n",
       "3      A1017VP86SLXRB  \n",
       "4      A1017VP86SLXRB  \n",
       "5      A1017VP86SLXRB  \n",
       "6      A1017VP86SLXRB  \n",
       "7      A1017VP86SLXRB  \n",
       "8      A1017VP86SLXRB  \n",
       "9      A1017VP86SLXRB  \n",
       "10     A1017VP86SLXRB  \n",
       "11     A1017VP86SLXRB  \n",
       "12     A1017VP86SLXRB  \n",
       "13     A1017VP86SLXRB  \n",
       "14     A3MVLTRGO37TJD  \n",
       "15     A3MVLTRGO37TJD  \n",
       "16     A3MVLTRGO37TJD  \n",
       "17     A3MVLTRGO37TJD  \n",
       "18     A3MVLTRGO37TJD  \n",
       "19     A3MVLTRGO37TJD  \n",
       "20     A3MVLTRGO37TJD  \n",
       "21     A3MVLTRGO37TJD  \n",
       "22     A3MVLTRGO37TJD  \n",
       "23     A3MVLTRGO37TJD  \n",
       "24     A3MVLTRGO37TJD  \n",
       "25     A3MVLTRGO37TJD  \n",
       "26     A3MVLTRGO37TJD  \n",
       "27     A3MVLTRGO37TJD  \n",
       "28     A2NJK5F728GAQX  \n",
       "29     A2NJK5F728GAQX  \n",
       "...               ...  \n",
       "70679   AZTHEMBEZ0RSS  \n",
       "70680   AZTHEMBEZ0RSS  \n",
       "70681   AZTHEMBEZ0RSS  \n",
       "70682   AZTHEMBEZ0RSS  \n",
       "70683   AZTHEMBEZ0RSS  \n",
       "70684   AZTHEMBEZ0RSS  \n",
       "70685   AZTHEMBEZ0RSS  \n",
       "70686   AZTHEMBEZ0RSS  \n",
       "70687   AZTHEMBEZ0RSS  \n",
       "70688   AZTHEMBEZ0RSS  \n",
       "70689   AZTHEMBEZ0RSS  \n",
       "70690   AZTHEMBEZ0RSS  \n",
       "70691   AZTHEMBEZ0RSS  \n",
       "70692   AZTHEMBEZ0RSS  \n",
       "70693   AM1HY736BY3Z8  \n",
       "70694   AM1HY736BY3Z8  \n",
       "70695   AM1HY736BY3Z8  \n",
       "70696   AM1HY736BY3Z8  \n",
       "70697   AM1HY736BY3Z8  \n",
       "70698   AM1HY736BY3Z8  \n",
       "70699   AM1HY736BY3Z8  \n",
       "70700   AM1HY736BY3Z8  \n",
       "70701   AM1HY736BY3Z8  \n",
       "70702   AM1HY736BY3Z8  \n",
       "70703   AM1HY736BY3Z8  \n",
       "70704   AM1HY736BY3Z8  \n",
       "70705   AM1HY736BY3Z8  \n",
       "70706   AM1HY736BY3Z8  \n",
       "70707   AM1HY736BY3Z8  \n",
       "70708   AM1HY736BY3Z8  \n",
       "\n",
       "[70709 rows x 5 columns]"
      ]
     },
     "execution_count": 1726,
     "metadata": {},
     "output_type": "execute_result"
    }
   ],
   "source": [
    "results_df"
   ]
  },
  {
   "cell_type": "code",
   "execution_count": 1714,
   "metadata": {
    "collapsed": false,
    "run_control": {
     "frozen": false,
     "read_only": false
    },
    "scrolled": true
   },
   "outputs": [
    {
     "name": "stdout",
     "output_type": "stream",
     "text": [
      "number of unique workers:\n"
     ]
    },
    {
     "data": {
      "text/plain": [
       "177"
      ]
     },
     "execution_count": 1714,
     "metadata": {},
     "output_type": "execute_result"
    }
   ],
   "source": [
    "print 'number of unique workers:'\n",
    "pd.unique(results_df['worker_id']).shape[0]"
   ]
  },
  {
   "cell_type": "code",
   "execution_count": 1724,
   "metadata": {
    "collapsed": true
   },
   "outputs": [],
   "source": [
    "grouped_by_worker = results_df.groupby('worker_id')"
   ]
  },
  {
   "cell_type": "code",
   "execution_count": 1737,
   "metadata": {
    "collapsed": true
   },
   "outputs": [
    {
     "data": {
      "text/plain": [
       "worker_id\n",
       "A03922113RU44GENR8ATX     146\n",
       "A1017VP86SLXRB            862\n",
       "A10443E11ZWEHJ             13\n",
       "A107QUL9WE39ZV            105\n",
       "A10PVSMU1UBP8N            292\n",
       "A111JI6APXR6QV             41\n",
       "A11MPIAKPRMF9T             61\n",
       "A122E99M2DQY1G             39\n",
       "A127F80LLYOQ22              2\n",
       "A13LXDXAWD5DSY           1369\n",
       "A13PFEJFK3DI9B            724\n",
       "A14YUE2S0RRKY1             30\n",
       "A150BOXII7BKNP             43\n",
       "A154D85W3BLY4U            629\n",
       "A15CDKMH6YDJ39             21\n",
       "A16DZUAE29Z21H            160\n",
       "A16PK8DLMV0XLW            949\n",
       "A18ZUFGMNOVI2Y           1241\n",
       "A198X28FHY2OY0            422\n",
       "A19GQT4YCUWHIO             65\n",
       "A19ZOKX8M6VWOO            191\n",
       "A1D4I1QYL9713I            603\n",
       "A1D4Z17JF8TE4Y            485\n",
       "A1EFMDT1U0TBPV             10\n",
       "A1EGJBJBFBZJBA            864\n",
       "A1G3G0YQ80PTL9            235\n",
       "A1HC5X6E6ZGINB            119\n",
       "A1IM9SPV7X9P6W            508\n",
       "A1ISG85JD2NXKK             63\n",
       "A1M1T2EF4Y2IW8             39\n",
       "                         ... \n",
       "AB66CTVQ90RCV              68\n",
       "AB6F473EMJD8Y             236\n",
       "ABI22TZRQ5H91              31\n",
       "AC8IEBY696VJO              96\n",
       "AD1ILDUXZHASF               1\n",
       "AD7A672XIYAWM              37\n",
       "AE861G0AY5RGT               5\n",
       "AEK2SAEL9GG39             118\n",
       "AFSG1VE16FX3B              40\n",
       "AFX5W9YSVP86Q              92\n",
       "AIIA3CD2HDDPO              35\n",
       "AINSUJ6S80L8K             581\n",
       "AKATSYE8XLYNL               9\n",
       "AKC0QDVN3GOFE             328\n",
       "AKF2TMBSIYPVU             732\n",
       "AKWH1P9W1KL35            1597\n",
       "AL4WZDIXIVO2S             102\n",
       "AM1HY736BY3Z8            4318\n",
       "AMJ9X1MIE8CZ5             272\n",
       "ANBTNIM08969Z            1093\n",
       "APLQSM4J9E6LR             357\n",
       "AQ45V7UOGOAC9               6\n",
       "ARMX7VT4C7WEF              15\n",
       "ATEW2XICE84QY             756\n",
       "ATRVCA186WV1B               5\n",
       "AVSU9UKYDKR1               22\n",
       "AVXWE0AHJKQ0P             648\n",
       "AWKUPO1N2QEAD             111\n",
       "AZCMR6NXIX16N              62\n",
       "AZTHEMBEZ0RSS             135\n",
       "Name: rectangle, dtype: int64"
      ]
     },
     "execution_count": 1737,
     "metadata": {},
     "output_type": "execute_result"
    }
   ],
   "source": [
    "grouped_by_worker['rectangle'].aggregate(len)"
   ]
  },
  {
   "cell_type": "code",
   "execution_count": null,
   "metadata": {
    "collapsed": true
   },
   "outputs": [],
   "source": []
  },
  {
   "cell_type": "code",
   "execution_count": null,
   "metadata": {
    "collapsed": true
   },
   "outputs": [],
   "source": []
  },
  {
   "cell_type": "code",
   "execution_count": 1716,
   "metadata": {
    "collapsed": true,
    "run_control": {
     "frozen": false,
     "read_only": false
    }
   },
   "outputs": [
    {
     "data": {
      "image/png": "[encoded data removed]",
      "text/plain": [
       "<matplotlib.figure.Figure at 0x1148ca890>"
      ]
     },
     "metadata": {},
     "output_type": "display_data"
    }
   ],
   "source": [
    "_ = results_df['worker_id'].value_counts().hist(bins= 30)"
   ]
  },
  {
   "cell_type": "markdown",
   "metadata": {},
   "source": [
    "### HIT duration for pricing"
   ]
  },
  {
   "cell_type": "code",
   "execution_count": 1718,
   "metadata": {
    "collapsed": false,
    "run_control": {
     "frozen": false,
     "read_only": false
    }
   },
   "outputs": [],
   "source": [
    "task_duration_seconds = []\n",
    "for hit_id, assignments in assignment_results_current_batch.items():\n",
    "    for assignment in assignments:\n",
    "        hit_duration = dt_parse.parse(assignment.SubmitTime) - dt_parse.parse(assignment.AcceptTime)\n",
    "        task_duration_seconds.append(hit_duration.seconds)"
   ]
  },
  {
   "cell_type": "code",
   "execution_count": 1719,
   "metadata": {
    "collapsed": false,
    "run_control": {
     "frozen": false,
     "read_only": false
    }
   },
   "outputs": [],
   "source": [
    "task_duration_series = pd.Series(task_duration_seconds)"
   ]
  },
  {
   "cell_type": "code",
   "execution_count": 1720,
   "metadata": {
    "collapsed": false,
    "run_control": {
     "frozen": false,
     "read_only": false
    },
    "scrolled": true
   },
   "outputs": [
    {
     "data": {
      "image/png": "[encoded data removed]",
      "text/plain": [
       "<matplotlib.figure.Figure at 0x116b4da50>"
      ]
     },
     "metadata": {},
     "output_type": "display_data"
    }
   ],
   "source": [
    "_ = task_duration_series.hist(bins=30, log=True)"
   ]
  },
  {
   "cell_type": "code",
   "execution_count": 1721,
   "metadata": {
    "collapsed": false,
    "run_control": {
     "frozen": false,
     "read_only": false
    }
   },
   "outputs": [],
   "source": [
    "winsorized_durations = [t for t in task_duration_seconds if t < 300]\n",
    "w_duration_series = pd.Series(winsorized_durations)"
   ]
  },
  {
   "cell_type": "code",
   "execution_count": 1722,
   "metadata": {
    "collapsed": false,
    "run_control": {
     "frozen": false,
     "read_only": false
    }
   },
   "outputs": [
    {
     "data": {
      "image/png": "[encoded data removed]",
      "text/plain": [
       "<matplotlib.figure.Figure at 0x10e57ea50>"
      ]
     },
     "metadata": {},
     "output_type": "display_data"
    }
   ],
   "source": [
    "_ = pd.Series(w_duration_series).hist(bins=60)\n",
    "plt.title('Worker task duration', fontsize=50, verticalalignment='bottom', color = b16_colors.b)\n",
    "plt.ylabel(\"Number of Workers\", fontsize=30, labelpad=10, color = b16_colors.b)\n",
    "plt.xlabel(\"Seconds Spent on HIT\", fontsize=30, labelpad=10, color = b16_colors.b)\n",
    "plt.tick_params(axis='x', which='major', labelsize=20)\n",
    "plt.tick_params(axis='y', which='major', labelsize=20)"
   ]
  },
  {
   "cell_type": "code",
   "execution_count": 1723,
   "metadata": {
    "collapsed": false,
    "run_control": {
     "frozen": false,
     "read_only": false
    }
   },
   "outputs": [
    {
     "name": "stdout",
     "output_type": "stream",
     "text": [
      "duration mode= 22\n",
      "duration median= 33.0\n"
     ]
    }
   ],
   "source": [
    "print 'duration mode= ' + str(w_duration_series.mode().values[0])\n",
    "print 'duration median= ' + str(w_duration_series.median())"
   ]
  },
  {
   "cell_type": "markdown",
   "metadata": {},
   "source": [
    "## Identifying high and low consensus workers"
   ]
  },
  {
   "cell_type": "code",
   "execution_count": 113,
   "metadata": {
    "collapsed": false,
    "run_control": {
     "frozen": false,
     "read_only": false
    }
   },
   "outputs": [],
   "source": [
    "consensus_with_workerid_df_this_batch = amt_util.make_consensus_df_w_worker_id(results_df_current_batch, consensus_results_df_current_batch)"
   ]
  },
  {
   "cell_type": "code",
   "execution_count": 138,
   "metadata": {
    "collapsed": false,
    "run_control": {
     "frozen": false,
     "read_only": false
    }
   },
   "outputs": [
    {
     "data": {
      "text/plain": [
       "175"
      ]
     },
     "execution_count": 138,
     "metadata": {},
     "output_type": "execute_result"
    }
   ],
   "source": [
    "len(pd.unique(worker_conflicts['worker_id']))"
   ]
  },
  {
   "cell_type": "code",
   "execution_count": 113,
   "metadata": {
    "collapsed": false,
    "run_control": {
     "frozen": false,
     "read_only": false
    }
   },
   "outputs": [
    {
     "data": {
      "text/html": [
       "<div>\n",
       "<table border=\"1\" class=\"dataframe\">\n",
       "  <thead>\n",
       "    <tr style=\"text-align: right;\">\n",
       "      <th></th>\n",
       "      <th>submitted</th>\n",
       "      <th>incorrect</th>\n",
       "      <th>flaw_ratio</th>\n",
       "    </tr>\n",
       "  </thead>\n",
       "  <tbody>\n",
       "    <tr>\n",
       "      <th>A3JOFB6Z65I37Q</th>\n",
       "      <td>124.0</td>\n",
       "      <td>2.0</td>\n",
       "      <td>0.016129</td>\n",
       "    </tr>\n",
       "    <tr>\n",
       "      <th>A2HTN7HCNBQ8V4</th>\n",
       "      <td>157.0</td>\n",
       "      <td>3.0</td>\n",
       "      <td>0.019108</td>\n",
       "    </tr>\n",
       "    <tr>\n",
       "      <th>A22FK64IWET30E</th>\n",
       "      <td>45.0</td>\n",
       "      <td>1.0</td>\n",
       "      <td>0.022222</td>\n",
       "    </tr>\n",
       "    <tr>\n",
       "      <th>AEWGY34WUIA32</th>\n",
       "      <td>1538.0</td>\n",
       "      <td>40.0</td>\n",
       "      <td>0.026008</td>\n",
       "    </tr>\n",
       "    <tr>\n",
       "      <th>ASB8T0H7L99RF</th>\n",
       "      <td>507.0</td>\n",
       "      <td>14.0</td>\n",
       "      <td>0.027613</td>\n",
       "    </tr>\n",
       "    <tr>\n",
       "      <th>AMA18W8F60Y2J</th>\n",
       "      <td>100.0</td>\n",
       "      <td>3.0</td>\n",
       "      <td>0.030000</td>\n",
       "    </tr>\n",
       "    <tr>\n",
       "      <th>A2YY1ZR7Z4VT4M</th>\n",
       "      <td>1517.0</td>\n",
       "      <td>54.0</td>\n",
       "      <td>0.035597</td>\n",
       "    </tr>\n",
       "    <tr>\n",
       "      <th>AJFVK3O1D7SPE</th>\n",
       "      <td>1141.0</td>\n",
       "      <td>42.0</td>\n",
       "      <td>0.036810</td>\n",
       "    </tr>\n",
       "    <tr>\n",
       "      <th>A10M8ULK8QMRU6</th>\n",
       "      <td>27.0</td>\n",
       "      <td>1.0</td>\n",
       "      <td>0.037037</td>\n",
       "    </tr>\n",
       "    <tr>\n",
       "      <th>A2HM35CWB7IIFM</th>\n",
       "      <td>26.0</td>\n",
       "      <td>1.0</td>\n",
       "      <td>0.038462</td>\n",
       "    </tr>\n",
       "  </tbody>\n",
       "</table>\n",
       "</div>"
      ],
      "text/plain": [
       "                submitted  incorrect  flaw_ratio\n",
       "A3JOFB6Z65I37Q      124.0        2.0    0.016129\n",
       "A2HTN7HCNBQ8V4      157.0        3.0    0.019108\n",
       "A22FK64IWET30E       45.0        1.0    0.022222\n",
       "AEWGY34WUIA32      1538.0       40.0    0.026008\n",
       "ASB8T0H7L99RF       507.0       14.0    0.027613\n",
       "AMA18W8F60Y2J       100.0        3.0    0.030000\n",
       "A2YY1ZR7Z4VT4M     1517.0       54.0    0.035597\n",
       "AJFVK3O1D7SPE      1141.0       42.0    0.036810\n",
       "A10M8ULK8QMRU6       27.0        1.0    0.037037\n",
       "A2HM35CWB7IIFM       26.0        1.0    0.038462"
      ]
     },
     "execution_count": 113,
     "metadata": {},
     "output_type": "execute_result"
    }
   ],
   "source": [
    "worker_conflicts = combined_consensus_with_workerid_df[combined_consensus_with_workerid_df['category'] != combined_consensus_with_workerid_df['consensus_category']]\n",
    "all_worker_counts = combined_results_df['worker_id'].value_counts()\n",
    "bad_worker_counts = worker_conflicts['worker_id'].value_counts()\n",
    "worker_quality_df = pd.DataFrame([all_worker_counts, bad_worker_counts]).T\n",
    "worker_quality_df.columns=['submitted', 'incorrect']\n",
    "worker_quality_df['flaw_ratio'] = worker_quality_df['incorrect']/worker_quality_df['submitted']\n",
    "\n",
    "good_workers = worker_quality_df.sort_values('flaw_ratio', ascending= True).index.tolist()\n",
    "\n",
    "suspect_workers = worker_quality_df.sort_values('flaw_ratio', ascending= False).index.tolist()\n",
    "\n",
    "worker_quality_df.sort_values('flaw_ratio', ascending= True).head(10)"
   ]
  },
  {
   "cell_type": "markdown",
   "metadata": {},
   "source": [
    "I became concerned that I missed the perfect performers, but as I suspected perfect workers only did 1-2 HITs at most"
   ]
  },
  {
   "cell_type": "code",
   "execution_count": 147,
   "metadata": {
    "collapsed": false,
    "run_control": {
     "frozen": false,
     "read_only": false
    }
   },
   "outputs": [
    {
     "data": {
      "text/plain": [
       "A1N8SWL57W43PV    42\n",
       "A161I6SGXNY96M    31\n",
       "A1VL844FUMGC8W    24\n",
       "A18U9WMYFYJPR6    24\n",
       "A2U0QL8K0NTGS5    23\n",
       "A1P47Q6LZPLQ6P    22\n",
       "A2VL602367WQQW    20\n",
       "A4UVNGSXE2ANA     20\n",
       "AFE8IXO7K303F     19\n",
       "A1HRHFU7KTS0KW    16\n",
       "Name: worker_id, dtype: int64"
      ]
     },
     "execution_count": 147,
     "metadata": {},
     "output_type": "execute_result"
    }
   ],
   "source": [
    "aw_set = set(all_worker_counts.index)\n",
    "bw_set = set(bad_worker_counts.index)\n",
    "flawless_workers = list(aw_set.difference(bw_set))\n",
    "all_worker_counts[all_worker_counts.index.isin(best_workers)]"
   ]
  },
  {
   "cell_type": "code",
   "execution_count": 156,
   "metadata": {
    "collapsed": false,
    "run_control": {
     "frozen": false,
     "read_only": false
    }
   },
   "outputs": [],
   "source": [
    "bad_and_prolific_workers = worker_quality_df.sort_values('flaw_ratio', ascending= False).head(25).sort_values('incorrect', ascending= False)"
   ]
  },
  {
   "cell_type": "code",
   "execution_count": 176,
   "metadata": {
    "collapsed": false,
    "run_control": {
     "frozen": false,
     "read_only": false
    }
   },
   "outputs": [],
   "source": [
    "bad_and_prolific_to_review = list(bad_and_prolific_workers[:15].index)"
   ]
  },
  {
   "cell_type": "markdown",
   "metadata": {
    "heading_collapsed": true
   },
   "source": [
    "## Messaging workers"
   ]
  },
  {
   "cell_type": "code",
   "execution_count": 118,
   "metadata": {
    "collapsed": true,
    "hidden": true,
    "run_control": {
     "frozen": false,
     "read_only": false
    }
   },
   "outputs": [],
   "source": [
    "subject = \"More science book annotation HITs are available\"\n",
    "message = \"\"\"\n",
    "Hello, \n",
    "\n",
    "If you're receiving this message you were among the top performers on the first group HITs I submitted.\n",
    "I've submitted another group of HITs, with more to follow in the next few days. \n",
    "This task is slightly different from the first, so please review the new instructions before jumping in.\n",
    "\n",
    "Happy to get any feedback you might have for the new HITs.\n",
    "\"\"\""
   ]
  },
  {
   "cell_type": "code",
   "execution_count": 119,
   "metadata": {
    "collapsed": false,
    "hidden": true,
    "run_control": {
     "frozen": false,
     "read_only": false
    }
   },
   "outputs": [],
   "source": [
    "_ = mturk.notify_workers(good_workers[:20], subject, message)"
   ]
  },
  {
   "cell_type": "markdown",
   "metadata": {},
   "source": [
    "# HIT end-of-life"
   ]
  },
  {
   "cell_type": "markdown",
   "metadata": {
    "heading_collapsed": true
   },
   "source": [
    "## Pickle latest results"
   ]
  },
  {
   "cell_type": "code",
   "execution_count": 1739,
   "metadata": {
    "collapsed": true,
    "hidden": true,
    "run_control": {
     "frozen": false,
     "read_only": false
    }
   },
   "outputs": [],
   "source": [
    "#reset as needed\n",
    "gn = 3"
   ]
  },
  {
   "cell_type": "code",
   "execution_count": 1740,
   "metadata": {
    "collapsed": false,
    "hidden": true,
    "run_control": {
     "frozen": false,
     "read_only": false
    }
   },
   "outputs": [
    {
     "data": {
      "text/plain": [
       "3"
      ]
     },
     "execution_count": 1740,
     "metadata": {},
     "output_type": "execute_result"
    }
   ],
   "source": [
    "gn"
   ]
  },
  {
   "cell_type": "code",
   "execution_count": 1743,
   "metadata": {
    "collapsed": false,
    "hidden": true,
    "run_control": {
     "frozen": false,
     "read_only": false
    }
   },
   "outputs": [
    {
     "name": "stdout",
     "output_type": "stream",
     "text": [
      "saved HIT batch number 3\n",
      "now onto batch 4\n"
     ]
    }
   ],
   "source": [
    "next_group = gn + 1\n",
    "group_n = '_' + str(gn) + '/'\n",
    "\n",
    "temp_store_dir = './store_hit_results_metadata/loc_group'\n",
    "try:\n",
    "    os.mkdir(temp_store_dir + group_n)\n",
    "except:\n",
    "    OSError\n",
    "    \n",
    "result_file_name = 'hit_info.pkl'\n",
    "assignment_file_name = 'assignment_info.pkl'\n",
    "raw_results_file_name = 'raw_res.pkl'\n",
    "complete_results_file = 'complete_df.pkl'\n",
    "consensus_results_file = 'consensus_df.pkl'\n",
    "\n",
    "amt_util.pickle_this(r_hits_current_batch, temp_store_dir + group_n + result_file_name)\n",
    "amt_util.pickle_this(assignment_results_current_batch, temp_store_dir + group_n + assignment_file_name)\n",
    "amt_util.pickle_this(raw_hit_results_current_batch, temp_store_dir + group_n + raw_results_file_name)\n",
    "results_df.to_pickle(temp_store_dir + group_n + complete_results_file)\n",
    "print 'saved HIT batch number ' + str(gn)\n",
    "print 'now onto batch ' +str(next_group) \n",
    "gn = next_group"
   ]
  },
  {
   "cell_type": "markdown",
   "metadata": {
    "heading_collapsed": true
   },
   "source": [
    "## Pickle combined dataset"
   ]
  },
  {
   "cell_type": "code",
   "execution_count": 429,
   "metadata": {
    "collapsed": false,
    "hidden": true,
    "run_control": {
     "frozen": false,
     "read_only": false
    }
   },
   "outputs": [],
   "source": [
    "temp_store_dir = './store_hit_results_metadata/group'\n",
    "group_n = '_latest_combined/'\n",
    "try:\n",
    "    os.mkdir(temp_store_dir + group_n)\n",
    "except:\n",
    "    OSError\n",
    "    \n",
    "complete_results_file = 'complete_df.pkl'\n",
    "consensus_results_file = 'consensus_df.pkl'\n",
    "consensus_results_file_w_workers = 'consensus_df_w_workers.pkl'\n",
    "\n",
    "combined_results_df.to_pickle(temp_store_dir + group_n + complete_results_file)\n",
    "combined_consensus_df.to_pickle(temp_store_dir + group_n + consensus_results_file)\n",
    "combined_consensus_with_workerid_df.to_pickle(temp_store_dir + group_n + consensus_results_file_w_workers)"
   ]
  },
  {
   "cell_type": "markdown",
   "metadata": {},
   "source": [
    "## Accepting and deleting HITs... careful with these"
   ]
  },
  {
   "cell_type": "markdown",
   "metadata": {},
   "source": [
    "Uncomment only when ready to accept or delete hits"
   ]
  },
  {
   "cell_type": "markdown",
   "metadata": {},
   "source": [
    "reject assignments carefully"
   ]
  },
  {
   "cell_type": "code",
   "execution_count": 321,
   "metadata": {
    "collapsed": false,
    "run_control": {
     "frozen": false,
     "read_only": false
    },
    "scrolled": false
   },
   "outputs": [],
   "source": [
    "# number_rejected_assignments, number_rejected_workers = amt_util.reject_assignments(mturk, workers_to_ban, combined_consensus_with_workerid_df)\n",
    "# print 'rejecting ' + str(number_rejected_assignments) + ' assignments' + ' from ' + str(number_rejected_workers) + ' workers'"
   ]
  },
  {
   "cell_type": "code",
   "execution_count": 1752,
   "metadata": {
    "collapsed": false
   },
   "outputs": [
    {
     "data": {
      "text/plain": [
       "3"
      ]
     },
     "execution_count": 1752,
     "metadata": {},
     "output_type": "execute_result"
    }
   ],
   "source": [
    "len()"
   ]
  },
  {
   "cell_type": "code",
   "execution_count": null,
   "metadata": {
    "collapsed": true
   },
   "outputs": [],
   "source": [
    "flattened_dict = {k: v for d in list_of_dicts for k, v in d.items()}\n",
    "flattened_dict = {**d1, **d2}\n",
    "flattened_list = [item for sublist in l for item in sublist]\n",
    "array.flatten()"
   ]
  },
  {
   "cell_type": "code",
   "execution_count": 1779,
   "metadata": {
    "collapsed": true
   },
   "outputs": [],
   "source": [
    "flattened_assignments = [item for sublist in assignment_results_current_batch.values() for item in sublist]"
   ]
  },
  {
   "cell_type": "code",
   "execution_count": 1780,
   "metadata": {
    "collapsed": false
   },
   "outputs": [
    {
     "data": {
      "text/plain": [
       "11013"
      ]
     },
     "execution_count": 1780,
     "metadata": {},
     "output_type": "execute_result"
    }
   ],
   "source": [
    "len(flattened_assignments)"
   ]
  },
  {
   "cell_type": "code",
   "execution_count": 1773,
   "metadata": {
    "collapsed": false,
    "run_control": {
     "frozen": false,
     "read_only": false
    }
   },
   "outputs": [
    {
     "data": {
      "text/plain": [
       "Submitted    7002\n",
       "Approved     3774\n",
       "Rejected      237\n",
       "dtype: int64"
      ]
     },
     "execution_count": 1773,
     "metadata": {},
     "output_type": "execute_result"
    }
   ],
   "source": [
    "# amt_util.get_assignment_statuses(assignment_results_current_batch)"
   ]
  },
  {
   "cell_type": "code",
   "execution_count": 1781,
   "metadata": {
    "collapsed": false
   },
   "outputs": [
    {
     "data": {
      "text/plain": [
       "Approved     7390\n",
       "Submitted    3386\n",
       "Rejected      237\n",
       "dtype: int64"
      ]
     },
     "execution_count": 1781,
     "metadata": {},
     "output_type": "execute_result"
    }
   ],
   "source": [
    "amt_util.get_assignment_statuses(assignment_results_current_batch)"
   ]
  },
  {
   "cell_type": "code",
   "execution_count": 1782,
   "metadata": {
    "collapsed": false,
    "run_control": {
     "frozen": false,
     "read_only": false
    },
    "scrolled": true
   },
   "outputs": [],
   "source": [
    "amt_util.accept_hits(mturk, flattened_assignments)"
   ]
  },
  {
   "cell_type": "code",
   "execution_count": 437,
   "metadata": {
    "collapsed": false,
    "run_control": {
     "frozen": false,
     "read_only": false
    }
   },
   "outputs": [],
   "source": [
    "# amt_util.delete_some_hits(mturk, assignment_results_current_batch_post_)"
   ]
  },
  {
   "cell_type": "code",
   "execution_count": 226,
   "metadata": {
    "collapsed": false,
    "run_control": {
     "frozen": false,
     "read_only": false
    }
   },
   "outputs": [],
   "source": [
    "# amt_util.delete_all_hits(mturk)"
   ]
  },
  {
   "cell_type": "markdown",
   "metadata": {
    "collapsed": true,
    "heading_collapsed": true,
    "run_control": {
     "frozen": false,
     "read_only": false
    }
   },
   "source": [
    "# End"
   ]
  },
  {
   "cell_type": "code",
   "execution_count": null,
   "metadata": {
    "collapsed": true,
    "hidden": true,
    "run_control": {
     "frozen": false,
     "read_only": false
    }
   },
   "outputs": [],
   "source": [
    "def area_intersect_over_union(segmentImage1, segmentImage2, segmentArea1 = 0, segmentArea2 = 0):\n",
    "    areaIntersection = np.sum(segmentImage1 & segmentImage2)\n",
    "    if areaIntersection == 0:\n",
    "        return 0, 0, 0\n",
    "    if segmentArea1 == 0:\n",
    "        segmentArea1 = np.sum(segmentImage1)\n",
    "    if segmentArea2 == 0:\n",
    "        segmentArea2 = np.sum(segmentImage2)\n",
    "    areaOverlap = areaIntersection / (segmentArea1 + segmentArea2 - areaIntersection + 0.01)\n",
    "    areaSelfOverlap1 = areaIntersection / (segmentArea1 + 0.01)\n",
    "    areaSelfOverlap2 = areaIntersection / (segmentArea2 + 0.01)\n",
    "    return areaOverlap, areaSelfOverlap1, areaSelfOverlap2\n",
    "\n",
    "\n",
    "def comp_iou(raw_image, ocr_box, anno_box):\n",
    "\n",
    "    def update_img(mask, box):\n",
    "        # box\n",
    "        # some rectangle of the structure [[start_x, start_y], [end_x, end_y]\n",
    "        start_x, start_y = box[0]\n",
    "        end_x, end_y = box[1]\n",
    "        mask[start_y:end_y + 1, start_x:end_x + 1] = True\n",
    "\n",
    "    mask_a = np.zeros(raw_image.shape[0:2], dtype=np.bool)\n",
    "    mask_b = np.zeros(raw_image.shape[0:2], dtype=np.bool)\n",
    "    update_img(mask_a, ocr_box['rectangle'])\n",
    "    update_img(mask_b, anno_box['rectangle'])\n",
    "\n",
    "    areaOverlap, areaSelfOverlap1, areaSelfOverlap2 = areaIntersectOverUnion(mask_a, mask_b)\n",
    "\n",
    "    #iou = (mask == 2).sum() / (mask >= 1).sum()\n",
    "    return areaOverlap, areaSelfOverlap1, areaSelfOverlap2 "
   ]
  },
  {
   "cell_type": "code",
   "execution_count": null,
   "metadata": {
    "collapsed": true,
    "hidden": true,
    "run_control": {
     "frozen": false,
     "read_only": false
    }
   },
   "outputs": [],
   "source": [
    "problem_name = 'continental_drift_9076.png'\n",
    "problem = diagram_locs[problem_name]\n",
    "\n",
    "\n",
    "image_path = flattened_topic_dir + problem_name\n",
    "drawn_image = draw_clusters(image_path, clustered_text_boxes_centers)\n",
    "Image.fromarray(drawn_image)\n",
    "\n",
    "[clust for clust in clustered_text_boxes_centers if len(clust) < 3]\n",
    "\n",
    "len (clustered_text_boxes)\n",
    "\n",
    "for box in clustered_text_boxes:\n",
    "    print box\n",
    "    print"
   ]
  },
  {
   "cell_type": "code",
   "execution_count": null,
   "metadata": {
    "collapsed": true,
    "hidden": true,
    "run_control": {
     "frozen": false,
     "read_only": false
    }
   },
   "outputs": [],
   "source": [
    "# def find_overlapping_boxes(user_boxes):\n",
    "#     for user in range(1, len(user_boxes)):\n",
    "#         for box1 in user_boxes[0]:\n",
    "#             for box2 in sorted(user_boxes[user]):\n",
    "#                 biou = comp_boxes_iou(box1, box2)\n",
    "#                 if biou > 0.5\n",
    "#                     print biou\n",
    "# #         print"
   ]
  }
 ],
 "metadata": {
  "kernelspec": {
   "display_name": "Python 2",
   "language": "python",
   "name": "python2"
  },
  "language_info": {
   "codemirror_mode": {
    "name": "ipython",
    "version": 2
   },
   "file_extension": ".py",
   "mimetype": "text/x-python",
   "name": "python",
   "nbconvert_exporter": "python",
   "pygments_lexer": "ipython2",
   "version": "2.7.12"
  }
 },
 "nbformat": 4,
 "nbformat_minor": 0
}
